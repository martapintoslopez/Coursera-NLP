{
 "cells": [
  {
   "cell_type": "code",
   "execution_count": 1,
   "metadata": {},
   "outputs": [],
   "source": [
    "import pandas as pd\n",
    "import re\n",
    "from collections import Counter \n",
    "import matplotlib.pyplot as plt "
   ]
  },
  {
   "cell_type": "code",
   "execution_count": 2,
   "metadata": {},
   "outputs": [
    {
     "data": {
      "text/html": [
       "<div>\n",
       "<style scoped>\n",
       "    .dataframe tbody tr th:only-of-type {\n",
       "        vertical-align: middle;\n",
       "    }\n",
       "\n",
       "    .dataframe tbody tr th {\n",
       "        vertical-align: top;\n",
       "    }\n",
       "\n",
       "    .dataframe thead th {\n",
       "        text-align: right;\n",
       "    }\n",
       "</style>\n",
       "<table border=\"1\" class=\"dataframe\">\n",
       "  <thead>\n",
       "    <tr style=\"text-align: right;\">\n",
       "      <th></th>\n",
       "      <th>Course Title</th>\n",
       "      <th>Rating</th>\n",
       "      <th>Level</th>\n",
       "      <th>Schedule</th>\n",
       "      <th>What you will learn</th>\n",
       "      <th>Skill gain</th>\n",
       "      <th>Modules</th>\n",
       "      <th>Instructor</th>\n",
       "      <th>Offered By</th>\n",
       "      <th>Keyword</th>\n",
       "      <th>Course Url</th>\n",
       "      <th>Duration to complete (Approx.)</th>\n",
       "      <th>Number of Review</th>\n",
       "    </tr>\n",
       "  </thead>\n",
       "  <tbody>\n",
       "    <tr>\n",
       "      <th>0</th>\n",
       "      <td>Fashion as Design</td>\n",
       "      <td>4.8</td>\n",
       "      <td>Beginner level</td>\n",
       "      <td>Flexible schedule</td>\n",
       "      <td>Not specified</td>\n",
       "      <td>Art History, Art, History, Creativity</td>\n",
       "      <td>Introduction, Heroes, Silhouettes, Coutures, L...</td>\n",
       "      <td>Anna Burckhardt, Paola Antonelli, Michelle Mil...</td>\n",
       "      <td>The Museum of Modern Art</td>\n",
       "      <td>Arts and Humanities</td>\n",
       "      <td>https://www.coursera.org/learn/fashion-design</td>\n",
       "      <td>20.0</td>\n",
       "      <td>2813</td>\n",
       "    </tr>\n",
       "    <tr>\n",
       "      <th>1</th>\n",
       "      <td>Modern American Poetry</td>\n",
       "      <td>4.4</td>\n",
       "      <td>Beginner level</td>\n",
       "      <td>Flexible schedule</td>\n",
       "      <td>Not specified</td>\n",
       "      <td>Not specified</td>\n",
       "      <td>Orientation, Module 1, Module 2, Module 3, Mod...</td>\n",
       "      <td>Cary Nelson</td>\n",
       "      <td>University of Illinois at Urbana-Champaign</td>\n",
       "      <td>Arts and Humanities</td>\n",
       "      <td>https://www.coursera.org/learn/modern-american...</td>\n",
       "      <td>34.0</td>\n",
       "      <td>100</td>\n",
       "    </tr>\n",
       "  </tbody>\n",
       "</table>\n",
       "</div>"
      ],
      "text/plain": [
       "             Course Title  Rating           Level           Schedule  \\\n",
       "0       Fashion as Design     4.8  Beginner level  Flexible schedule   \n",
       "1  Modern American Poetry     4.4  Beginner level  Flexible schedule   \n",
       "\n",
       "  What you will learn                             Skill gain  \\\n",
       "0       Not specified  Art History, Art, History, Creativity   \n",
       "1       Not specified                          Not specified   \n",
       "\n",
       "                                             Modules  \\\n",
       "0  Introduction, Heroes, Silhouettes, Coutures, L...   \n",
       "1  Orientation, Module 1, Module 2, Module 3, Mod...   \n",
       "\n",
       "                                          Instructor  \\\n",
       "0  Anna Burckhardt, Paola Antonelli, Michelle Mil...   \n",
       "1                                        Cary Nelson   \n",
       "\n",
       "                                   Offered By              Keyword  \\\n",
       "0                    The Museum of Modern Art  Arts and Humanities   \n",
       "1  University of Illinois at Urbana-Champaign  Arts and Humanities   \n",
       "\n",
       "                                          Course Url  \\\n",
       "0      https://www.coursera.org/learn/fashion-design   \n",
       "1  https://www.coursera.org/learn/modern-american...   \n",
       "\n",
       "   Duration to complete (Approx.)  Number of Review  \n",
       "0                            20.0              2813  \n",
       "1                            34.0               100  "
      ]
     },
     "execution_count": 2,
     "metadata": {},
     "output_type": "execute_result"
    }
   ],
   "source": [
    "df = pd.read_csv(\"data/DatasetFinal.csv\", index_col=0)\n",
    "df.head(2)"
   ]
  },
  {
   "cell_type": "code",
   "execution_count": 31,
   "metadata": {},
   "outputs": [
    {
     "data": {
      "text/plain": [
       "(8342, 13)"
      ]
     },
     "execution_count": 31,
     "metadata": {},
     "output_type": "execute_result"
    }
   ],
   "source": [
    "df.shape"
   ]
  },
  {
   "cell_type": "code",
   "execution_count": 12,
   "metadata": {},
   "outputs": [],
   "source": [
    "def processing_data(titles):\n",
    "    \"\"\"\n",
    "    Input: \n",
    "        Colum of cour \n",
    "    Output: \n",
    "        words: a list containing all the words in the corpus (text file you read) in lower case. \n",
    "    \"\"\"\n",
    "    words = [] # return this variable correctly\n",
    "    #title = []\n",
    "    \n",
    "    #Create a list with all the titles\n",
    "    title = [i for i in titles]\n",
    "\n",
    "    #Convert all the titles to a string\n",
    "    text = \"\"\n",
    "    for texts in title:\n",
    "        text = text + \" \" + texts\n",
    "    # convert all letters to lower case\n",
    "    text_lowercase = text.lower()\n",
    "\n",
    "    # some regex to tokenize the string to words and return them in a list\n",
    "    all_words = re.findall(r'\\w+', text_lowercase)\n",
    "    \n",
    "    return all_words"
   ]
  },
  {
   "cell_type": "code",
   "execution_count": 13,
   "metadata": {},
   "outputs": [
    {
     "name": "stdout",
     "output_type": "stream",
     "text": [
      "Number of titles 8342\n",
      "Number of words:  46836\n"
     ]
    }
   ],
   "source": [
    "words = processing_data(df[\"Course Title\"])\n",
    "print(f\"Number of titles {len(df[\"Course Title\"])}\")\n",
    "print('Number of words: ',len(words))"
   ]
  },
  {
   "cell_type": "markdown",
   "metadata": {},
   "source": [
    "# Create Dictionary with Frequencies\n",
    "- The dictionary's keys are words.\n",
    "- The value for each word is the number of times that word appears in the corpus.\n"
   ]
  },
  {
   "cell_type": "code",
   "execution_count": 14,
   "metadata": {},
   "outputs": [
    {
     "name": "stdout",
     "output_type": "stream",
     "text": [
      "Number of different words:  6275\n"
     ]
    }
   ],
   "source": [
    "# create vocab\n",
    "vocab = set(words)\n",
    "print('Number of different words: ',len(vocab))"
   ]
  },
  {
   "cell_type": "code",
   "execution_count": 15,
   "metadata": {},
   "outputs": [
    {
     "name": "stdout",
     "output_type": "stream",
     "text": [
      "Number of different words:  6275\n",
      "The count for the word 'specialization' is 1360\n"
     ]
    }
   ],
   "source": [
    "def counting_words(the_words):\n",
    "    '''\n",
    "    Input: \n",
    "        the_words: set of words of the corpus\n",
    "    Output:\n",
    "        dict_word_count: Dictionary where the key is a word and the value is the number of times it appears.\n",
    "    '''\n",
    "    dict_count = {}\n",
    "    dict_count = Counter(the_words)\n",
    "    return dict_count\n",
    "\n",
    "dict_word_count  = counting_words(words)\n",
    "print('Number of different words: ',len(dict_word_count)) \n",
    "print(f\"The count for the word 'specialization' is {dict_word_count.get(\"specialization\")}\")"
   ]
  },
  {
   "cell_type": "markdown",
   "metadata": {},
   "source": [
    "# Dictionary of Probabilities \n",
    "- Compute the probability that each word will appear\n",
    "\n",
    "$$P(w_i) = \\frac{C(w_i)}{M} \\tag{Eqn-2}$$\n",
    "\n",
    "where \n",
    "\n",
    "$C(w_i)$ is the total number of times $w_i$ appears in the corpus.\n",
    "\n",
    "$M$ is the total number of words in the corpus."
   ]
  },
  {
   "cell_type": "code",
   "execution_count": 16,
   "metadata": {},
   "outputs": [],
   "source": [
    "def get_probs(dict_count):\n",
    "    '''\n",
    "    Input:\n",
    "        dict_count: The wordcount dictionary where key is the word and value is its frequency.\n",
    "    Output:\n",
    "        probs: A dictionary where keys are the words and the values are the probability that a word will occur. \n",
    "    '''\n",
    "    probs = {}  # return this variable correctly\n",
    "\n",
    "    # get the total count of words for all words in the dictionary\n",
    "    m = sum(dict_count.values())\n",
    "    probs = {word: count/m for word, count in dict_count.items()}\n",
    "\n",
    "    return probs"
   ]
  },
  {
   "cell_type": "code",
   "execution_count": 17,
   "metadata": {},
   "outputs": [
    {
     "name": "stdout",
     "output_type": "stream",
     "text": [
      "The probability for the word 'specialization' is 0.029037492527115894\n",
      "The probability for the word 'fashion' is 0.0002989153642497224\n"
     ]
    }
   ],
   "source": [
    "probs = get_probs(dict_word_count)\n",
    "print(f\"The probability for the word 'specialization' is {probs.get(\"specialization\")}\")\n",
    "print(f\"The probability for the word 'fashion' is {probs.get(\"fashion\")}\")"
   ]
  },
  {
   "cell_type": "markdown",
   "metadata": {},
   "source": [
    "### Sumary:\n",
    "* Set with all the different words: `vocab`\n",
    "* Dictionary with frequencies: `dict_word_count`\n",
    "* Dictionary with probabilities: `prob`"
   ]
  },
  {
   "cell_type": "markdown",
   "metadata": {},
   "source": [
    "# String Manipulations\n",
    "- functions to manipulate strings"
   ]
  },
  {
   "cell_type": "code",
   "execution_count": 130,
   "metadata": {},
   "outputs": [],
   "source": [
    "def spliting(word):\n",
    "    '''\n",
    "    Input:\n",
    "        word: input string\n",
    "    Output:\n",
    "        splits: a list of all possible strings dividing the word in two parts\n",
    "    '''\n",
    "    split = []\n",
    "    split = [(word[:L],word[L:]) for L in range(len(word))]\n",
    "    return split"
   ]
  },
  {
   "cell_type": "code",
   "execution_count": 131,
   "metadata": {},
   "outputs": [],
   "source": [
    "def delete_letter(word):\n",
    "    '''\n",
    "    Input:\n",
    "        word: input string\n",
    "    Output:\n",
    "        delete_l: a list of all possible strings with one missing letter from word\n",
    "    '''\n",
    "    del_letter = []\n",
    "    del_letter = [L+R[1:] for L,R in spliting(word) if R]\n",
    "\n",
    "    return del_letter"
   ]
  },
  {
   "cell_type": "code",
   "execution_count": 164,
   "metadata": {},
   "outputs": [],
   "source": [
    "def switch_letter(word):\n",
    "    '''\n",
    "    Input:\n",
    "        word: input string\n",
    "     Output:\n",
    "        switch: a list of all possible strings with one adjacent letter switched from word\n",
    "    ''' \n",
    "    switch = []\n",
    "    switch = [L+R[1]+R[0]+R[2:] for L,R in spliting(word) if len(R)>=2]\n",
    "\n",
    "    return switch"
   ]
  },
  {
   "cell_type": "code",
   "execution_count": 165,
   "metadata": {},
   "outputs": [],
   "source": [
    "def replace_letter(word):\n",
    "    '''\n",
    "    Input:\n",
    "        word: input string \n",
    "    Output:\n",
    "        replaces: a list of all possible strings where one letter is replaced from the original word. \n",
    "    '''\n",
    "    letters = 'abcdefghijklmnopqrstuvwxyzáéíóú'\n",
    "    \n",
    "    replace = []\n",
    "    replace = [L+x+(R[1:] if len(R)>1 else \"\") for L,R in spliting(word) for x in letters]\n",
    "    return replace"
   ]
  },
  {
   "cell_type": "code",
   "execution_count": 166,
   "metadata": {},
   "outputs": [],
   "source": [
    "def insert_letter(word):\n",
    "    '''\n",
    "    Input:\n",
    "        word: input string\n",
    "    Output:\n",
    "        insert: a set of all possible strings with one new letter inserted in the original word\n",
    "    ''' \n",
    "    letters = 'abcdefghijklmnopqrstuvwxyzáéíóú'\n",
    "    insert = []\n",
    "    insert = [L + x + R for L,R in spliting(word) for x in letters]\n",
    "    \n",
    "    return insert"
   ]
  },
  {
   "cell_type": "code",
   "execution_count": 167,
   "metadata": {},
   "outputs": [
    {
     "name": "stdout",
     "output_type": "stream",
     "text": [
      "splits = [('', 'car'), ('c', 'ar'), ('ca', 'r')], \n",
      "\n",
      "word without a letter = ['ar', 'cr', 'ca']\n",
      "-------------------------------------------------------------------------------------\n",
      "swithes = ['acr', 'cra']\n",
      "-------------------------------------------------------------------------------------\n",
      "new word with one changed letter = ['aar', 'bar', 'car', 'dar', 'ear', 'far', 'gar', 'har', 'iar', 'jar', 'kar', 'lar', 'mar', 'nar', 'oar', 'par', 'qar', 'rar', 'sar', 'tar', 'uar', 'var', 'war', 'xar', 'yar', 'zar', 'áar', 'éar', 'íar', 'óar', 'úar', 'car', 'cbr', 'ccr', 'cdr', 'cer', 'cfr', 'cgr', 'chr', 'cir', 'cjr', 'ckr', 'clr', 'cmr', 'cnr', 'cor', 'cpr', 'cqr', 'crr', 'csr', 'ctr', 'cur', 'cvr', 'cwr', 'cxr', 'cyr', 'czr', 'cár', 'cér', 'cír', 'cór', 'cúr', 'caa', 'cab', 'cac', 'cad', 'cae', 'caf', 'cag', 'cah', 'cai', 'caj', 'cak', 'cal', 'cam', 'can', 'cao', 'cap', 'caq', 'car', 'cas', 'cat', 'cau', 'cav', 'caw', 'cax', 'cay', 'caz', 'caá', 'caé', 'caí', 'caó', 'caú']\n",
      "-------------------------------------------------------------------------------------\n",
      "insertions = ['acar', 'bcar', 'ccar', 'dcar', 'ecar', 'fcar', 'gcar', 'hcar', 'icar', 'jcar', 'kcar', 'lcar', 'mcar', 'ncar', 'ocar', 'pcar', 'qcar', 'rcar', 'scar', 'tcar', 'ucar', 'vcar', 'wcar', 'xcar', 'ycar', 'zcar', 'ácar', 'écar', 'ícar', 'ócar', 'úcar', 'caar', 'cbar', 'ccar', 'cdar', 'cear', 'cfar', 'cgar', 'char', 'ciar', 'cjar', 'ckar', 'clar', 'cmar', 'cnar', 'coar', 'cpar', 'cqar', 'crar', 'csar', 'ctar', 'cuar', 'cvar', 'cwar', 'cxar', 'cyar', 'czar', 'cáar', 'céar', 'cíar', 'cóar', 'cúar', 'caar', 'cabr', 'cacr', 'cadr', 'caer', 'cafr', 'cagr', 'cahr', 'cair', 'cajr', 'cakr', 'calr', 'camr', 'canr', 'caor', 'capr', 'caqr', 'carr', 'casr', 'catr', 'caur', 'cavr', 'cawr', 'caxr', 'cayr', 'cazr', 'caár', 'caér', 'caír', 'caór', 'caúr']\n"
     ]
    }
   ],
   "source": [
    "word_manipulate = \"car\"\n",
    "del_letter = delete_letter(word_manipulate)\n",
    "print(f\"splits = {spliting(word_manipulate)}, \\n\\nword without a letter = {del_letter}\")\n",
    "print(\"-------------------------------------------------------------------------------------\")\n",
    "switch = switch_letter(word_manipulate)\n",
    "print(f\"swithes = {switch}\")\n",
    "print(\"-------------------------------------------------------------------------------------\")\n",
    "replaced = replace_letter(word_manipulate)\n",
    "print(f\"new word with one changed letter = {replaced}\")\n",
    "print(\"-------------------------------------------------------------------------------------\")\n",
    "inserts = insert_letter(word_manipulate)\n",
    "print(f\"insertions = {inserts}\")"
   ]
  },
  {
   "cell_type": "markdown",
   "metadata": {},
   "source": [
    "# Corrections \n",
    "- One or two letters corrected"
   ]
  },
  {
   "cell_type": "code",
   "execution_count": 372,
   "metadata": {},
   "outputs": [],
   "source": [
    "def one_letter_edited(word):\n",
    "    \"\"\"\n",
    "    Input:\n",
    "        word: string for which we will generate all possible words.\n",
    "    Output:\n",
    "        edition_one: a set of words with one possible edit. \n",
    "    \"\"\"\n",
    "    \n",
    "    edition_one = set()\n",
    "    \n",
    "    edition_one.update(delete_letter(word))\n",
    "    edition_one.update(switch_letter(word))\n",
    "    edition_one.update(replace_letter(word))\n",
    "    edition_one.update(insert_letter(word))\n",
    "    \n",
    "    edition_one = sorted(list(edition_one))\n",
    "    \n",
    "    return edition_one"
   ]
  },
  {
   "cell_type": "code",
   "execution_count": 373,
   "metadata": {},
   "outputs": [],
   "source": [
    "def two_letter_edited(word):\n",
    "    \"\"\"\n",
    "    Input:\n",
    "        word: string for which we will generate all possible words.\n",
    "    Output:\n",
    "        edition_two: a set of words with two possible edits. \n",
    "    \"\"\"\n",
    "    \n",
    "    edition_two = set()\n",
    "    \n",
    "    edit_one = one_letter_edited(word)\n",
    "    for w in edit_one:\n",
    "        if w:\n",
    "            edit_two = one_letter_edited(w)\n",
    "            edition_two.update(edit_two)\n",
    "\n",
    "    edition_two_sorted = sorted(list(edition_two))\n",
    "    \n",
    "    return edition_two_sorted"
   ]
  },
  {
   "cell_type": "code",
   "execution_count": 370,
   "metadata": {},
   "outputs": [
    {
     "data": {
      "text/plain": [
       "0                                    Fashion as Design\n",
       "1                               Modern American Poetry\n",
       "2                            Pixel Art for Video Games\n",
       "3      Distribución digital de la música independiente\n",
       "4    The Blues: Understanding and Performing an Ame...\n",
       "Name: Course Title, dtype: object"
      ]
     },
     "execution_count": 370,
     "metadata": {},
     "output_type": "execute_result"
    }
   ],
   "source": [
    "df[\"Course Title\"][:5]"
   ]
  },
  {
   "cell_type": "code",
   "execution_count": 374,
   "metadata": {},
   "outputs": [
    {
     "name": "stdout",
     "output_type": "stream",
     "text": [
      "With one letter modified:\n",
      "blue\n",
      "blues\n",
      "\n",
      "With two letters modified:\n",
      "bases\n",
      "bites\n",
      "blue\n",
      "blues\n",
      "bones\n",
      "bugs\n",
      "bus\n",
      "bytes\n",
      "les\n",
      "lies\n",
      "rules\n",
      "values\n"
     ]
    }
   ],
   "source": [
    "print(\"With one letter modified:\")\n",
    "incorrect_word = \"Blues\"\n",
    "for x in one_letter_edited(incorrect_word.lower()):\n",
    "    if x in vocab:\n",
    "        print(x)\n",
    "\n",
    "print(\"\\nWith two letters modified:\")    \n",
    "for x in two_letter_edited(incorrect_word.lower()):\n",
    "    x= x.lower()\n",
    "    if x in vocab:\n",
    "        print(x)"
   ]
  },
  {
   "cell_type": "markdown",
   "metadata": {},
   "source": [
    "# Probabilities of the different corrections"
   ]
  },
  {
   "cell_type": "code",
   "execution_count": 415,
   "metadata": {},
   "outputs": [],
   "source": [
    "def getting_corrections(word, probs, vocab, n=2):\n",
    "    '''\n",
    "    Input: \n",
    "        word: a string to check for suggestions\n",
    "        probs: the dictionary with words from the corpus and its probability\n",
    "        vocab: a set of all the vocabulary\n",
    "        n: number of possible word corrections \n",
    "    Output: \n",
    "        n_best: a list of tuples with the most probable n corrected words and their probabilities.\n",
    "    '''\n",
    "    possible = []\n",
    "    corrections = []\n",
    "    suggestions = []\n",
    "\n",
    "    possible =  set(one_letter_edited(word.lower()) + two_letter_edited(word.lower()))\n",
    "    corrections = [[w, probs[w]] for w in possible if w in vocab]\n",
    "\n",
    "    for word_prob in corrections: \n",
    "        suggestions.append(word_prob[0])\n",
    "        \n",
    "    return sorted(corrections), sorted(suggestions)"
   ]
  },
  {
   "cell_type": "markdown",
   "metadata": {},
   "source": [
    "### The most probable word is..."
   ]
  },
  {
   "cell_type": "code",
   "execution_count": 429,
   "metadata": {},
   "outputs": [
    {
     "name": "stdout",
     "output_type": "stream",
     "text": [
      "Suggestions are ['básica', 'fisica', 'física', 'munich', 'music', 'musical', 'música', 'músico']\n",
      "word 0: básica -> with a probability of 0.00004\n",
      "word 1: fisica -> with a probability of 0.00006\n",
      "word 2: física -> with a probability of 0.00009\n",
      "word 3: munich -> with a probability of 0.00002\n",
      "word 4: music -> with a probability of 0.00117\n",
      "word 5: musical -> with a probability of 0.00028\n",
      "word 6: música -> with a probability of 0.00006\n",
      "word 7: músico -> with a probability of 0.00009\n",
      "\n",
      "---The most probable word is 'music' with a probability of 0.00117---\n"
     ]
    }
   ],
   "source": [
    "correction, suggestions = getting_corrections(\"musica\", probs, vocab, n=2)\n",
    "print(f\"Suggestions are {suggestions}\")\n",
    "max_prob = 0\n",
    "for i, word_prob in enumerate(correction): \n",
    "    suggestions.append(word_prob[0])\n",
    "    print(f\"word {i}: {word_prob[0]} -> with a probability of {word_prob[1]:.5f}\")\n",
    "    if word_prob[1] > max_prob:\n",
    "        max_prob = word_prob[1]\n",
    "        prob_word = word_prob[0]\n",
    "        \n",
    "print(f\"\\n---The most probable word is '{prob_word}' with a probability of {max_prob:.5f}---\")"
   ]
  },
  {
   "cell_type": "code",
   "execution_count": null,
   "metadata": {},
   "outputs": [],
   "source": []
  },
  {
   "cell_type": "code",
   "execution_count": null,
   "metadata": {},
   "outputs": [],
   "source": []
  }
 ],
 "metadata": {
  "kernelspec": {
   "display_name": "NLPcurso",
   "language": "python",
   "name": "python3"
  },
  "language_info": {
   "codemirror_mode": {
    "name": "ipython",
    "version": 3
   },
   "file_extension": ".py",
   "mimetype": "text/x-python",
   "name": "python",
   "nbconvert_exporter": "python",
   "pygments_lexer": "ipython3",
   "version": "3.12.2"
  }
 },
 "nbformat": 4,
 "nbformat_minor": 2
}
