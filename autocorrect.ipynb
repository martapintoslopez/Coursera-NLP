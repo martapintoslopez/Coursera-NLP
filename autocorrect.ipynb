{
 "cells": [
  {
   "cell_type": "code",
   "execution_count": 1,
   "metadata": {},
   "outputs": [],
   "source": [
    "import pandas as pd\n",
    "import re\n",
    "from collections import Counter \n",
    "import matplotlib.pyplot as plt "
   ]
  },
  {
   "cell_type": "code",
   "execution_count": 2,
   "metadata": {},
   "outputs": [
    {
     "data": {
      "text/html": [
       "<div>\n",
       "<style scoped>\n",
       "    .dataframe tbody tr th:only-of-type {\n",
       "        vertical-align: middle;\n",
       "    }\n",
       "\n",
       "    .dataframe tbody tr th {\n",
       "        vertical-align: top;\n",
       "    }\n",
       "\n",
       "    .dataframe thead th {\n",
       "        text-align: right;\n",
       "    }\n",
       "</style>\n",
       "<table border=\"1\" class=\"dataframe\">\n",
       "  <thead>\n",
       "    <tr style=\"text-align: right;\">\n",
       "      <th></th>\n",
       "      <th>Course Title</th>\n",
       "      <th>Rating</th>\n",
       "      <th>Level</th>\n",
       "      <th>Schedule</th>\n",
       "      <th>What you will learn</th>\n",
       "      <th>Skill gain</th>\n",
       "      <th>Modules</th>\n",
       "      <th>Instructor</th>\n",
       "      <th>Offered By</th>\n",
       "      <th>Keyword</th>\n",
       "      <th>Course Url</th>\n",
       "      <th>Duration to complete (Approx.)</th>\n",
       "      <th>Number of Review</th>\n",
       "    </tr>\n",
       "  </thead>\n",
       "  <tbody>\n",
       "    <tr>\n",
       "      <th>0</th>\n",
       "      <td>Fashion as Design</td>\n",
       "      <td>4.8</td>\n",
       "      <td>Beginner level</td>\n",
       "      <td>Flexible schedule</td>\n",
       "      <td>Not specified</td>\n",
       "      <td>Art History, Art, History, Creativity</td>\n",
       "      <td>Introduction, Heroes, Silhouettes, Coutures, L...</td>\n",
       "      <td>Anna Burckhardt, Paola Antonelli, Michelle Mil...</td>\n",
       "      <td>The Museum of Modern Art</td>\n",
       "      <td>Arts and Humanities</td>\n",
       "      <td>https://www.coursera.org/learn/fashion-design</td>\n",
       "      <td>20.0</td>\n",
       "      <td>2813</td>\n",
       "    </tr>\n",
       "    <tr>\n",
       "      <th>1</th>\n",
       "      <td>Modern American Poetry</td>\n",
       "      <td>4.4</td>\n",
       "      <td>Beginner level</td>\n",
       "      <td>Flexible schedule</td>\n",
       "      <td>Not specified</td>\n",
       "      <td>Not specified</td>\n",
       "      <td>Orientation, Module 1, Module 2, Module 3, Mod...</td>\n",
       "      <td>Cary Nelson</td>\n",
       "      <td>University of Illinois at Urbana-Champaign</td>\n",
       "      <td>Arts and Humanities</td>\n",
       "      <td>https://www.coursera.org/learn/modern-american...</td>\n",
       "      <td>34.0</td>\n",
       "      <td>100</td>\n",
       "    </tr>\n",
       "  </tbody>\n",
       "</table>\n",
       "</div>"
      ],
      "text/plain": [
       "             Course Title  Rating           Level           Schedule  \\\n",
       "0       Fashion as Design     4.8  Beginner level  Flexible schedule   \n",
       "1  Modern American Poetry     4.4  Beginner level  Flexible schedule   \n",
       "\n",
       "  What you will learn                             Skill gain  \\\n",
       "0       Not specified  Art History, Art, History, Creativity   \n",
       "1       Not specified                          Not specified   \n",
       "\n",
       "                                             Modules  \\\n",
       "0  Introduction, Heroes, Silhouettes, Coutures, L...   \n",
       "1  Orientation, Module 1, Module 2, Module 3, Mod...   \n",
       "\n",
       "                                          Instructor  \\\n",
       "0  Anna Burckhardt, Paola Antonelli, Michelle Mil...   \n",
       "1                                        Cary Nelson   \n",
       "\n",
       "                                   Offered By              Keyword  \\\n",
       "0                    The Museum of Modern Art  Arts and Humanities   \n",
       "1  University of Illinois at Urbana-Champaign  Arts and Humanities   \n",
       "\n",
       "                                          Course Url  \\\n",
       "0      https://www.coursera.org/learn/fashion-design   \n",
       "1  https://www.coursera.org/learn/modern-american...   \n",
       "\n",
       "   Duration to complete (Approx.)  Number of Review  \n",
       "0                            20.0              2813  \n",
       "1                            34.0               100  "
      ]
     },
     "execution_count": 2,
     "metadata": {},
     "output_type": "execute_result"
    }
   ],
   "source": [
    "df = pd.read_csv(\"data/DatasetFinal.csv\", index_col=0)\n",
    "df.head(2)"
   ]
  },
  {
   "cell_type": "code",
   "execution_count": 31,
   "metadata": {},
   "outputs": [
    {
     "data": {
      "text/plain": [
       "(8342, 13)"
      ]
     },
     "execution_count": 31,
     "metadata": {},
     "output_type": "execute_result"
    }
   ],
   "source": [
    "df.shape"
   ]
  },
  {
   "cell_type": "code",
   "execution_count": 12,
   "metadata": {},
   "outputs": [],
   "source": [
    "def processing_data(titles):\n",
    "    \"\"\"\n",
    "    Input: \n",
    "        Colum of cour \n",
    "    Output: \n",
    "        words: a list containing all the words in the corpus (text file you read) in lower case. \n",
    "    \"\"\"\n",
    "    words = [] # return this variable correctly\n",
    "    #title = []\n",
    "    \n",
    "    #Create a list with all the titles\n",
    "    title = [i for i in titles]\n",
    "\n",
    "    #Convert all the titles to a string\n",
    "    text = \"\"\n",
    "    for texts in title:\n",
    "        text = text + \" \" + texts\n",
    "    # convert all letters to lower case\n",
    "    text_lowercase = text.lower()\n",
    "\n",
    "    # some regex to tokenize the string to words and return them in a list\n",
    "    all_words = re.findall(r'\\w+', text_lowercase)\n",
    "    \n",
    "    return all_words"
   ]
  },
  {
   "cell_type": "code",
   "execution_count": 13,
   "metadata": {},
   "outputs": [
    {
     "name": "stdout",
     "output_type": "stream",
     "text": [
      "Number of titles 8342\n",
      "Number of words:  46836\n"
     ]
    }
   ],
   "source": [
    "words = processing_data(df[\"Course Title\"])\n",
    "print(f\"Number of titles {len(df[\"Course Title\"])}\")\n",
    "print('Number of words: ',len(words))"
   ]
  },
  {
   "cell_type": "markdown",
   "metadata": {},
   "source": [
    "# Create Dictionary with Frequencies\n",
    "- The dictionary's keys are words.\n",
    "- The value for each word is the number of times that word appears in the corpus.\n"
   ]
  },
  {
   "cell_type": "code",
   "execution_count": 14,
   "metadata": {},
   "outputs": [
    {
     "name": "stdout",
     "output_type": "stream",
     "text": [
      "Number of different words:  6275\n"
     ]
    }
   ],
   "source": [
    "# create vocab\n",
    "vocab = set(words)\n",
    "print('Number of different words: ',len(vocab))"
   ]
  },
  {
   "cell_type": "code",
   "execution_count": 15,
   "metadata": {},
   "outputs": [
    {
     "name": "stdout",
     "output_type": "stream",
     "text": [
      "Number of different words:  6275\n",
      "The count for the word 'specialization' is 1360\n"
     ]
    }
   ],
   "source": [
    "def counting_words(the_words):\n",
    "    '''\n",
    "    Input: \n",
    "        the_words: set of words of the corpus\n",
    "    Output:\n",
    "        dict_word_count: Dictionary where the key is a word and the value is the number of times it appears.\n",
    "    '''\n",
    "    dict_count = {}\n",
    "    dict_count = Counter(the_words)\n",
    "    return dict_count\n",
    "\n",
    "dict_word_count  = counting_words(words)\n",
    "print('Number of different words: ',len(dict_word_count)) \n",
    "print(f\"The count for the word 'specialization' is {dict_word_count.get(\"specialization\")}\")"
   ]
  },
  {
   "cell_type": "markdown",
   "metadata": {},
   "source": [
    "# Dictionary of Probabilities \n",
    "- Compute the probability that each word will appear\n",
    "\n",
    "$$P(w_i) = \\frac{C(w_i)}{M} \\tag{Eqn-2}$$\n",
    "\n",
    "where \n",
    "\n",
    "$C(w_i)$ is the total number of times $w_i$ appears in the corpus.\n",
    "\n",
    "$M$ is the total number of words in the corpus."
   ]
  },
  {
   "cell_type": "code",
   "execution_count": 16,
   "metadata": {},
   "outputs": [],
   "source": [
    "def get_probs(dict_count):\n",
    "    '''\n",
    "    Input:\n",
    "        dict_count: The wordcount dictionary where key is the word and value is its frequency.\n",
    "    Output:\n",
    "        probs: A dictionary where keys are the words and the values are the probability that a word will occur. \n",
    "    '''\n",
    "    probs = {}  # return this variable correctly\n",
    "\n",
    "    # get the total count of words for all words in the dictionary\n",
    "    m = sum(dict_count.values())\n",
    "    probs = {word: count/m for word, count in dict_count.items()}\n",
    "\n",
    "    return probs"
   ]
  },
  {
   "cell_type": "code",
   "execution_count": 17,
   "metadata": {},
   "outputs": [
    {
     "name": "stdout",
     "output_type": "stream",
     "text": [
      "The probability for the word 'specialization' is 0.029037492527115894\n",
      "The probability for the word 'fashion' is 0.0002989153642497224\n"
     ]
    }
   ],
   "source": [
    "probs = get_probs(dict_word_count)\n",
    "print(f\"The probability for the word 'specialization' is {probs.get(\"specialization\")}\")\n",
    "print(f\"The probability for the word 'fashion' is {probs.get(\"fashion\")}\")"
   ]
  },
  {
   "cell_type": "markdown",
   "metadata": {},
   "source": [
    "### Sumary:\n",
    "* Set with all the different words: `Vocab`\n",
    "* Dictionary with frequencies: `dict_word_count`\n",
    "* Dictionary with probabilities: `prob`"
   ]
  },
  {
   "cell_type": "markdown",
   "metadata": {},
   "source": [
    "# String Manipulations\n",
    "- functions to manipulate strings"
   ]
  },
  {
   "cell_type": "code",
   "execution_count": 52,
   "metadata": {},
   "outputs": [],
   "source": [
    "def delete_char(word):\n",
    "    '''\n",
    "    Input:\n",
    "        word: input string\n",
    "    Output:\n",
    "        delete_l: a list of all possible strings with one missing character from word\n",
    "    '''\n",
    "    del_letter = []\n",
    "    splits = []\n",
    "    \n",
    "    splits = [(word[:L],word[L:]) for L in range(len(word))]\n",
    "    del_letter = [L+R[1:] for L,R in splits if R]\n",
    "\n",
    "    return del_letter, splits"
   ]
  },
  {
   "cell_type": "code",
   "execution_count": 53,
   "metadata": {},
   "outputs": [],
   "source": [
    "def switch_char(word):\n",
    "    '''\n",
    "    Input:\n",
    "        word: input string\n",
    "     Output:\n",
    "        switch: a list of all possible strings with one adjacent charater switched from word\n",
    "    ''' \n",
    "    switch = []\n",
    "    splits = []\n",
    "    \n",
    "    splits = [(word[:L],word[L:]) for L in range(len(word))]\n",
    "    switch = [L+R[1]+R[0]+R[2:] for L,R in splits if len(R)>=2]\n",
    "\n",
    "    return switch, splits"
   ]
  },
  {
   "cell_type": "code",
   "execution_count": null,
   "metadata": {},
   "outputs": [],
   "source": []
  },
  {
   "cell_type": "code",
   "execution_count": 59,
   "metadata": {},
   "outputs": [
    {
     "name": "stdout",
     "output_type": "stream",
     "text": [
      "splits = [('', 'guapo'), ('g', 'uapo'), ('gu', 'apo'), ('gua', 'po'), ('guap', 'o')], \n",
      "word without a letter = ['uapo', 'gapo', 'gupo', 'guao', 'guap']\n"
     ]
    }
   ],
   "source": [
    "del_letter, splits = delete_char(\"guapo\")\n",
    "print(f\"splits = {splits}, \\nword without a letter = {del_letter}\")"
   ]
  },
  {
   "cell_type": "code",
   "execution_count": 58,
   "metadata": {},
   "outputs": [
    {
     "name": "stdout",
     "output_type": "stream",
     "text": [
      "splits = [('', 'guapo'), ('g', 'uapo'), ('gu', 'apo'), ('gua', 'po'), ('guap', 'o')], \n",
      "swithes = ['ugapo', 'gaupo', 'gupao', 'guaop']\n"
     ]
    }
   ],
   "source": [
    "switch, splits = switch_char(\"guapo\")\n",
    "print(f\"splits = {splits}, \\nswithes = {switch}\")"
   ]
  },
  {
   "cell_type": "code",
   "execution_count": null,
   "metadata": {},
   "outputs": [],
   "source": []
  }
 ],
 "metadata": {
  "kernelspec": {
   "display_name": "NLPcurso",
   "language": "python",
   "name": "python3"
  },
  "language_info": {
   "codemirror_mode": {
    "name": "ipython",
    "version": 3
   },
   "file_extension": ".py",
   "mimetype": "text/x-python",
   "name": "python",
   "nbconvert_exporter": "python",
   "pygments_lexer": "ipython3",
   "version": "3.12.2"
  }
 },
 "nbformat": 4,
 "nbformat_minor": 2
}
