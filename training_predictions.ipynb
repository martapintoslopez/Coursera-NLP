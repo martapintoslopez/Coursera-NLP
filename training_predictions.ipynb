{
 "cells": [
  {
   "cell_type": "code",
   "execution_count": 8,
   "metadata": {},
   "outputs": [
    {
     "name": "stderr",
     "output_type": "stream",
     "text": [
      "[nltk_data] Downloading package punkt to /Users/marta/nltk_data...\n",
      "[nltk_data]   Package punkt is already up-to-date!\n",
      "[nltk_data] Downloading package stopwords to /Users/marta/nltk_data...\n",
      "[nltk_data]   Package stopwords is already up-to-date!\n"
     ]
    }
   ],
   "source": [
    "#import re                                  # library for regular expression operations\n",
    "#import string                              # for string operations\n",
    "import pandas as pd\n",
    "import numpy as np\n",
    "\n",
    "import matplotlib.pyplot as plt            # library for visualization\n",
    "import nltk                                # Python library for NLP\n",
    "from nltk.corpus import stopwords          # module for stop words that come with NLTK\n",
    "from nltk.stem import PorterStemmer        # module for stemming\n",
    "from nltk.tokenize import word_tokenize    # module for tokenizing strings\n",
    "\n",
    "from sklearn.model_selection import train_test_split\n",
    "\n",
    "#We are going to use a tokenizer that requires the Punkt sentence tokenization models to be installed.\n",
    "nltk.download('punkt')\n",
    "# download the stopwords from NLTK\n",
    "nltk.download('stopwords')\n",
    "    \n",
    "import functions as fun\n"
   ]
  },
  {
   "cell_type": "code",
   "execution_count": 9,
   "metadata": {},
   "outputs": [
    {
     "data": {
      "text/html": [
       "<div>\n",
       "<style scoped>\n",
       "    .dataframe tbody tr th:only-of-type {\n",
       "        vertical-align: middle;\n",
       "    }\n",
       "\n",
       "    .dataframe tbody tr th {\n",
       "        vertical-align: top;\n",
       "    }\n",
       "\n",
       "    .dataframe thead th {\n",
       "        text-align: right;\n",
       "    }\n",
       "</style>\n",
       "<table border=\"1\" class=\"dataframe\">\n",
       "  <thead>\n",
       "    <tr style=\"text-align: right;\">\n",
       "      <th></th>\n",
       "      <th>Unnamed: 0</th>\n",
       "      <th>Course Title</th>\n",
       "      <th>Rating</th>\n",
       "      <th>Level</th>\n",
       "      <th>Schedule</th>\n",
       "      <th>What you will learn</th>\n",
       "      <th>Skill gain</th>\n",
       "      <th>Modules</th>\n",
       "      <th>Instructor</th>\n",
       "      <th>Offered By</th>\n",
       "      <th>Keyword</th>\n",
       "      <th>Course Url</th>\n",
       "      <th>Duration to complete (Approx.)</th>\n",
       "      <th>Number of Review</th>\n",
       "    </tr>\n",
       "  </thead>\n",
       "  <tbody>\n",
       "    <tr>\n",
       "      <th>0</th>\n",
       "      <td>0</td>\n",
       "      <td>Fashion as Design</td>\n",
       "      <td>4.8</td>\n",
       "      <td>Beginner level</td>\n",
       "      <td>Flexible schedule</td>\n",
       "      <td>Not specified</td>\n",
       "      <td>Art History, Art, History, Creativity</td>\n",
       "      <td>Introduction, Heroes, Silhouettes, Coutures, L...</td>\n",
       "      <td>Anna Burckhardt, Paola Antonelli, Michelle Mil...</td>\n",
       "      <td>The Museum of Modern Art</td>\n",
       "      <td>Arts and Humanities</td>\n",
       "      <td>https://www.coursera.org/learn/fashion-design</td>\n",
       "      <td>20.0</td>\n",
       "      <td>2813.0</td>\n",
       "    </tr>\n",
       "    <tr>\n",
       "      <th>1</th>\n",
       "      <td>1</td>\n",
       "      <td>Modern American Poetry</td>\n",
       "      <td>4.4</td>\n",
       "      <td>Beginner level</td>\n",
       "      <td>Flexible schedule</td>\n",
       "      <td>Not specified</td>\n",
       "      <td>Not specified</td>\n",
       "      <td>Orientation, Module 1, Module 2, Module 3, Mod...</td>\n",
       "      <td>Cary Nelson</td>\n",
       "      <td>University of Illinois at Urbana-Champaign</td>\n",
       "      <td>Arts and Humanities</td>\n",
       "      <td>https://www.coursera.org/learn/modern-american...</td>\n",
       "      <td>34.0</td>\n",
       "      <td>100.0</td>\n",
       "    </tr>\n",
       "  </tbody>\n",
       "</table>\n",
       "</div>"
      ],
      "text/plain": [
       "  Unnamed: 0            Course Title Rating           Level  \\\n",
       "0          0       Fashion as Design    4.8  Beginner level   \n",
       "1          1  Modern American Poetry    4.4  Beginner level   \n",
       "\n",
       "            Schedule What you will learn  \\\n",
       "0  Flexible schedule       Not specified   \n",
       "1  Flexible schedule       Not specified   \n",
       "\n",
       "                              Skill gain  \\\n",
       "0  Art History, Art, History, Creativity   \n",
       "1                          Not specified   \n",
       "\n",
       "                                             Modules  \\\n",
       "0  Introduction, Heroes, Silhouettes, Coutures, L...   \n",
       "1  Orientation, Module 1, Module 2, Module 3, Mod...   \n",
       "\n",
       "                                          Instructor  \\\n",
       "0  Anna Burckhardt, Paola Antonelli, Michelle Mil...   \n",
       "1                                        Cary Nelson   \n",
       "\n",
       "                                   Offered By              Keyword  \\\n",
       "0                    The Museum of Modern Art  Arts and Humanities   \n",
       "1  University of Illinois at Urbana-Champaign  Arts and Humanities   \n",
       "\n",
       "                                          Course Url  \\\n",
       "0      https://www.coursera.org/learn/fashion-design   \n",
       "1  https://www.coursera.org/learn/modern-american...   \n",
       "\n",
       "   Duration to complete (Approx.)  Number of Review  \n",
       "0                            20.0            2813.0  \n",
       "1                            34.0             100.0  "
      ]
     },
     "execution_count": 9,
     "metadata": {},
     "output_type": "execute_result"
    }
   ],
   "source": [
    "df = pd.read_csv(\"data/DatasetFinal.csv\", index_col=False)\n",
    "df.head(2)"
   ]
  },
  {
   "cell_type": "code",
   "execution_count": 10,
   "metadata": {},
   "outputs": [
    {
     "data": {
      "text/plain": [
       "(8361, 14)"
      ]
     },
     "execution_count": 10,
     "metadata": {},
     "output_type": "execute_result"
    }
   ],
   "source": [
    "df.shape"
   ]
  },
  {
   "cell_type": "markdown",
   "metadata": {},
   "source": [
    "Hay algunos cursos que están duplicados con distinta Keyword (no seguían una regla concreta). Hemos ido comprobándolos en la página web de Coursera para poder limpiar y eliminar los que eran erróneos.\n",
    "Hemos cambiado la keyword de alguno y borrado los que tenían errores"
   ]
  },
  {
   "cell_type": "code",
   "execution_count": 11,
   "metadata": {},
   "outputs": [],
   "source": [
    "#Cambio Keywords\n",
    "df.loc[df[\"Course Title\"]==\"Data Manipulation at Scale: Systems and Algorithms\", \"Keyword\"] = \"DataScience\"\n",
    "#Este en concreto estaba mal su etiqueta (tenía Arts and Humanities y debía ser DataScience)\n",
    "df.loc[df[\"Course Title\"]==\"Management Communication 管理沟通\", \"Keyword\"] = \"Business\"\n",
    "#Este en concreto estaba mal su etiqueta (tenía Arts and Humanities y debía ser Business)"
   ]
  },
  {
   "cell_type": "code",
   "execution_count": 12,
   "metadata": {},
   "outputs": [
    {
     "data": {
      "text/plain": [
       "(8333, 14)"
      ]
     },
     "execution_count": 12,
     "metadata": {},
     "output_type": "execute_result"
    }
   ],
   "source": [
    "drop_rows_with_errors = [451,473,7882,1526,2061,2961,7688,6015,2148,3752,1927,3085,3035,7498,5549,469,449,458,7815,6021,3236,5692,7442,454,466,464,2594,7584]\n",
    "df.drop(drop_rows_with_errors, inplace=True)\n",
    "df.shape"
   ]
  },
  {
   "cell_type": "markdown",
   "metadata": {},
   "source": [
    "# 1.PREPROCESSING\n",
    "\n",
    "* Remove hyperlinks or hashtags - We'll use the [re](https://docs.python.org/3/library/re.html)\n",
    "\n",
    "* Tokenize the string - To tokenize means to split the strings into individual words without blanks or tabs. In this same step, we will also convert each word in the string to lower case. The [tokenize](https://www.nltk.org/api/nltk.tokenize.html#module-nltk.tokenize.casual) module from NLTK allows us to do these easily\n",
    "\n",
    "* Remove stop words and punctuations\n",
    "\n",
    "* Stemming - NLTK has different modules for stemming and we will be using the [PorterStemmer](https://www.nltk.org/api/nltk.stem.html#module-nltk.stem.porter) "
   ]
  },
  {
   "cell_type": "code",
   "execution_count": 13,
   "metadata": {},
   "outputs": [],
   "source": [
    "# Listados de ciencias y humanidades:\n",
    "df_science = df[df[\"Keyword\"] != \"Arts and Humanities\"]\n",
    "df_humanities = df[df[\"Keyword\"] == \"Arts and Humanities\"]\n",
    "\n",
    "#print(df_humanities[\"Course Title\"].iloc[422], \"\\n\", df_science[\"Course Title\"].iloc[534])"
   ]
  },
  {
   "cell_type": "code",
   "execution_count": 14,
   "metadata": {},
   "outputs": [
    {
     "name": "stdout",
     "output_type": "stream",
     "text": [
      "The size of the humanities dataframe is: (461,)\n",
      "The size of the science dataframe is: (7872,)\n"
     ]
    }
   ],
   "source": [
    "print(f\"The size of the humanities dataframe is: {df_humanities[\"Course Title\"].shape}\")\n",
    "print(f\"The size of the science dataframe is: {df_science[\"Course Title\"].shape}\")"
   ]
  },
  {
   "cell_type": "code",
   "execution_count": 15,
   "metadata": {},
   "outputs": [],
   "source": [
    "row_humanities = list(df_humanities[\"Course Title\"])\n",
    "row_science = list(df_science[\"Course Title\"][:476])\n",
    "all_rows = (row_science) + (row_humanities)"
   ]
  },
  {
   "cell_type": "code",
   "execution_count": 16,
   "metadata": {},
   "outputs": [
    {
     "name": "stdout",
     "output_type": "stream",
     "text": [
      "<class 'list'> 937\n"
     ]
    }
   ],
   "source": [
    "print(type(all_rows), len(all_rows))"
   ]
  },
  {
   "cell_type": "code",
   "execution_count": 17,
   "metadata": {},
   "outputs": [],
   "source": [
    "# Combination of humanities and science labels\n",
    "y = np.append(np.ones((len(row_science), 1)), np.zeros((len(row_humanities), 1)), axis=0)"
   ]
  },
  {
   "cell_type": "markdown",
   "metadata": {},
   "source": [
    "### Train test split: 20% will be in the test set, and 80% in the training set."
   ]
  },
  {
   "cell_type": "code",
   "execution_count": 18,
   "metadata": {},
   "outputs": [],
   "source": [
    "# Conjunto de entrenamiento\n",
    "def get_data_train(title,label):\n",
    "    # Obtenemos el 80% del conjunto de datos como conjunto de entrenamiento.\"\n",
    "    train_x, test_x, train_y, test_y = train_test_split(title, label, test_size=0.20, random_state=42)\n",
    "\n",
    "    return train_x, test_x, train_y, test_y"
   ]
  },
  {
   "cell_type": "code",
   "execution_count": 19,
   "metadata": {},
   "outputs": [
    {
     "name": "stdout",
     "output_type": "stream",
     "text": [
      "<class 'list'> 749 188\n",
      "<class 'numpy.ndarray'> 749 188\n"
     ]
    }
   ],
   "source": [
    "train_x, test_x, train_y, test_y = get_data_train(all_rows,y)\n",
    "print(type(train_x), len(train_x), len(test_x))\n",
    "print(type(test_y), len(train_y), len(test_y))"
   ]
  },
  {
   "cell_type": "markdown",
   "metadata": {},
   "source": [
    "### Word Count - frequency dictionary"
   ]
  },
  {
   "cell_type": "code",
   "execution_count": 20,
   "metadata": {},
   "outputs": [
    {
     "name": "stdout",
     "output_type": "stream",
     "text": [
      "type(freqs) = <class 'dict'>\n",
      "len(freqs) = 1353\n"
     ]
    }
   ],
   "source": [
    "# create frequency dictionary\n",
    "freqs = fun.build_freqs(train_x, train_y)\n",
    "\n",
    "# check data type\n",
    "print(f'type(freqs) = {type(freqs)}')\n",
    "\n",
    "# check length of the dictionary\n",
    "print(f'len(freqs) = {len(freqs)}')"
   ]
  },
  {
   "cell_type": "code",
   "execution_count": 21,
   "metadata": {},
   "outputs": [
    {
     "name": "stdout",
     "output_type": "stream",
     "text": [
      "{('success', 1.0): 10, ('negoti', 1.0): 4, ('essenti', 1.0): 6, ('strategi', 1.0): 23, ('skill', 1.0): 15, ('ibm', 1.0): 5, ('project', 1.0): 17, ('manag', 1.0): 33, ('profession', 1.0): 20, ('certif', 1.0): 16, ('global', 1.0): 6, ('impact', 1.0): 4, ('busi', 1.0): 289, ('ethic', 1.0): 3, ('品读道家的智慧', 0.0): 1, ('structur', 1.0): 1, ('build', 1.0): 5, ('frame', 1.0): 1, ('growth', 1.0): 6, ('中國人文經典導讀', 0.0): 1, ('do', 1.0): 5, ('china', 1.0): 2, ('special', 1.0): 76, ('introduct', 0.0): 22, ('game', 0.0): 9, ('design', 0.0): 22, ('intern', 1.0): 13, ('context', 1.0): 1, ('creativ', 0.0): 5, ('write', 0.0): 17, ('the', 0.0): 59, ('craft', 0.0): 3, ('charact', 0.0): 1, ('《论语》的智慧', 0.0): 1, ('становление', 0.0): 1, ('современной', 0.0): 1, ('украины', 0.0): 1, ('luther', 0.0): 1, ('west', 0.0): 1, ('lesson', 1.0): 3, ('english', 1.0): 24, ('introduc', 1.0): 1, ('yourself', 1.0): 1, ('set', 1.0): 1, ('improv', 1.0): 1, ('perform', 1.0): 1, ('googl', 1.0): 15, ('form', 1.0): 2, ('onlin', 0.0): 1, ('literatur', 0.0): 4, ('new', 0.0): 2, ('media', 0.0): 2, ('narr', 0.0): 2, ('digit', 1.0): 13, ('capston', 1.0): 12, ('data', 1.0): 22, ('intellig', 1.0): 14, ('curanderismo', 0.0): 2, ('tradit', 0.0): 2, ('heal', 0.0): 2, ('bodi', 0.0): 1, ('gener', 1.0): 4, ('ai', 1.0): 10, ('transform', 1.0): 11, ('career', 1.0): 1, ('fundament', 1.0): 10, ('practic', 1.0): 2, ('project-cent', 1.0): 2, ('cours', 1.0): 3, ('web', 0.0): 3, ('strategi', 0.0): 2, ('inform', 0.0): 1, ('architectur', 0.0): 3, ('guid', 1.0): 2, ('trade', 1.0): 2, ('small', 1.0): 9, ('market', 1.0): 21, ('use', 1.0): 7, ('linkedin', 1.0): 1, ('india-u', 1.0): 1, ('relat', 1.0): 1, ('geopolit', 1.0): 1, ('cultur', 1.0): 1, ('statist', 1.0): 6, ('historia', 0.0): 4, ('art', 0.0): 28, ('del', 0.0): 2, ('barroco', 0.0): 1, ('posmoderno', 0.0): 1, ('valu', 1.0): 9, ('social', 1.0): 5, ('human', 1.0): 4, ('capit', 1.0): 1, ('lean', 1.0): 1, ('odesa', 0.0): 1, ('jew', 0.0): 3, ('modern', 0.0): 17, ('world', 0.0): 9, ('tool', 1.0): 5, ('entrepreneur', 1.0): 3, ('innov', 1.0): 18, ('wharton', 1.0): 2, ('financi', 1.0): 5, ('model', 1.0): 16, ('a', 0.0): 8, ('complexidad', 0.0): 1, ('sensível', 0.0): 1, ('um', 0.0): 1, ('paralelo', 0.0): 1, ('videogam', 0.0): 1, ('relativ', 0.0): 1, ('中國園林文學', 0.0): 2, ('二', 0.0): 1, ('chines', 0.0): 3, ('garden', 0.0): 2, ('2', 0.0): 5, ('explor', 0.0): 6, ('beethoven', 0.0): 6, ('’', 0.0): 9, ('piano', 0.0): 10, ('sonata', 0.0): 8, ('part', 0.0): 13, ('age', 0.0): 4, ('cathedr', 0.0): 1, ('initi', 1.0): 1, ('start', 1.0): 5, ('plan', 1.0): 7, ('freelanc', 1.0): 2, ('gather', 0.0): 1, ('develop', 0.0): 7, ('moneybal', 0.0): 1, ('global', 0.0): 7, ('analysi', 1.0): 22, ('masteri', 1.0): 1, ('perspect', 1.0): 1, ('capston', 0.0): 4, ('your', 0.0): 16, ('stori', 0.0): 4, ('principl', 0.0): 2, ('photo', 0.0): 1, ('composit', 0.0): 2, ('digit', 0.0): 5, ('imag', 0.0): 4, ('post-product', 0.0): 1, ('foundat', 1.0): 12, ('strateg', 1.0): 5, ('analyt', 1.0): 29, ('classic', 0.0): 3, ('human', 0.0): 4, ('guid', 0.0): 1, ('read', 0.0): 1, ('basic', 1.0): 5, ('smart', 1.0): 4, ('assist', 1.0): 1, ('watson', 1.0): 1, ('current', 0.0): 1, ('gen', 0.0): 1, ('3d', 0.0): 1, ('prop', 0.0): 1, ('product', 0.0): 9, ('workflow', 1.0): 1, ('prioriti', 1.0): 1, ('ingest', 1.0): 1, ('salesforc', 1.0): 1, ('sale', 1.0): 2, ('oper', 1.0): 6, ('the', 1.0): 11, ('efecto', 0.0): 2, ('audio', 0.0): 3, ('automatizacion', 0.0): 1, ('teach', 0.0): 2, ('violin', 0.0): 1, ('viola', 0.0): 1, ('creat', 0.0): 3, ('healthi', 0.0): 1, ('foundat', 0.0): 2, ('music', 0.0): 43, ('english', 0.0): 1, ('i', 0.0): 5, ('special', 0.0): 23, ('blockchain', 1.0): 3, ('creat', 1.0): 20, ('looker', 1.0): 2, ('日本語版', 1.0): 2, ('high-impact', 1.0): 1, ('write', 1.0): 7, ('canva', 1.0): 11, ('a', 1.0): 5, ('design', 1.0): 7, ('trendi', 1.0): 1, ('merch', 1.0): 1, ('what', 0.0): 3, ('is', 0.0): 1, ('contemporari', 0.0): 3, ('trend', 1.0): 2, ('societi', 1.0): 2, ('cómo', 0.0): 2, ('crear', 0.0): 1, ('presentacion', 0.0): 1, ('usando', 0.0): 1, ('canva', 0.0): 2, ('know', 0.0): 3, ('thyself', 0.0): 2, ('valu', 0.0): 2, ('limit', 0.0): 2, ('self-knowledg', 0.0): 2, ('examin', 0.0): 1, ('life', 0.0): 4, ('plot', 0.0): 1, ('scienc', 0.0): 10, ('religion', 0.0): 7, ('101', 0.0): 2, ('journey', 0.0): 4, ('western', 0.0): 3, ('christian', 0.0): 3, ('persecut', 0.0): 1, ('faith', 0.0): 1, ('200', 0.0): 1, ('1650', 0.0): 1, ('launch', 0.0): 1, ('career', 0.0): 5, ('black', 0.0): 1, ('perform', 0.0): 4, ('social', 0.0): 7, ('protest', 0.0): 2, ('emot', 0.0): 1, ('philosoph', 0.0): 1, ('get', 0.0): 3, ('start', 0.0): 2, ('with', 0.0): 1, ('theori', 0.0): 5, ('advanc', 1.0): 8, ('miro', 1.0): 2, ('pure', 0.0): 1, ('data', 0.0): 1, ('humanidad', 0.0): 3, ('digital', 0.0): 3, ('guitar', 0.0): 4, ('chord', 0.0): 4, ('voic', 0.0): 3, ('play', 0.0): 1, ('up', 0.0): 1, ('neck', 0.0): 1, ('excel', 1.0): 12, ('intermedi', 1.0): 2, ('ii', 1.0): 6, ('entrepreneurship', 1.0): 8, ('from', 1.0): 2, ('ideat', 1.0): 1, ('exit', 1.0): 1, ('process', 1.0): 5, ('outsourc', 1.0): 1, ('hospit', 1.0): 1, ('applic', 1.0): 5, ('r', 1.0): 2, ('program', 1.0): 5, ('copyright', 1.0): 2, ('law', 1.0): 6, ('music', 1.0): 4, ('leadership', 1.0): 3, ('egiptología', 0.0): 1, ('egyptolog', 0.0): 1, ('transmedia', 0.0): 2, ('mooc', 0.0): 5, ('experi', 0.0): 3, ('sound', 0.0): 2, (\"'s\", 0.0): 12, ('big', 0.0): 1, ('bang', 0.0): 1, ('genesi', 0.0): 1, ('rock', 0.0): 2, (\"'n\", 0.0): 1, ('roll', 0.0): 2, ('proyecto', 0.0): 2, ('final', 0.0): 5, ('músico', 0.0): 3, ('moderno', 0.0): 2, ('document', 0.0): 2, ('defin', 0.0): 1, ('concept', 0.0): 3, ('arrang', 0.0): 2, ('songwrit', 0.0): 4, ('graphic', 0.0): 5, ('element', 0.0): 6, ('color', 0.0): 1, ('format', 0.0): 1, ('first', 0.0): 2, ('person', 0.0): 4, ('point', 0.0): 1, ('view', 0.0): 1, ('東亞儒學：孟子二', 0.0): 1, ('east', 0.0): 4, ('asian', 0.0): 4, ('confucian', 0.0): 2, ('menciu', 0.0): 1, ('child', 1.0): 1, ('care', 1.0): 1, ('herencia', 0.0): 1, ('negra', 0.0): 1, ('aplicación', 0.0): 1, ('ritmo', 0.0): 1, ('afroperuano', 0.0): 1, ('intellectu', 0.0): 2, ('humil', 0.0): 2, ('الكتابة', 1.0): 1, ('مجال', 1.0): 1, ('الأعمال', 1.0): 1, ('religi', 0.0): 1, ('transform', 0.0): 2, ('earli', 0.0): 1, ('china', 0.0): 1, ('period', 0.0): 1, ('divis', 0.0): 1, ('certifi', 1.0): 1, ('professional™', 1.0): 1, ('cbap®', 1.0): 1, ('desenvolvendo', 0.0): 1, ('musicalidad', 0.0): 2, ('grow', 1.0): 7, ('your', 1.0): 10, ('goldman', 1.0): 2, ('sach', 1.0): 2, ('10,000', 1.0): 2, ('women', 1.0): 2, ('el', 0.0): 4, ('holocausto', 0.0): 1, ('abismo', 0.0): 1, ('make', 1.0): 10, ('decis', 1.0): 11, ('integr', 1.0): 1, ('introduct', 1.0): 13, ('commun', 1.0): 6, ('great', 1.0): 2, ('privat', 1.0): 2, ('part', 1.0): 2, ('autom', 1.0): 4, ('effect', 1.0): 4, ('speak', 1.0): 1, ('six', 1.0): 1, ('sigma', 1.0): 1, ('green', 1.0): 2, ('belt', 1.0): 1, ('e-commerc', 1.0): 3, ('visual', 0.0): 2, ('user', 0.0): 2, ('interfac', 0.0): 1, ('disrupt', 1.0): 1, ('launch', 1.0): 5, ('scandinavian', 0.0): 1, ('film', 0.0): 3, ('televis', 0.0): 1, ('regulatori', 1.0): 1, ('complianc', 1.0): 1, ('how', 0.0): 8, ('chang', 0.0): 3, ('new', 1.0): 1, ('technolog', 1.0): 4, ('leader', 1.0): 1, ('pre-mba', 1.0): 1, ('quantit', 1.0): 1, ('i', 1.0): 6, ('le', 0.0): 1, ('bien', 0.0): 1, ('just', 0.0): 1, (\"l'util\", 0.0): 1, ('éthiqu', 0.0): 1, ('philosophiqu', 0.0): 1, ('商务英语课程', 1.0): 1, ('macroeconom', 1.0): 1, ('holocaust', 0.0): 3, ('an', 0.0): 5, ('ii', 0.0): 5, ('solut', 0.0): 2, ('idea', 0.0): 5, ('lyric', 0.0): 1, ('histori', 0.0): 13, ('two', 0.0): 2, ('scienc', 1.0): 3, ('talli', 1.0): 1, ('bookkeep', 1.0): 3, ('scale', 0.0): 2, ('中國古代歷史與人物：秦始皇（qin', 0.0): 1, ('shi', 0.0): 2, ('huang', 0.0): 1, ('brand', 1.0): 4, ('kit', 1.0): 1, ('challeng', 1.0): 1, ('nazi', 0.0): 1, ('germani', 0.0): 1, ('ideolog', 0.0): 1, ('sport', 1.0): 1, ('appli', 0.0): 1, ('public', 0.0): 3, ('place', 0.0): 2, ('peopl', 0.0): 2, ('ad', 1.0): 1, ('beginn', 1.0): 1, ('problem', 1.0): 4, ('leer', 0.0): 1, ('macondo', 0.0): 1, ('obra', 0.0): 1, ('gabriel', 0.0): 2, ('garcía', 0.0): 2, ('márquez', 0.0): 2, ('content', 1.0): 3, ('تقييم', 1.0): 2, ('واستحواذ', 1.0): 1, ('الشركات', 1.0): 2, ('acquir', 1.0): 1, ('cycl', 0.0): 1, ('manag', 0.0): 2, ('success', 0.0): 2, ('cultur', 0.0): 7, ('organ', 0.0): 1, ('american', 0.0): 8, ('poetri', 0.0): 5, ('predict', 1.0): 2, ('food', 1.0): 1, ('beverag', 1.0): 1, ('la', 0.0): 1, ('philanthropi', 0.0): 1, ('comprendr', 0.0): 1, ('agir', 0.0): 1, ('一', 0.0): 1, ('1', 0.0): 2, ('tecnología', 0.0): 2, ('softwar', 0.0): 5, ('libr', 0.0): 4, ('linear', 1.0): 1, ('regress', 1.0): 1, ('distribución', 0.0): 1, ('música', 0.0): 3, ('independient', 0.0): 1, ('ecolog', 0.0): 3, ('mysql', 1.0): 2, ('twitter', 1.0): 3, ('principl', 1.0): 4, ('compet', 0.0): 1, ('aborigin', 0.0): 1, ('sydney', 0.0): 1, ('non-design', 0.0): 1, ('how', 1.0): 12, ('optim', 1.0): 2, ('instagram', 1.0): 5, ('profil', 1.0): 4, ('intuit', 1.0): 1, ('academi', 1.0): 1, ('european', 1.0): 3, ('understand', 1.0): 1, ('corpor', 1.0): 4, ('divers', 1.0): 2, ('belong', 1.0): 1, ('organ', 1.0): 4, ('cloud', 1.0): 9, ('progress', 0.0): 2, ('youtub', 1.0): 1, ('opportun', 1.0): 1, ('identif', 1.0): 1, ('think', 1.0): 4, ('طرق', 1.0): 1, ('valuat', 1.0): 1, ('approach', 1.0): 2, ('pedagogi', 0.0): 1, ('food', 0.0): 1, ('ethic', 0.0): 2, ('good', 1.0): 2, ('musicianship', 0.0): 5, ('emerg', 0.0): 3, ('middl', 0.0): 4, ('solv', 1.0): 3, ('machin', 1.0): 3, ('learn', 1.0): 3, ('femin', 0.0): 1, ('justic', 0.0): 4, ('roman', 0.0): 2, ('concept', 1.0): 2, ('camera', 0.0): 2, ('control', 0.0): 1, ('shape', 0.0): 1, ('urban', 0.0): 1, ('futur', 0.0): 2, ('russian', 0.0): 2, ('20th-21st', 0.0): 1, ('centuri', 0.0): 6, ('compos', 0.0): 2, ('design-l', 1.0): 1, ('wirefram', 0.0): 1, ('prototyp', 0.0): 1, ('conspiraci', 0.0): 1, ('planet', 0.0): 1, ('creativ', 1.0): 1, ('journey', 1.0): 1, ('novel', 0.0): 1, ('memoir', 0.0): 2, ('essay', 0.0): 5, ('about', 0.0): 2, ('yourself', 0.0): 1, ('françai', 1.0): 1, ('mercadeo', 1.0): 1, ('protect', 1.0): 4, ('well', 0.0): 2, ('propos', 1.0): 1, ('vism', 1.0): 1, ('greek', 0.0): 3, ('mytholog', 0.0): 2, ('artifici', 1.0): 1, ('healthcar', 1.0): 3, ('corpor', 0.0): 1, ('sustain', 0.0): 4, ('understand', 0.0): 6, ('seiz', 0.0): 1, ('strateg', 0.0): 1, ('opportun', 0.0): 1, ('footbal', 0.0): 1, ('more', 0.0): 1, ('programación', 0.0): 2, ('elemento', 0.0): 1, ('melódico', 0.0): 1, ('aleatoriedad', 0.0): 1, ('grabación', 0.0): 2, ('edición', 0.0): 1, ('love', 0.0): 1, ('forc', 0.0): 1, ('see', 0.0): 1, ('through', 0.0): 4, ('photograph', 0.0): 1, ('what', 1.0): 2, ('research', 1.0): 2, ('know', 1.0): 2, ('you', 1.0): 1, ('should', 1.0): 1, ('busi', 0.0): 3, ('consult', 1.0): 2, ('drive', 1.0): 1, ('sustain', 1.0): 6, ('develop', 1.0): 4, ('goal', 1.0): 1, ('facebook', 1.0): 5, ('group', 1.0): 1, ('for', 1.0): 3, ('meta', 1.0): 2, ('cybersecur', 1.0): 4, ('race', 0.0): 1, ('gender', 0.0): 1, ('photographi', 0.0): 2, ('techniqu', 0.0): 3, ('light', 0.0): 1, ('content', 0.0): 3, ('share', 0.0): 1, ('europ', 1.0): 2, ('platform', 1.0): 2, ('wonder', 0.0): 1, ('ancient', 0.0): 5, ('egypt', 0.0): 2, ('william', 0.0): 2, ('shakespear', 0.0): 3, ('twelfth', 0.0): 1, ('night', 0.0): 1, ('comedi', 0.0): 1, ('conflict', 0.0): 3, ('commun', 0.0): 4, ('great', 0.0): 1, ('transit', 0.0): 2, ('challeng', 0.0): 3, ('local', 0.0): 1, ('action', 0.0): 3, ('commerci', 1.0): 1, ('financ', 1.0): 6, ('government', 1.0): 1, ('regul', 1.0): 1, ('ui', 0.0): 1, ('ux', 0.0): 3, ('vocal', 0.0): 1, ('vall', 0.0): 1, ('rey', 0.0): 1, ('l', 0.0): 2, ('egitto', 0.0): 1, ('dopo', 0.0): 1, ('faraoni', 0.0): 1, ('dalla', 0.0): 1, ('nascita', 0.0): 1, ('stato', 0.0): 1, ('3000', 0.0): 1, ('a.c', 0.0): 2, ('prime', 0.0): 1, ('comunità', 0.0): 1, ('cristian', 0.0): 1, ('iv', 0.0): 2, ('secolo', 0.0): 1, ('d.c', 0.0): 1, ('deutsch', 1.0): 1, ('cv', 1.0): 1, ('health', 1.0): 1, ('retail', 1.0): 2, ('custom', 1.0): 3, ('servic', 1.0): 1, ('so', 0.0): 1, ('you', 0.0): 2, ('think', 0.0): 7, ('tango', 0.0): 1, ('execut', 1.0): 2, ('overview', 1.0): 1, ('ableton', 0.0): 1, ('live', 0.0): 1, ('align', 1.0): 1, ('behaviour', 1.0): 1, ('onlin', 1.0): 3, ('streamlin', 1.0): 1, ('swimlan', 1.0): 1, ('attract', 1.0): 1, ('engag', 1.0): 3, ('worldview', 0.0): 2, ('thoma', 0.0): 3, ('berri', 0.0): 2, ('flourish', 0.0): 2, ('earth', 0.0): 2, ('唐詩新思路', 0.0): 1, ('tang', 0.0): 1, ('again', 0.0): 4, ('avoid', 0.0): 1, ('fallaci', 0.0): 1, ('data-driven', 1.0): 2, ('dddm', 1.0): 1, ('renew', 1.0): 1, ('energi', 1.0): 1, ('游戏产业概论', 0.0): 1, ('comput', 0.0): 1, ('program', 0.0): 2, ('purpos', 0.0): 1, ('real', 1.0): 1, ('estat', 1.0): 1, ('technolog', 0.0): 3, ('playbook', 1.0): 1, ('becom', 1.0): 2, ('persuas', 1.0): 1, ('account', 1.0): 10, ('measur', 1.0): 2, ('futur', 1.0): 1, ('work', 1.0): 3, ('own', 1.0): 2, ('navig', 1.0): 1, ('tone', 1.0): 1, ('formal', 1.0): 1, ('direct', 1.0): 1, ('email', 1.0): 2, ('storytel', 0.0): 3, ('brand', 0.0): 4, ('market', 0.0): 1, ('berry的世界观：地球社区的繁荣', 0.0): 1, ('o', 0.0): 1, ('contemporâneo', 0.0): 1, ('audienc', 0.0): 2, ('power', 1.0): 2, ('boost', 1.0): 1, ('accumul', 1.0): 1, ('click', 1.0): 1, ('fight', 1.0): 1, ('fraud', 1.0): 2, ('deni', 1.0): 1, ('deadbeat', 1.0): 1, ('educ', 0.0): 2, ('reform', 0.0): 1, ('polici', 0.0): 1, ('practic', 0.0): 2, ('behavior', 1.0): 1, ('old', 0.0): 1, ('nors', 0.0): 1, ('sourc', 0.0): 1, ('الذكاء', 1.0): 1, ('الاصطناعي', 1.0): 1, ('للجميع', 1.0): 1, ('media', 1.0): 1, ('presenc', 1.0): 1, ('logic', 0.0): 1, ('critic', 0.0): 1, ('their', 0.0): 1, ('own', 0.0): 1, ('women', 0.0): 2, ('spiritu', 0.0): 1, ('chang', 1.0): 2, ('agent', 1.0): 1, ('run', 1.0): 2, ('introducción', 0.0): 8, ('sonoro', 0.0): 1, ('final', 1.0): 1, ('宇宙之旅：展现生命', 0.0): 1, ('univers', 0.0): 4, ('unfold', 0.0): 2, ('set', 0.0): 1, ('descript', 0.0): 1, ('taxat', 1.0): 2, ('entiti', 1.0): 1, ('quick', 1.0): 1, ('tour', 1.0): 1, ('big', 1.0): 3, ('拍摄：像剪辑师一样拍摄', 0.0): 1, ('wareh', 1.0): 2, ('key', 1.0): 2, ('electron', 0.0): 2, ('argument', 0.0): 1, ('latin', 1.0): 1, ('america', 1.0): 1, ('in', 0.0): 1, ('studio', 0.0): 2, ('postwar', 0.0): 1, ('abstract', 0.0): 1, ('paint', 0.0): 1, ('support', 1.0): 1, ('sheet', 1.0): 1, ('archaeolog', 0.0): 2, ('heritag', 0.0): 3, ('africa', 0.0): 1, ('construct', 1.0): 1, ('print', 0.0): 1, ('inferenti', 1.0): 1, ('manipul', 1.0): 1, ('scale', 1.0): 1, ('system', 1.0): 4, ('algorithm', 1.0): 1, ('sociolog', 0.0): 1, ('produc', 0.0): 1, ('mediterranean', 0.0): 1, ('space', 0.0): 2, ('exchang', 0.0): 1, ('renaiss', 0.0): 1, ('enlighten', 0.0): 1, ('overcom', 0.0): 1, ('self', 0.0): 1, ('societi', 0.0): 3, ('product', 1.0): 5, ('use', 0.0): 3, ('plant', 0.0): 1, ('meet', 1.0): 1, ('master', 1.0): 1, ('enhanc', 1.0): 1, ('producción', 0.0): 5, ('apreciación', 0.0): 1, ('posit', 1.0): 1, ('psycholog', 1.0): 1, ('antisémitism', 0.0): 1, ('de', 0.0): 1, ('origin', 0.0): 3, ('jour', 0.0): 1, ('philosophi', 0.0): 12, ('plato', 0.0): 2, ('hi', 0.0): 3, ('predecessor', 0.0): 1, ('kennedi', 0.0): 1, ('half', 0.0): 1, ('famili', 1.0): 2, ('definit', 1.0): 1, ('pinterest', 1.0): 2, ('pin', 1.0): 1, ('anticip', 1.0): 1, ('next', 1.0): 1, ('battl', 1.0): 1, ('beyond', 1.0): 1, ('subsist', 0.0): 1, ('marketplac', 0.0): 1, ('fondamentaux', 0.0): 1, ('infographi', 0.0): 1, ('beatl', 0.0): 1, ('trademark', 1.0): 1, ('visual', 1.0): 1, ('behavior', 0.0): 2, ('whi', 1.0): 1, ('role', 1.0): 1, ('just', 1.0): 1, ('easil', 1.0): 1, ('perspectiva', 0.0): 1, ('colaborativa', 0.0): 1, ('techniqu', 1.0): 1, ('advertis', 1.0): 1, ('promot', 0.0): 1, ('materi', 0.0): 1, ('everi', 0.0): 1, ('musician', 0.0): 4, ('need', 0.0): 1, ('modern', 1.0): 1, ('copyright', 0.0): 2, ('multimedia', 0.0): 1, ('first', 1.0): 1, ('step', 1.0): 1, ('case', 1.0): 3, ('tour', 0.0): 1, ('free', 0.0): 2, ('will', 0.0): 2, ('neurosci', 0.0): 1, ('italian', 0.0): 1, ('opera', 0.0): 3, ('metric', 1.0): 1, ('compani', 1.0): 1, ('one', 0.0): 1, ('1760', 0.0): 1, ('1910', 0.0): 2, ('recov', 0.0): 1, ('humankind', 0.0): 1, ('past', 0.0): 1, ('save', 0.0): 1, ('natur', 1.0): 1, ('inform', 1.0): 6, ('decision-mak', 1.0): 1, ('ventur', 1.0): 1, ('abroad', 1.0): 1, ('mind', 0.0): 2, ('tension', 0.0): 1, ('harmon', 0.0): 1, ('function', 0.0): 1, ('modal', 0.0): 1, ('interchang', 0.0): 1, ('søren', 0.0): 1, ('kierkegaard', 0.0): 1, ('subject', 0.0): 1, ('ironi', 0.0): 1, ('crisi', 0.0): 1, ('莊子─姿勢、意識與感情', 0.0): 1, ('zhuangzi─postur', 0.0): 1, ('awar', 0.0): 1, ('sentiment', 0.0): 1, ('better', 1.0): 2, ('soul', 0.0): 1, ('belief', 0.0): 2, ('caus', 0.0): 1, ('consequ', 0.0): 1, ('unit', 0.0): 1, ('system', 0.0): 1, ('viral', 1.0): 1, ('craft', 1.0): 1, ('contagi', 1.0): 1, ('issu', 1.0): 2, ('剪辑：像编剧一样剪辑', 0.0): 1, ('basebal', 0.0): 3, ('millennium', 0.0): 1, ('smarter', 1.0): 1, ('microsoft', 1.0): 3, ('compet', 1.0): 1, ('21st', 0.0): 1, ('video', 0.0): 3, ('improvisación', 0.0): 1, ('jazz', 0.0): 3, ('imaginari', 0.0): 1, ('korean', 0.0): 2, ('profession', 0.0): 4, ('toolbox', 0.0): 1, ('portfolio', 0.0): 2, ('beauti', 0.0): 1, ('kunqu', 0.0): 1, ('python', 1.0): 5, ('做商管程式設計（一）', 1.0): 1, ('comput', 1.0): 3, ('1', 1.0): 4, ('activ', 0.0): 3, ('sport', 0.0): 1, ('implic', 1.0): 2, ('nano-cours', 1.0): 1, ('cfo', 1.0): 1, ('5', 0.0): 1, ('realiti', 0.0): 1, ('bite', 0.0): 1, ('metaphys', 0.0): 1, ('fundament', 0.0): 3, ('编剧：像导演一样编剧', 0.0): 1, ('blue', 0.0): 1, ('form', 0.0): 3, ('feder', 1.0): 1, ('properti', 1.0): 1, ('transact', 1.0): 1, ('owner', 1.0): 1, ('sharehold', 1.0): 1, ('grundlagen', 0.0): 1, ('grafikdesign', 0.0): 1, ('landscap', 0.0): 2, ('rome', 0.0): 1, ('palatin', 0.0): 1, ('hill', 0.0): 1, ('address', 1.0): 1, ('导演思维：微影人的自我修养', 0.0): 1, ('econom', 1.0): 3, ('game', 1.0): 2, ('theori', 1.0): 1, ('6', 0.0): 1, ('gestión', 1.0): 1, ('proyecto', 1.0): 1, ('missõ', 0.0): 2, ('jesuítica', 0.0): 2, ('território', 0.0): 2, ('guarani', 0.0): 2, ('cotidiano', 0.0): 1, ('make', 0.0): 3, ('money', 0.0): 1, ('who', 0.0): 1, ('wrote', 0.0): 1, ('open', 1.0): 1, ('close', 1.0): 1, ('史記', 0.0): 1, ('ji', 0.0): 1, ('杏林探宝——认知中药', 0.0): 1, ('health', 0.0): 1, ('covid-19', 0.0): 1, ('time', 0.0): 1, ('corto', 0.0): 1, ('mose', 0.0): 2, ('face', 0.0): 1, ('reflect', 0.0): 1, ('jewish', 0.0): 2, ('violenc', 0.0): 1, ('lead', 1.0): 2, ('team', 1.0): 1, ('jefferson', 0.0): 1, ('approach', 0.0): 1, ('melod', 0.0): 1, ('simpl', 0.0): 1, ('harmoni', 0.0): 1, ('skeptic', 0.0): 1, ('present', 1.0): 4, ('pwc', 1.0): 1, ('economi', 1.0): 2, ('access', 0.0): 1, ('scenic', 0.0): 1, ('chines', 1.0): 1, ('中级汉语', 1.0): 1, ('（上）', 1.0): 1, ('ecosystem', 0.0): 1, ('servic', 0.0): 1, ('method', 0.0): 1, ('indigen', 0.0): 2, ('tecnologia', 0.0): 1, ('produção', 0.0): 1, ('competit', 1.0): 2, ('20世纪西方音乐', 0.0): 1, ('20th', 0.0): 2, ('entrepreneuri', 1.0): 1, ('活用希臘哲學', 0.0): 1, ('chart', 0.0): 1, ('diaton', 0.0): 1, ('minor', 0.0): 1, ('key', 0.0): 1, ('mozart', 0.0): 1, ('time', 1.0): 1, ('seri', 1.0): 1, ('forecast', 1.0): 2, ('getvirtu', 1.0): 1, ('question', 0.0): 1, ('aristotl', 0.0): 1, ('successor', 0.0): 1, ('iii', 0.0): 1, ('reason', 0.0): 4, ('induct', 0.0): 1, ('representacion', 0.0): 1, ('cultural', 0.0): 1, ('sexualidad', 0.0): 1, ('polit', 1.0): 1, ('polici', 1.0): 1, ('player', 1.0): 1, ('space', 1.0): 1, ('unconsci', 0.0): 1, ('hypothesi', 1.0): 1, ('test', 1.0): 1, ('confid', 1.0): 1, ('interv', 1.0): 1, ('estim', 1.0): 1, ('search', 1.0): 1, ('engin', 1.0): 1, ('seo', 1.0): 1, ('effect', 0.0): 2, ('deliv', 0.0): 1, ('news', 0.0): 2, ('relationship', 0.0): 1, ('reader', 0.0): 1, ('basic', 0.0): 4, ('libertarian', 0.0): 1, ('startup', 1.0): 1, ('activismo', 0.0): 1, ('movimiento', 0.0): 1, ('littératur', 0.0): 1, ('mondial', 0.0): 1, ('patent', 1.0): 1, ('buyer', 1.0): 1, ('persona', 1.0): 1, ('diagram', 1.0): 2, ('world', 1.0): 3, ('connect', 1.0): 2, ('e-market', 1.0): 1, ('pharaoh', 0.0): 1, ('histor', 0.0): 2, ('interpret', 0.0): 1, ('never', 0.0): 1, ('lie', 0.0): 1, ('東亞儒家：人文精神一', 0.0): 1, ('omnichannel', 1.0): 1, ('full', 1.0): 1, ('elicit', 1.0): 1, ('network', 1.0): 1, ('prezi', 1.0): 2, ('everyon', 1.0): 1, ('cross-cultur', 1.0): 1, ('stakehold', 1.0): 1, ('environment', 0.0): 1, ('¿cómo', 0.0): 1, ('persuadir', 0.0): 1, ('jugando', 0.0): 1, ('palabra', 0.0): 1, ('imágen', 0.0): 1, ('número', 0.0): 1, ('stone', 0.0): 1, ('1962-1974', 0.0): 1, ('non-n', 1.0): 1, ('speaker', 1.0): 1, ('across', 0.0): 1, ('disciplin', 0.0): 1, ('postproducción', 0.0): 1, ('dentro', 0.0): 1, ('estudio', 0.0): 1, ('público', 0.0): 1, ('pedagogía', 0.0): 1, ('introdução', 0.0): 1, ('guitarra', 0.0): 2, ('creación', 0.0): 1, ('beat', 0.0): 1, ('patron', 0.0): 1, ('rítmico', 0.0): 1, ('re-imag', 0.0): 1, ('god', 0.0): 1, ('context', 0.0): 1, ('aplicacion', 0.0): 1, ('musical', 0.0): 1, ('arduino', 0.0): 1, ('richard', 0.0): 1, ('schechner', 0.0): 1, ('studi', 0.0): 1, ('persuas', 0.0): 1, ('three', 0.0): 1, ('dialogu', 0.0): 1, ('by', 0.0): 1, ('textual', 0.0): 1, ('font', 0.0): 1, ('typographi', 0.0): 1, ('silla', 0.0): 1, ('altruism', 0.0): 1, ('result', 1.0): 1, ('antisemitismo', 0.0): 1, ('desd', 0.0): 1, ('orígen', 0.0): 1, ('present', 0.0): 2, ('fashion', 1.0): 1, ('movement', 0.0): 1, ('composición', 0.0): 2, ('español', 1.0): 1, ('创作吧！微影人！', 0.0): 1, ('import', 0.0): 1, ('power', 0.0): 1, ('forens', 1.0): 1, ('examin', 1.0): 1, ('ourselv', 0.0): 1, ('inequ', 0.0): 1, ('democraci', 0.0): 1, ('environ', 1.0): 1, ('основы', 0.0): 1, ('графического', 0.0): 1, ('дизайна', 0.0): 1, ('i.', 0.0): 1, ('história', 0.0): 1, ('紅樓夢', 0.0): 1, ('red', 0.0): 1, ('chamber', 0.0): 1, ('dream', 0.0): 1, ('solut', 1.0): 1, ('sap', 1.0): 2, ('magic', 0.0): 1, ('worth', 0.0): 1, ('mejor', 1.0): 1, ('decision', 1.0): 1, ('ident', 0.0): 2, ('anti-rac', 0.0): 1, ('toolkit', 0.0): 1, ('improvis', 0.0): 1, ('comic', 0.0): 1, ('book', 0.0): 1, ('project-cent', 0.0): 2, ('cours', 0.0): 2, ('convers', 0.0): 1, ('weav', 0.0): 1, ('knowledg', 0.0): 1, ('german', 0.0): 1, ('現代文學導讀：詩、散文、小說', 0.0): 1, ('rehears', 0.0): 1, ('ensembl', 0.0): 1, ('thought', 0.0): 1, ('pro', 0.0): 1, ('tool', 0.0): 1, ('romeo', 0.0): 1, ('juliet', 0.0): 1, ('actor', 0.0): 1, ('perspect', 0.0): 1, ('french', 0.0): 1, ('revolut', 0.0): 1, ('through', 1.0): 1, ('break', 1.0): 1, ('repeat', 1.0): 1, ('destruct', 0.0): 1, ('european', 0.0): 1, ('jewri', 0.0): 1, ('respons', 1.0): 1, ('inquiri', 0.0): 1, ('theme', 0.0): 1, ('suppli', 1.0): 2, ('chain', 1.0): 3, ('israel', 0.0): 3, ('from', 0.0): 2, ('state', 0.0): 2, ('improvisação', 0.0): 1, ('崑曲之美', 0.0): 1, ('ukrain', 0.0): 2, ('3', 0.0): 1, ('project', 0.0): 2, ('hrci', 1.0): 1, ('resourc', 1.0): 2, ('associ', 1.0): 1, ('prehistórico', 0.0): 1, ('renacimiento', 0.0): 1, ('journal', 0.0): 1, ('script', 0.0): 1, ('pilot', 0.0): 1, ('episod', 0.0): 1, ('tv', 0.0): 1, ('seri', 0.0): 1, ('哲学导论（中文版）', 0.0): 1, ('get', 1.0): 3, ('picmonkey', 1.0): 1, ('theatr', 0.0): 1, ('descriptor', 1.0): 1, ('distribut', 1.0): 1, ('build', 0.0): 3, ('singer', 0.0): 1, ('fl', 0.0): 1, ('莊子─人情', 0.0): 1, ('zhuangzi─between', 0.0): 1, ('south', 0.0): 1, ('it', 0.0): 2, ('cancion', 0.0): 1, ('imagemak', 0.0): 1, ('epistem', 0.0): 1, ('quest', 0.0): 1, ('truth', 0.0): 1, ('epistemolog', 0.0): 1, ('can', 0.0): 1, ('procur', 1.0): 1, ('sourc', 1.0): 1, ('magna', 0.0): 1, ('carta', 0.0): 1, ('legaci', 0.0): 1, ('freedom', 0.0): 2, ('cognit', 0.0): 1, ('primer', 1.0): 1, ('semi-tech', 1.0): 1, ('learner', 1.0): 1, ('intern', 0.0): 1, ('displac', 0.0): 1, ('protect', 0.0): 1, ('america', 0.0): 1, ('foreign', 0.0): 1, ('eye', 0.0): 1, ('databas', 1.0): 1, ('fundamento', 1.0): 1, ('finanza', 1.0): 1, ('empresarial', 1.0): 1, ('intimaci', 0.0): 1, ('enter', 0.0): 1, ('assess', 1.0): 1, ('overview', 0.0): 1, ('“', 0.0): 1, ('modpo', 0.0): 1, ('”', 0.0): 1, ('chart', 1.0): 1, ('whatsapp', 1.0): 1, ('plagu', 0.0): 1, ('witch', 0.0): 1, ('war', 0.0): 1, ('fiction', 0.0): 1, ('portuguê', 1.0): 1, ('beginn', 0.0): 1, ('medio', 0.0): 1, ('storytel', 1.0): 1, ('influenc', 1.0): 2, ('fund', 0.0): 1, ('websit', 1.0): 1, ('weebli', 1.0): 1, ('hacer', 0.0): 1, ('invitacion', 0.0): 1, ('find', 0.0): 1, ('confid', 0.0): 1, ('impact', 0.0): 1, ('benjamin', 0.0): 1, ('franklin', 0.0): 1, ('做商管程式設計（三）', 1.0): 1, ('3', 1.0): 2, ('sovereign', 0.0): 1, ('swag', 1.0): 1, ('bag', 1.0): 1, ('insert', 1.0): 1, ('manageri', 1.0): 2, ('facilit', 1.0): 1, ('journalist', 0.0): 1, ('talmud', 0.0): 1, ('methodolog', 0.0): 1, ('research', 0.0): 1, ('teoria', 0.0): 1, ('physic', 0.0): 1, ('ground', 0.0): 1, ('suit', 1.0): 2, ('tableau', 1.0): 1, ('lavoro', 1.0): 1, ('agil', 1.0): 1, ('desarrollando', 0.0): 1, ('logist', 1.0): 1, ('sharpen', 0.0): 1, ('vision', 0.0): 1, ('workshop', 0.0): 1, ('amor', 0.0): 1, ('calvin', 0.0): 1, ('histoir', 0.0): 1, ('réception', 0.0): 1, (\"d'une\", 0.0): 1, ('réform', 0.0): 1, ('fashion', 0.0): 1, ('asia', 0.0): 1, ('orient', 0.0): 1, ('s.', 0.0): 1, ('xx', 0.0): 1, ('tracker', 1.0): 1, ('budget', 1.0): 1, ('libr', 1.0): 1, ('calc', 1.0): 1, ('《新教伦理与资本主义精神》导读', 0.0): 1, ('b2b', 1.0): 1, ('circular', 1.0): 1, ('mastertrack', 0.0): 1, ('certif', 0.0): 1, ('action-driven', 1.0): 1, ('‘', 1.0): 1, ('classroom', 1.0): 1, ('’', 1.0): 1, ('bi', 1.0): 1, ('increas', 1.0): 2, ('lenin', 0.0): 1, ('putin', 0.0): 1, ('postmodern', 0.0): 1, ('elementari', 1.0): 1, ('real-world', 1.0): 1, ('pm', 1.0): 1, ('ai', 0.0): 2, ('empathi', 0.0): 1, ('中文', 1.0): 1, ('artist', 0.0): 1, ('leverag', 0.0): 1, ('enhanc', 0.0): 1, ('creation', 0.0): 1, ('alfabetização', 0.0): 1, ('midiática', 0.0): 1, ('informacion', 0.0): 1, ('diálogo', 0.0): 1, ('intercultur', 0.0): 1, ('unesco', 0.0): 1, ('unicamp', 0.0): 1, ('introduzion', 0.0): 1, ('storia', 0.0): 1, (\"dell'architettura\", 0.0): 1, ('contemporanea', 0.0): 1, ('4', 0.0): 1, ('canada', 0.0): 1, ('rooseveltian', 0.0): 1, ('mural', 1.0): 1, ('águila', 0.0): 1, ('nopal', 0.0): 1, ('¿la', 0.0): 1, ('serpient', 0.0): 1, ('all', 0.0): 1, ('origini', 0.0): 1, ('civiltà', 0.0): 1, ('mediterranea', 0.0): 1, ('archeologia', 0.0): 1, ('città', 0.0): 1, ('levant', 0.0): 1, ('occident', 0.0): 1, ('iii-i', 0.0): 1, ('millennio', 0.0): 1, ('ecologi', 0.0): 1, ('politiqu', 0.0): 1, ('défi', 0.0): 1, ('durabilité', 0.0): 1, ('démocrati', 0.0): 1, ('coexist', 0.0): 1, ('mediev', 0.0): 1, ('spain', 0.0): 1, ('muslim', 0.0): 1, ('revolutionari', 0.0): 1, ('util', 0.0): 1, ('equal', 0.0): 1, ('antisemit', 0.0): 1, ('materi', 1.0): 1, ('esg', 1.0): 1, ('factor', 1.0): 1, ('diy', 0.0): 1, ('spreadsheet', 1.0): 1, ('put', 1.0): 1, ('it', 1.0): 2, ('all', 1.0): 1, ('togeth', 1.0): 1, ('languag', 0.0): 1, ('mean', 0.0): 1, ('intercultur', 1.0): 1, ('landscap', 1.0): 1, ('restor', 1.0): 1, ('powerpoint', 1.0): 1, ('studi', 1.0): 1, ('accentur', 1.0): 1, ('brainstorm', 1.0): 1, ('work', 0.0): 1, ('hebrew', 0.0): 1, ('שירה', 0.0): 1, ('עברית', 0.0): 1, ('מודרנית', 0.0): 1, ('infonom', 1.0): 1, ('monet', 1.0): 1, ('deduct', 0.0): 1, ('contabilidad', 1.0): 1, ('contador', 1.0): 1, ('composição', 0.0): 1, ('escrevendo', 0.0): 1, ('letra', 0.0): 1, ('商管研究中的賽局分析（一）：通路選擇、合約制定與共享經濟', 1.0): 1, ('theoret', 1.0): 1, ('find', 1.0): 1, ('audienc', 1.0): 1, ('interest', 1.0): 1, ('explor', 1.0): 1, ('produc', 1.0): 1, ('vr', 0.0): 1, ('360', 0.0): 1, ('when', 0.0): 1, ('disast', 0.0): 1, ('meet', 0.0): 1, ('report', 1.0): 1, ('combin', 1.0): 1, ('prepar', 1.0): 1, ('consolid', 1.0): 1, ('statement', 1.0): 1, ('insight', 1.0): 1, ('avènement', 0.0): 1, ('christianism', 0.0): 1, ('archéologi', 0.0): 1, ('dernier', 0.0): 1, ('païen', 0.0): 1}\n"
     ]
    }
   ],
   "source": [
    "# frequency dictionary\n",
    "print(freqs)"
   ]
  },
  {
   "cell_type": "code",
   "execution_count": 22,
   "metadata": {},
   "outputs": [
    {
     "name": "stdout",
     "output_type": "stream",
     "text": [
      "In science titles, 'science' is repeated 3 times\n",
      "In humanities titles, 'science' is repeated 10 time\n"
     ]
    }
   ],
   "source": [
    "print(f\"In science titles, 'science' is repeated {freqs[('scienc', 1.0)]} times\")\n",
    "print(f\"In humanities titles, 'science' is repeated {freqs[('scienc', 0.0)]} time\")"
   ]
  },
  {
   "cell_type": "markdown",
   "metadata": {},
   "source": [
    "# 2. Frequency table: \n",
    "We will use this for our titles and len(freqs) = 1341"
   ]
  },
  {
   "cell_type": "code",
   "execution_count": 23,
   "metadata": {},
   "outputs": [
    {
     "name": "stdout",
     "output_type": "stream",
     "text": [
      "['financi', 'market']\n"
     ]
    },
    {
     "data": {
      "text/plain": [
       "[['financi', 5, 0], ['market', 21, 1]]"
      ]
     },
     "execution_count": 23,
     "metadata": {},
     "output_type": "execute_result"
    }
   ],
   "source": [
    "new_course = \"Financial Markets\"\n",
    "p = fun.preprocessing(new_course)\n",
    "print(p)\n",
    "\n",
    "# list representing our table of word counts.\n",
    "data = []\n",
    "\n",
    "# loop through our selected words\n",
    "for word in p:\n",
    "    # initialize science and humanities counts\n",
    "    sci = 0\n",
    "    hum = 0\n",
    "    # retrieve number of science counts\n",
    "    if (word, 1) in freqs:\n",
    "        sci = freqs[(word, 1)]\n",
    "    # retrieve number of humanities counts\n",
    "    if (word, 0) in freqs:\n",
    "        hum = freqs[(word, 0)]\n",
    "    # append the word counts to the table\n",
    "    data.append([word, sci, hum])\n",
    "    \n",
    "data"
   ]
  },
  {
   "cell_type": "markdown",
   "metadata": {},
   "source": [
    "## 3. Training Your Model"
   ]
  },
  {
   "cell_type": "code",
   "execution_count": 24,
   "metadata": {},
   "outputs": [],
   "source": [
    "# Collect the features 'x' and stack them into a matrix 'X'\n",
    "X = np.zeros((len(train_x), 3))\n",
    "\n",
    "for i in range(len(train_x)):\n",
    "    X[i, :] = fun.extract_features(train_x[i], freqs)\n",
    "\n",
    "# Training labels corresponding to X\n",
    "Y = train_y"
   ]
  },
  {
   "cell_type": "code",
   "execution_count": 25,
   "metadata": {},
   "outputs": [
    {
     "data": {
      "text/plain": [
       "(749, 3)"
      ]
     },
     "execution_count": 25,
     "metadata": {},
     "output_type": "execute_result"
    }
   ],
   "source": [
    "X.shape"
   ]
  },
  {
   "cell_type": "code",
   "execution_count": 26,
   "metadata": {},
   "outputs": [
    {
     "name": "stdout",
     "output_type": "stream",
     "text": [
      "Iteration 0: Cost = 0.36303704563925276\n",
      "Iteration 1: Cost = 0.3197900386767916\n",
      "Iteration 2: Cost = 0.2965535078650919\n",
      "Iteration 3: Cost = 0.2817334679690504\n",
      "Iteration 4: Cost = 0.2712762820025313\n",
      "Iteration 5: Cost = 0.26339523435410933\n",
      "Iteration 6: Cost = 0.25717599363714866\n",
      "Iteration 7: Cost = 0.25209989805821864\n",
      "Iteration 8: Cost = 0.2478496176234304\n",
      "Iteration 9: Cost = 0.24421934918263688\n",
      "Iteration 10: Cost = 0.24106925620059502\n",
      "Iteration 11: Cost = 0.23830062276592276\n",
      "Iteration 12: Cost = 0.23584149776805421\n",
      "Iteration 13: Cost = 0.23363799653700243\n",
      "Iteration 14: Cost = 0.23164881541315813\n",
      "Iteration 15: Cost = 0.2298416518398772\n",
      "Iteration 16: Cost = 0.22819079728851843\n",
      "Iteration 17: Cost = 0.22667547570528887\n",
      "Iteration 18: Cost = 0.2252786695073542\n",
      "Iteration 19: Cost = 0.22398627258494652\n",
      "Iteration 20: Cost = 0.22278646766415233\n",
      "Iteration 21: Cost = 0.221669260792046\n",
      "Iteration 22: Cost = 0.22062612792235653\n",
      "Iteration 23: Cost = 0.21964974284761174\n",
      "Iteration 24: Cost = 0.21873376508262826\n",
      "Iteration 25: Cost = 0.21787267256339618\n",
      "Iteration 26: Cost = 0.21706162828680645\n",
      "Iteration 27: Cost = 0.21629637296615734\n",
      "Iteration 28: Cost = 0.21557313785018564\n",
      "Iteration 29: Cost = 0.2148885733308953\n",
      "Iteration 30: Cost = 0.21423969003259596\n",
      "Iteration 31: Cost = 0.2136238098548478\n",
      "Iteration 32: Cost = 0.21303852501912557\n",
      "Iteration 33: Cost = 0.2124816636004539\n",
      "Iteration 34: Cost = 0.21195126035106124\n",
      "Iteration 35: Cost = 0.2114455318714525\n",
      "Iteration 36: Cost = 0.2109628553752817\n",
      "Iteration 37: Cost = 0.2105017504425172\n",
      "Iteration 38: Cost = 0.210060863271129\n",
      "Iteration 39: Cost = 0.20963895302867658\n",
      "Iteration 40: Cost = 0.20923487997741003\n",
      "Iteration 41: Cost = 0.20884759510416995\n",
      "Iteration 42: Cost = 0.20847613103266846\n",
      "Iteration 43: Cost = 0.20811959403314134\n",
      "Iteration 44: Cost = 0.20777715697473356\n",
      "Iteration 45: Cost = 0.20744805309079936\n",
      "Iteration 46: Cost = 0.20713157044766028\n",
      "Iteration 47: Cost = 0.20682704702414875\n",
      "Iteration 48: Cost = 0.20653386632318657\n",
      "Iteration 49: Cost = 0.2062514534482158\n",
      "Iteration 50: Cost = 0.205979271586982\n",
      "Iteration 51: Cost = 0.2057168188532648\n",
      "Iteration 52: Cost = 0.20546362544400473\n",
      "Iteration 53: Cost = 0.205219251075027\n",
      "Iteration 54: Cost = 0.20498328266348395\n",
      "Iteration 55: Cost = 0.20475533222927336\n",
      "Iteration 56: Cost = 0.20453503499127623\n",
      "Iteration 57: Cost = 0.20432204763728448\n",
      "Iteration 58: Cost = 0.20411604674910575\n",
      "Iteration 59: Cost = 0.20391672736658759\n",
      "Iteration 60: Cost = 0.20372380167625848\n",
      "Iteration 61: Cost = 0.2035369978119416\n",
      "Iteration 62: Cost = 0.2033560587561816\n",
      "Iteration 63: Cost = 0.2031807413325857\n",
      "Iteration 64: Cost = 0.20301081528029719\n",
      "Iteration 65: Cost = 0.2028460624027831\n",
      "Iteration 66: Cost = 0.20268627578395668\n",
      "Iteration 67: Cost = 0.20253125906544264\n",
      "Iteration 68: Cost = 0.20238082577938493\n",
      "Iteration 69: Cost = 0.20223479873183695\n",
      "Iteration 70: Cost = 0.20209300943225314\n",
      "Iteration 71: Cost = 0.20195529756505012\n",
      "Iteration 72: Cost = 0.20182151049963182\n",
      "Iteration 73: Cost = 0.20169150283558968\n",
      "Iteration 74: Cost = 0.2015651359801599\n",
      "Iteration 75: Cost = 0.20144227775524273\n",
      "Iteration 76: Cost = 0.2013228020315852\n",
      "Iteration 77: Cost = 0.20120658838793096\n",
      "Iteration 78: Cost = 0.20109352179315396\n",
      "Iteration 79: Cost = 0.20098349230956966\n",
      "Iteration 80: Cost = 0.2008763948157637\n",
      "Iteration 81: Cost = 0.2007721287474694\n",
      "Iteration 82: Cost = 0.20067059785509184\n",
      "Iteration 83: Cost = 0.20057170997665738\n",
      "Iteration 84: Cost = 0.2004753768250308\n",
      "Iteration 85: Cost = 0.20038151378835461\n",
      "Iteration 86: Cost = 0.20029003974276768\n",
      "Iteration 87: Cost = 0.2002008768765025\n",
      "Iteration 88: Cost = 0.20011395052457664\n",
      "Iteration 89: Cost = 0.20002918901331215\n",
      "Iteration 90: Cost = 0.1999465235140193\n",
      "Iteration 91: Cost = 0.19986588790522086\n",
      "Iteration 92: Cost = 0.19978721864280963\n",
      "Iteration 93: Cost = 0.19971045463764228\n",
      "Iteration 94: Cost = 0.19963553714003027\n",
      "Iteration 95: Cost = 0.1995624096307399\n",
      "Iteration 96: Cost = 0.19949101771799213\n",
      "Iteration 97: Cost = 0.19942130904015548\n",
      "Iteration 98: Cost = 0.1993532331737146\n",
      "Iteration 99: Cost = 0.19928674154620848\n",
      "Iteration 100: Cost = 0.19922178735380713\n",
      "Iteration 101: Cost = 0.19915832548325865\n",
      "Iteration 102: Cost = 0.19909631243792178\n",
      "Iteration 103: Cost = 0.19903570626764874\n",
      "Iteration 104: Cost = 0.19897646650226347\n",
      "Iteration 105: Cost = 0.19891855408845632\n",
      "Iteration 106: Cost = 0.19886193132984897\n",
      "Iteration 107: Cost = 0.19880656183008436\n",
      "Iteration 108: Cost = 0.19875241043873554\n",
      "Iteration 109: Cost = 0.19869944319988736\n",
      "Iteration 110: Cost = 0.19864762730321714\n",
      "Iteration 111: Cost = 0.19859693103747555\n",
      "Iteration 112: Cost = 0.1985473237461821\n",
      "Iteration 113: Cost = 0.19849877578544145\n",
      "Iteration 114: Cost = 0.19845125848375128\n",
      "Iteration 115: Cost = 0.19840474410370382\n",
      "Iteration 116: Cost = 0.19835920580546942\n",
      "Iteration 117: Cost = 0.19831461761196392\n",
      "Iteration 118: Cost = 0.19827095437561196\n",
      "Iteration 119: Cost = 0.19822819174663098\n",
      "Iteration 120: Cost = 0.19818630614273286\n",
      "Iteration 121: Cost = 0.19814527472020443\n",
      "Iteration 122: Cost = 0.19810507534625263\n",
      "Iteration 123: Cost = 0.19806568657258078\n",
      "Iteration 124: Cost = 0.1980270876101211\n",
      "Iteration 125: Cost = 0.1979892583048666\n",
      "Iteration 126: Cost = 0.1979521791147634\n",
      "Iteration 127: Cost = 0.1979158310875484\n",
      "Iteration 128: Cost = 0.19788019583958502\n",
      "Iteration 129: Cost = 0.19784525553555476\n",
      "Iteration 130: Cost = 0.1978109928690245\n",
      "Iteration 131: Cost = 0.1977773910438137\n",
      "Iteration 132: Cost = 0.197744433756132\n",
      "Iteration 133: Cost = 0.19771210517745308\n",
      "Iteration 134: Cost = 0.19768038993809897\n",
      "Iteration 135: Cost = 0.19764927311147304\n",
      "Iteration 136: Cost = 0.19761874019893655\n",
      "Iteration 137: Cost = 0.19758877711529418\n",
      "Iteration 138: Cost = 0.1975593701748584\n",
      "Iteration 139: Cost = 0.19753050607805794\n",
      "Iteration 140: Cost = 0.19750217189856234\n",
      "Iteration 141: Cost = 0.19747435507094663\n",
      "Iteration 142: Cost = 0.19744704337878705\n",
      "Iteration 143: Cost = 0.19742022494325034\n",
      "Iteration 144: Cost = 0.19739388821210804\n",
      "Iteration 145: Cost = 0.19736802194916486\n",
      "Iteration 146: Cost = 0.1973426152240919\n",
      "Iteration 147: Cost = 0.1973176574026472\n",
      "Iteration 148: Cost = 0.19729313813724164\n",
      "Iteration 149: Cost = 0.19726904735787965\n",
      "Iteration 150: Cost = 0.19724537526344513\n",
      "Iteration 151: Cost = 0.19722211231325001\n",
      "Iteration 152: Cost = 0.19719924921894796\n",
      "Iteration 153: Cost = 0.1971767769367215\n",
      "Iteration 154: Cost = 0.1971546866597591\n",
      "Iteration 155: Cost = 0.19713296981098333\n",
      "Iteration 156: Cost = 0.1971116180360452\n",
      "Iteration 157: Cost = 0.19709062319659904\n",
      "Iteration 158: Cost = 0.19706997736375043\n",
      "Iteration 159: Cost = 0.19704967281180583\n",
      "Iteration 160: Cost = 0.1970297020121915\n",
      "Iteration 161: Cost = 0.1970100576275945\n",
      "Iteration 162: Cost = 0.19699073250630306\n",
      "Iteration 163: Cost = 0.1969717196767763\n",
      "Iteration 164: Cost = 0.19695301234233895\n",
      "Iteration 165: Cost = 0.19693460387610684\n",
      "Iteration 166: Cost = 0.19691648781605867\n",
      "Iteration 167: Cost = 0.1968986578602839\n",
      "Iteration 168: Cost = 0.1968811078623689\n",
      "Iteration 169: Cost = 0.19686383182699047\n",
      "Iteration 170: Cost = 0.19684682390557476\n",
      "Iteration 171: Cost = 0.19683007839217187\n",
      "Iteration 172: Cost = 0.19681358971943116\n",
      "Iteration 173: Cost = 0.19679735245469207\n",
      "Iteration 174: Cost = 0.19678136129625834\n",
      "Iteration 175: Cost = 0.1967656110697257\n",
      "Iteration 176: Cost = 0.19675009672447463\n",
      "Iteration 177: Cost = 0.19673481333026663\n",
      "Iteration 178: Cost = 0.19671975607389872\n",
      "Iteration 179: Cost = 0.19670492025607567\n",
      "Iteration 180: Cost = 0.1966903012882416\n",
      "Iteration 181: Cost = 0.19667589468964086\n",
      "Iteration 182: Cost = 0.1966616960843582\n",
      "Iteration 183: Cost = 0.19664770119853817\n",
      "Iteration 184: Cost = 0.196633905857659\n",
      "Iteration 185: Cost = 0.19662030598383967\n",
      "Iteration 186: Cost = 0.19660689759335614\n",
      "Iteration 187: Cost = 0.1965936767940725\n",
      "Iteration 188: Cost = 0.19658063978308582\n",
      "Iteration 189: Cost = 0.19656778284436513\n",
      "Iteration 190: Cost = 0.19655510234649273\n",
      "Iteration 191: Cost = 0.1965425947404618\n",
      "Iteration 192: Cost = 0.19653025655754558\n",
      "Iteration 193: Cost = 0.19651808440722396\n",
      "Iteration 194: Cost = 0.19650607497516528\n",
      "Iteration 195: Cost = 0.19649422502130323\n",
      "Iteration 196: Cost = 0.19648253137791813\n",
      "Iteration 197: Cost = 0.19647099094781853\n",
      "Iteration 198: Cost = 0.19645960070252644\n",
      "Iteration 199: Cost = 0.1964483576805859\n",
      "The cost after training is 0.19644836.\n",
      "The resulting vector of weights is [-0.02211966, 0.0562594, -0.14594897]\n"
     ]
    },
    {
     "data": {
      "image/png": "[encoded data removed]",
      "text/plain": [
       "<Figure size 640x480 with 1 Axes>"
      ]
     },
     "metadata": {},
     "output_type": "display_data"
    }
   ],
   "source": [
    "# Initialize arrays to store cost and iteration values\n",
    "costs = []\n",
    "iterations = []\n",
    "\n",
    "# Initialize theta outside the loop\n",
    "theta = np.zeros((3, 1))\n",
    "\n",
    "# Apply gradient descent\n",
    "for iteration in range(200):\n",
    "    J, theta = fun.gradientDescent(X, Y, theta, 1e-5, 200)\n",
    "    costs.append(J)\n",
    "    iterations.append(iteration)\n",
    "    print(f\"Iteration {iteration}: Cost = {J}\")\n",
    "\n",
    "print(f\"The cost after training is {J:.8f}.\")\n",
    "print(f\"The resulting vector of weights is {[round(t, 8) for t in np.squeeze(theta)]}\")\n",
    "\n",
    "# Plot cost vs iterations\n",
    "plt.plot(iterations, costs)\n",
    "plt.xlabel('Iterations')\n",
    "plt.ylabel('Cost')\n",
    "plt.title('Cost vs Iterations')\n",
    "plt.show()\n"
   ]
  },
  {
   "cell_type": "code",
   "execution_count": 27,
   "metadata": {},
   "outputs": [
    {
     "data": {
      "text/html": [
       "<div>\n",
       "<style scoped>\n",
       "    .dataframe tbody tr th:only-of-type {\n",
       "        vertical-align: middle;\n",
       "    }\n",
       "\n",
       "    .dataframe tbody tr th {\n",
       "        vertical-align: top;\n",
       "    }\n",
       "\n",
       "    .dataframe thead th {\n",
       "        text-align: right;\n",
       "    }\n",
       "</style>\n",
       "<table border=\"1\" class=\"dataframe\">\n",
       "  <thead>\n",
       "    <tr style=\"text-align: right;\">\n",
       "      <th></th>\n",
       "      <th>bias</th>\n",
       "      <th>scince</th>\n",
       "      <th>humanities</th>\n",
       "      <th>type</th>\n",
       "    </tr>\n",
       "    <tr>\n",
       "      <th>course</th>\n",
       "      <th></th>\n",
       "      <th></th>\n",
       "      <th></th>\n",
       "      <th></th>\n",
       "    </tr>\n",
       "  </thead>\n",
       "  <tbody>\n",
       "    <tr>\n",
       "      <th>Successful Negotiation: Essential Strategies and Skills</th>\n",
       "      <td>1.0</td>\n",
       "      <td>58.0</td>\n",
       "      <td>4.0</td>\n",
       "      <td>1.0</td>\n",
       "    </tr>\n",
       "    <tr>\n",
       "      <th>IBM Project Manager  Professional Certificate</th>\n",
       "      <td>1.0</td>\n",
       "      <td>91.0</td>\n",
       "      <td>9.0</td>\n",
       "      <td>1.0</td>\n",
       "    </tr>\n",
       "    <tr>\n",
       "      <th>Global Impact: Business Ethics</th>\n",
       "      <td>1.0</td>\n",
       "      <td>302.0</td>\n",
       "      <td>13.0</td>\n",
       "      <td>1.0</td>\n",
       "    </tr>\n",
       "    <tr>\n",
       "      <th>品读道家的智慧</th>\n",
       "      <td>1.0</td>\n",
       "      <td>0.0</td>\n",
       "      <td>1.0</td>\n",
       "      <td>0.0</td>\n",
       "    </tr>\n",
       "    <tr>\n",
       "      <th>Structure: Building the Frame for Business Growth</th>\n",
       "      <td>1.0</td>\n",
       "      <td>302.0</td>\n",
       "      <td>6.0</td>\n",
       "      <td>1.0</td>\n",
       "    </tr>\n",
       "  </tbody>\n",
       "</table>\n",
       "</div>"
      ],
      "text/plain": [
       "                                                    bias  scince  humanities  \\\n",
       "course                                                                         \n",
       "Successful Negotiation: Essential Strategies an...   1.0    58.0         4.0   \n",
       "IBM Project Manager  Professional Certificate        1.0    91.0         9.0   \n",
       "Global Impact: Business Ethics                       1.0   302.0        13.0   \n",
       "品读道家的智慧                                              1.0     0.0         1.0   \n",
       "Structure: Building the Frame for Business Growth    1.0   302.0         6.0   \n",
       "\n",
       "                                                    type  \n",
       "course                                                    \n",
       "Successful Negotiation: Essential Strategies an...   1.0  \n",
       "IBM Project Manager  Professional Certificate        1.0  \n",
       "Global Impact: Business Ethics                       1.0  \n",
       "品读道家的智慧                                              0.0  \n",
       "Structure: Building the Frame for Business Growth    1.0  "
      ]
     },
     "execution_count": 27,
     "metadata": {},
     "output_type": "execute_result"
    }
   ],
   "source": [
    "df_train_x = pd.DataFrame(X)\n",
    "df_train_x[\"type\"] = train_y\n",
    "df_train_x[\"course\"] = train_x\n",
    "df_train_x.set_index([\"course\"], inplace = True) \n",
    "df_train_x.rename(columns={0:\"bias\", 1:\"scince\", 2:\"humanities\"}, inplace = True)\n",
    "\n",
    "df_train_x.head()"
   ]
  },
  {
   "cell_type": "markdown",
   "metadata": {},
   "source": [
    "### 3.1. Prediction"
   ]
  },
  {
   "cell_type": "code",
   "execution_count": 35,
   "metadata": {},
   "outputs": [
    {
     "name": "stdout",
     "output_type": "stream",
     "text": [
      "[[0.99999996]] -> Sports Business Analysis is a course about science\n"
     ]
    }
   ],
   "source": [
    "new_course = \"Sports Business Analysis\"\n",
    "#new_course = \"Children in Primary Education\" \n",
    "#new_course = \"Writing the best essay for university interviews about education\"\n",
    "\n",
    "y_hat = fun.predict_title(new_course, freqs, theta)\n",
    "if y_hat < 0.5:\n",
    "    print(f\"{y_hat} -> {new_course} is a course about humanities\")\n",
    "else:\n",
    "    print(f\"{y_hat} -> {new_course} is a course about science\")"
   ]
  },
  {
   "cell_type": "markdown",
   "metadata": {},
   "source": [
    "### 3.2 -  Checking the Performance using the Test Set\n",
    "* Given the test data and the weights of the trained model, we calculate the accuracy of the logistic regression model. "
   ]
  },
  {
   "cell_type": "code",
   "execution_count": 36,
   "metadata": {},
   "outputs": [
    {
     "name": "stdout",
     "output_type": "stream",
     "text": [
      "Logistic regression model's accuracy = 0.9521\n"
     ]
    }
   ],
   "source": [
    "accuracy = fun.test_logistic_regression(test_x, test_y, freqs, theta)\n",
    "print(f\"Logistic regression model's accuracy = {accuracy:.4f}\")"
   ]
  },
  {
   "cell_type": "code",
   "execution_count": 30,
   "metadata": {},
   "outputs": [
    {
     "name": "stdout",
     "output_type": "stream",
     "text": [
      "Label Predicted Course\n",
      "THE row IS: Mercados financieros\n",
      "THE PROCESSED row IS: ['mercado', 'financiero']\n",
      "1\t0.49447031\tb'mercado financiero'\n",
      "THE row IS: How to Create Color Gradients in Adobe Illustrator\n",
      "THE PROCESSED row IS: ['how', 'creat', 'color', 'gradient', 'adob', 'illustr']\n",
      "0\t0.50669798\tb'how creat color gradient adob illustr'\n",
      "THE row IS: Introduction to Corporate Finance\n",
      "THE PROCESSED row IS: ['introduct', 'corpor', 'financ']\n",
      "1\t0.11056530\tb'introduct corpor financ'\n"
     ]
    },
    {
     "name": "stderr",
     "output_type": "stream",
     "text": [
      "/var/folders/np/2h53vflx42jd3w_yxn33bvv40000gn/T/ipykernel_48909/2796818583.py:9: DeprecationWarning: Conversion of an array with ndim > 0 to a scalar is deprecated, and will error in future. Ensure you extract a single element from your array before performing this operation. (Deprecated NumPy 1.25.)\n",
      "  print('%d\\t%0.8f\\t%s' % (y, y_hat, ' '.join(fun.preprocessing(x)).encode('ascii', 'ignore')))\n"
     ]
    },
    {
     "name": "stdout",
     "output_type": "stream",
     "text": [
      "THE row IS: Introduction to Operations Management\n",
      "THE PROCESSED row IS: ['introduct', 'oper', 'manag']\n",
      "1\t0.35447958\tb'introduct oper manag'\n",
      "THE row IS: Photography Basics and Beyond: From Smartphone to DSLR Specialization\n",
      "THE PROCESSED row IS: ['photographi', 'basic', 'beyond', 'from', 'smartphon', 'dslr', 'special']\n",
      "0\t0.54469339\tb'photographi basic beyond from smartphon dslr special'\n",
      "THE row IS: Libertarian Free Will Specialization\n",
      "THE PROCESSED row IS: ['libertarian', 'free', 'will', 'special']\n",
      "0\t0.54165912\tb'libertarian free will special'\n",
      "THE row IS: Corporate Sustainability. Understanding and Seizing the Strategic Opportunity \n",
      "THE PROCESSED row IS: ['corpor', 'sustain', 'understand', 'seiz', 'strateg', 'opportun']\n",
      "1\t0.24805822\tb'corpor sustain understand seiz strateg opportun'\n",
      "THE row IS: Become a Journalist: Report the News! Specialization\n",
      "THE PROCESSED row IS: ['becom', 'journalist', 'report', 'new', 'special']\n",
      "0\t0.66462178\tb'becom journalist report new special'\n",
      "THE row IS: Building Your Freelancing Career Specialization\n",
      "THE PROCESSED row IS: ['build', 'your', 'freelanc', 'career', 'special']\n",
      "1\t0.16891484\tb'build your freelanc career special'\n"
     ]
    }
   ],
   "source": [
    "# Error analysis\n",
    "print('Label Predicted Course')\n",
    "for x,y in zip(test_x,test_y):\n",
    "    y_hat = fun.predict_title(x, freqs, theta)\n",
    "\n",
    "    if np.abs(y - (y_hat > 0.5)) > 0:\n",
    "        print('THE row IS:', x)\n",
    "        print('THE PROCESSED row IS:', fun.preprocessing(x))\n",
    "        print('%d\\t%0.8f\\t%s' % (y, y_hat, ' '.join(fun.preprocessing(x)).encode('ascii', 'ignore')))"
   ]
  }
 ],
 "metadata": {
  "kernelspec": {
   "display_name": "proj3",
   "language": "python",
   "name": "python3"
  },
  "language_info": {
   "codemirror_mode": {
    "name": "ipython",
    "version": 3
   },
   "file_extension": ".py",
   "mimetype": "text/x-python",
   "name": "python",
   "nbconvert_exporter": "python",
   "pygments_lexer": "ipython3",
   "version": "3.12.2"
  }
 },
 "nbformat": 4,
 "nbformat_minor": 2
}
