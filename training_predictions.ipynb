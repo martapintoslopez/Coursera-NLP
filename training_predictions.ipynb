{
 "cells": [
  {
   "cell_type": "code",
   "execution_count": 1,
   "metadata": {},
   "outputs": [
    {
     "name": "stderr",
     "output_type": "stream",
     "text": [
      "[nltk_data] Downloading package punkt to /Users/marta/nltk_data...\n",
      "[nltk_data]   Package punkt is already up-to-date!\n",
      "[nltk_data] Downloading package stopwords to /Users/marta/nltk_data...\n",
      "[nltk_data]   Package stopwords is already up-to-date!\n"
     ]
    }
   ],
   "source": [
    "import numpy as np\n",
    "import matplotlib.pyplot as plt\n",
    "import pandas as pd\n",
    "from sklearn.model_selection import train_test_split\n",
    "import functions as fun"
   ]
  },
  {
   "cell_type": "code",
   "execution_count": 2,
   "metadata": {},
   "outputs": [
    {
     "data": {
      "text/html": [
       "<div>\n",
       "<style scoped>\n",
       "    .dataframe tbody tr th:only-of-type {\n",
       "        vertical-align: middle;\n",
       "    }\n",
       "\n",
       "    .dataframe tbody tr th {\n",
       "        vertical-align: top;\n",
       "    }\n",
       "\n",
       "    .dataframe thead th {\n",
       "        text-align: right;\n",
       "    }\n",
       "</style>\n",
       "<table border=\"1\" class=\"dataframe\">\n",
       "  <thead>\n",
       "    <tr style=\"text-align: right;\">\n",
       "      <th></th>\n",
       "      <th>Course Title</th>\n",
       "      <th>Rating</th>\n",
       "      <th>Level</th>\n",
       "      <th>Schedule</th>\n",
       "      <th>What you will learn</th>\n",
       "      <th>Skill gain</th>\n",
       "      <th>Modules</th>\n",
       "      <th>Instructor</th>\n",
       "      <th>Offered By</th>\n",
       "      <th>Keyword</th>\n",
       "      <th>Course Url</th>\n",
       "      <th>Duration to complete (Approx.)</th>\n",
       "      <th>Number of Review</th>\n",
       "    </tr>\n",
       "  </thead>\n",
       "  <tbody>\n",
       "    <tr>\n",
       "      <th>0</th>\n",
       "      <td>Fashion as Design</td>\n",
       "      <td>4.8</td>\n",
       "      <td>Beginner level</td>\n",
       "      <td>Flexible schedule</td>\n",
       "      <td>Not specified</td>\n",
       "      <td>Art History, Art, History, Creativity</td>\n",
       "      <td>Introduction, Heroes, Silhouettes, Coutures, L...</td>\n",
       "      <td>Anna Burckhardt, Paola Antonelli, Michelle Mil...</td>\n",
       "      <td>The Museum of Modern Art</td>\n",
       "      <td>Arts and Humanities</td>\n",
       "      <td>https://www.coursera.org/learn/fashion-design</td>\n",
       "      <td>20.0</td>\n",
       "      <td>2813</td>\n",
       "    </tr>\n",
       "    <tr>\n",
       "      <th>1</th>\n",
       "      <td>Modern American Poetry</td>\n",
       "      <td>4.4</td>\n",
       "      <td>Beginner level</td>\n",
       "      <td>Flexible schedule</td>\n",
       "      <td>Not specified</td>\n",
       "      <td>Not specified</td>\n",
       "      <td>Orientation, Module 1, Module 2, Module 3, Mod...</td>\n",
       "      <td>Cary Nelson</td>\n",
       "      <td>University of Illinois at Urbana-Champaign</td>\n",
       "      <td>Arts and Humanities</td>\n",
       "      <td>https://www.coursera.org/learn/modern-american...</td>\n",
       "      <td>34.0</td>\n",
       "      <td>100</td>\n",
       "    </tr>\n",
       "  </tbody>\n",
       "</table>\n",
       "</div>"
      ],
      "text/plain": [
       "             Course Title  Rating           Level           Schedule  \\\n",
       "0       Fashion as Design     4.8  Beginner level  Flexible schedule   \n",
       "1  Modern American Poetry     4.4  Beginner level  Flexible schedule   \n",
       "\n",
       "  What you will learn                             Skill gain  \\\n",
       "0       Not specified  Art History, Art, History, Creativity   \n",
       "1       Not specified                          Not specified   \n",
       "\n",
       "                                             Modules  \\\n",
       "0  Introduction, Heroes, Silhouettes, Coutures, L...   \n",
       "1  Orientation, Module 1, Module 2, Module 3, Mod...   \n",
       "\n",
       "                                          Instructor  \\\n",
       "0  Anna Burckhardt, Paola Antonelli, Michelle Mil...   \n",
       "1                                        Cary Nelson   \n",
       "\n",
       "                                   Offered By              Keyword  \\\n",
       "0                    The Museum of Modern Art  Arts and Humanities   \n",
       "1  University of Illinois at Urbana-Champaign  Arts and Humanities   \n",
       "\n",
       "                                          Course Url  \\\n",
       "0      https://www.coursera.org/learn/fashion-design   \n",
       "1  https://www.coursera.org/learn/modern-american...   \n",
       "\n",
       "   Duration to complete (Approx.)  Number of Review  \n",
       "0                            20.0              2813  \n",
       "1                            34.0               100  "
      ]
     },
     "execution_count": 2,
     "metadata": {},
     "output_type": "execute_result"
    }
   ],
   "source": [
    "df = pd.read_csv(\"data/DatasetFinal.csv\", index_col=0)\n",
    "df.head(2)"
   ]
  },
  {
   "cell_type": "code",
   "execution_count": 3,
   "metadata": {},
   "outputs": [
    {
     "data": {
      "text/plain": [
       "(8342, 13)"
      ]
     },
     "execution_count": 3,
     "metadata": {},
     "output_type": "execute_result"
    }
   ],
   "source": [
    "df.shape"
   ]
  },
  {
   "cell_type": "markdown",
   "metadata": {},
   "source": [
    "Hay algunos cursos que están duplicados con distinta Keyword (no seguían una regla concreta). Hemos ido comprobándolos en la página web de Coursera para poder limpiar y eliminar los que eran erróneos.\n",
    "Hemos cambiado la keyword de alguno y borrado los que tenían errores"
   ]
  },
  {
   "cell_type": "markdown",
   "metadata": {},
   "source": [
    "# 1.PREPROCESSING\n",
    "\n",
    "* Remove hyperlinks or hashtags - We'll use the [re](https://docs.python.org/3/library/re.html)\n",
    "\n",
    "* Tokenize the string - To tokenize means to split the strings into individual words without blanks or tabs. In this same step, we will also convert each word in the string to lower case. The [tokenize](https://www.nltk.org/api/nltk.tokenize.html#module-nltk.tokenize.casual) module from NLTK allows us to do these easily\n",
    "\n",
    "* Remove stop words and punctuations\n",
    "\n",
    "* Stemming - NLTK has different modules for stemming and we will be using the [PorterStemmer](https://www.nltk.org/api/nltk.stem.html#module-nltk.stem.porter) "
   ]
  },
  {
   "cell_type": "code",
   "execution_count": 4,
   "metadata": {},
   "outputs": [],
   "source": [
    "# Listados de ciencias y humanidades:\n",
    "df_science = df[df[\"Keyword\"] != \"Arts and Humanities\"]\n",
    "df_humanities = df[df[\"Keyword\"] == \"Arts and Humanities\"]"
   ]
  },
  {
   "cell_type": "code",
   "execution_count": 5,
   "metadata": {},
   "outputs": [
    {
     "name": "stdout",
     "output_type": "stream",
     "text": [
      "The size of the humanities dataframe is: (467,)\n",
      "The size of the science dataframe is: (7875,)\n"
     ]
    }
   ],
   "source": [
    "print(f\"The size of the humanities dataframe is: {df_humanities[\"Course Title\"].shape}\")\n",
    "print(f\"The size of the science dataframe is: {df_science[\"Course Title\"].shape}\")"
   ]
  },
  {
   "cell_type": "code",
   "execution_count": 6,
   "metadata": {},
   "outputs": [],
   "source": [
    "row_humanities = list(df_humanities[\"Course Title\"])\n",
    "row_science = list(df_science[\"Course Title\"][:476])\n",
    "all_rows = (row_science) + (row_humanities)"
   ]
  },
  {
   "cell_type": "code",
   "execution_count": 7,
   "metadata": {},
   "outputs": [
    {
     "name": "stdout",
     "output_type": "stream",
     "text": [
      "<class 'list'> 943\n"
     ]
    }
   ],
   "source": [
    "print(type(all_rows), len(all_rows))"
   ]
  },
  {
   "cell_type": "code",
   "execution_count": 8,
   "metadata": {},
   "outputs": [],
   "source": [
    "# Combination of humanities and science labels\n",
    "y = np.append(np.ones((len(row_science), 1)), np.zeros((len(row_humanities), 1)), axis=0)"
   ]
  },
  {
   "cell_type": "markdown",
   "metadata": {},
   "source": [
    "### Train test split: 20% will be in the test set, and 80% in the training set."
   ]
  },
  {
   "cell_type": "code",
   "execution_count": 9,
   "metadata": {},
   "outputs": [],
   "source": [
    "# Conjunto de entrenamiento\n",
    "def get_data_train(title,label):\n",
    "    # Obtenemos el 80% del conjunto de datos como conjunto de entrenamiento.\"\n",
    "    train_x, test_x, train_y, test_y = train_test_split(title, label, test_size=0.20, random_state=42)\n",
    "\n",
    "    return train_x, test_x, train_y, test_y"
   ]
  },
  {
   "cell_type": "code",
   "execution_count": 10,
   "metadata": {},
   "outputs": [
    {
     "name": "stdout",
     "output_type": "stream",
     "text": [
      "<class 'list'> 754 189\n",
      "<class 'numpy.ndarray'> 754 189\n"
     ]
    }
   ],
   "source": [
    "train_x, test_x, train_y, test_y = get_data_train(all_rows,y)\n",
    "print(type(train_x), len(train_x), len(test_x))\n",
    "print(type(test_y), len(train_y), len(test_y))"
   ]
  },
  {
   "cell_type": "markdown",
   "metadata": {},
   "source": [
    "### Word Count - frequency dictionary"
   ]
  },
  {
   "cell_type": "code",
   "execution_count": 11,
   "metadata": {},
   "outputs": [
    {
     "name": "stdout",
     "output_type": "stream",
     "text": [
      "type(freqs) = <class 'dict'>\n",
      "len(freqs) = 1359\n"
     ]
    }
   ],
   "source": [
    "# create frequency dictionary\n",
    "freqs = fun.build_freqs(train_x, train_y)\n",
    "\n",
    "# check data type\n",
    "print(f'type(freqs) = {type(freqs)}')\n",
    "\n",
    "# check length of the dictionary\n",
    "print(f'len(freqs) = {len(freqs)}')"
   ]
  },
  {
   "cell_type": "code",
   "execution_count": 12,
   "metadata": {},
   "outputs": [
    {
     "name": "stdout",
     "output_type": "stream",
     "text": [
      "{('creat', 1.0): 23, ('busi', 1.0): 292, ('model', 1.0): 19, ('canva', 1.0): 14, ('mural', 1.0): 1, ('intern', 1.0): 14, ('b2b', 1.0): 1, ('market', 1.0): 18, ('real-world', 1.0): 1, ('cloud', 1.0): 8, ('pm', 1.0): 1, ('1', 1.0): 4, ('3', 1.0): 1, ('technolog', 1.0): 4, ('success', 1.0): 9, ('pinterest', 1.0): 2, ('pin', 1.0): 1, ('valu', 1.0): 8, ('data', 1.0): 18, ('looker', 1.0): 2, ('日本語版', 1.0): 2, ('special', 1.0): 79, ('launch', 1.0): 5, ('your', 1.0): 11, ('onlin', 1.0): 4, ('strategi', 1.0): 28, ('foundat', 1.0): 15, ('introduct', 1.0): 14, ('financ', 1.0): 9, ('account', 1.0): 10, ('case', 1.0): 3, ('analysi', 1.0): 21, ('the', 0.0): 56, ('art', 0.0): 28, ('vocal', 0.0): 1, ('product', 0.0): 8, ('assess', 1.0): 2, ('analyt', 1.0): 26, ('measur', 1.0): 2, ('entrepreneurship', 1.0): 5, ('ii', 1.0): 8, ('first', 1.0): 1, ('step', 1.0): 1, ('make', 1.0): 9, ('sustain', 1.0): 7, ('basebal', 0.0): 3, ('american', 0.0): 6, ('do', 1.0): 6, ('china', 1.0): 2, ('capston', 1.0): 12, ('organis', 0.0): 1, ('empir', 0.0): 1, ('assyrian', 0.0): 1, ('way', 0.0): 1, ('hrci', 1.0): 1, ('human', 1.0): 2, ('resourc', 1.0): 2, ('associ', 1.0): 1, ('profession', 1.0): 19, ('certif', 1.0): 16, ('how', 0.0): 8, ('creat', 0.0): 3, ('color', 0.0): 2, ('gradient', 0.0): 1, ('adob', 0.0): 1, ('illustr', 0.0): 1, ('iniciación', 0.0): 1, ('jeroglífico', 0.0): 1, ('egipcio', 0.0): 1, ('sonido', 0.0): 1, ('digital', 0.0): 4, ('síntesi', 0.0): 1, ('procesamiento', 0.0): 1, ('computador', 0.0): 1, ('libertarian', 0.0): 2, ('free', 0.0): 4, ('will', 0.0): 4, ('special', 0.0): 22, ('explor', 0.0): 5, ('beethoven', 0.0): 4, (\"'s\", 0.0): 11, ('piano', 0.0): 8, ('sonata', 0.0): 6, ('part', 0.0): 12, ('6', 0.0): 1, ('game', 0.0): 11, ('design', 0.0): 18, ('document', 0.0): 2, ('defin', 0.0): 1, ('concept', 0.0): 3, ('edit', 0.0): 1, ('photo', 0.0): 2, ('social', 0.0): 7, ('media', 0.0): 3, ('easil', 0.0): 1, ('excel', 1.0): 10, ('skill', 1.0): 14, ('new', 1.0): 2, ('societi', 1.0): 2, ('appli', 0.0): 1, ('public', 0.0): 1, ('histori', 0.0): 13, ('place', 0.0): 2, ('peopl', 0.0): 2, ('stori', 0.0): 6, ('freelanc', 1.0): 3, ('cybersecur', 1.0): 3, ('age', 0.0): 4, ('cathedr', 0.0): 1, ('path', 0.0): 1, ('sustain', 0.0): 5, ('futur', 0.0): 3, ('fundament', 1.0): 8, ('goldman', 1.0): 2, ('sach', 1.0): 2, ('10,000', 1.0): 2, ('women', 1.0): 2, ('environ', 1.0): 1, ('introduct', 0.0): 20, ('logic', 0.0): 1, ('critic', 0.0): 1, ('think', 0.0): 4, ('microsoft', 1.0): 3, ('representacion', 0.0): 1, ('cultural', 0.0): 1, ('sexualidad', 0.0): 1, ('quantit', 1.0): 3, ('storytel', 0.0): 3, ('brand', 0.0): 5, ('content', 0.0): 3, ('market', 0.0): 1, ('introducción', 0.0): 8, ('producción', 0.0): 5, ('apreciación', 0.0): 1, ('music', 0.0): 37, ('anticip', 1.0): 1, ('next', 1.0): 1, ('battl', 1.0): 1, ('beyond', 1.0): 1, ('curanderismo', 0.0): 2, ('tradit', 0.0): 2, ('heal', 0.0): 2, ('use', 0.0): 3, ('plant', 0.0): 1, ('from', 1.0): 2, ('ideat', 1.0): 1, ('exit', 1.0): 1, ('graphic', 0.0): 5, ('element', 0.0): 4, ('theori', 0.0): 3, ('imag', 0.0): 5, ('format', 0.0): 1, ('develop', 0.0): 7, ('idea', 0.0): 7, ('imaginari', 0.0): 1, ('copyright', 0.0): 2, ('multimedia', 0.0): 1, ('blockchain', 1.0): 3, ('conspiraci', 0.0): 1, ('planet', 0.0): 1, ('infonom', 1.0): 1, ('inform', 1.0): 5, ('manag', 1.0): 39, ('behavior', 1.0): 2, ('research', 1.0): 4, ('consum', 1.0): 1, ('see', 0.0): 1, ('through', 0.0): 3, ('photograph', 0.0): 1, ('educ', 0.0): 2, ('reform', 0.0): 1, ('polici', 0.0): 1, ('practic', 0.0): 2, ('innov', 1.0): 16, ('landscap', 1.0): 2, ('restor', 1.0): 2, ('advanc', 1.0): 7, ('intellig', 1.0): 13, ('product', 1.0): 5, ('suit', 1.0): 2, ('tableau', 1.0): 2, ('emot', 0.0): 1, ('philosoph', 0.0): 2, ('english', 1.0): 24, ('cross-cultur', 1.0): 1, ('commun', 1.0): 6, ('global', 1.0): 7, ('the', 1.0): 11, ('economi', 1.0): 3, ('holocaust', 0.0): 4, ('perspect', 0.0): 2, ('primari', 0.0): 1, ('sourc', 0.0): 1, ('perspectiva', 0.0): 1, ('música', 0.0): 2, ('colaborativa', 0.0): 1, ('r', 1.0): 3, ('guitar', 0.0): 3, ('perform', 0.0): 5, ('techniqu', 0.0): 4, ('intellectu', 0.0): 4, ('humil', 0.0): 3, ('scienc', 0.0): 15, ('digit', 1.0): 12, ('easil', 1.0): 1, ('東亞儒學：孟子一', 0.0): 1, ('east', 0.0): 6, ('asian', 0.0): 5, ('confucian', 0.0): 3, ('menciu', 0.0): 2, ('1', 0.0): 2, ('metric', 1.0): 1, ('data-driven', 1.0): 2, ('compani', 1.0): 1, ('a', 0.0): 8, ('journey', 0.0): 4, ('western', 0.0): 3, ('christian', 0.0): 3, ('persecut', 0.0): 1, ('faith', 0.0): 1, ('global', 0.0): 8, ('religion', 0.0): 12, ('200', 0.0): 1, ('1650', 0.0): 1, ('negoti', 1.0): 4, ('essenti', 1.0): 7, ('social', 1.0): 8, ('impact', 1.0): 4, ('宇宙之旅：展现生命', 0.0): 1, ('univers', 0.0): 5, ('unfold', 0.0): 2, ('life', 0.0): 4, ('chines', 1.0): 1, ('中级汉语', 1.0): 1, ('（上）', 1.0): 1, ('again', 0.0): 3, ('i', 0.0): 4, ('understand', 0.0): 6, ('argument', 0.0): 1, ('write', 0.0): 16, ('about', 0.0): 1, ('ourselv', 0.0): 1, ('your', 0.0): 16, ('musicianship', 0.0): 5, ('integr', 1.0): 1, ('ethic', 1.0): 4, ('femin', 0.0): 1, ('justic', 0.0): 4, ('紅樓夢-母神崇拜', 0.0): 1, ('red', 0.0): 3, ('chamber', 0.0): 3, ('dream', 0.0): 3, ('2', 0.0): 5, ('public', 1.0): 1, ('sector', 1.0): 1, ('effici', 1.0): 1, ('optim', 1.0): 3, ('process', 1.0): 6, ('polit', 0.0): 1, ('skeptic', 0.0): 1, ('camera', 0.0): 2, ('exposur', 0.0): 1, ('photographi', 0.0): 3, ('mose', 0.0): 2, ('face', 0.0): 1, ('reflect', 0.0): 1, ('jewish', 0.0): 2, ('literatur', 0.0): 4, ('creativ', 0.0): 4, ('craft', 0.0): 4, ('charact', 0.0): 2, ('behavior', 0.0): 2, ('architectur', 0.0): 3, ('human', 0.0): 4, ('strateg', 1.0): 5, ('musician', 0.0): 4, ('’', 0.0): 5, ('profession', 0.0): 3, ('toolbox', 0.0): 1, ('portfolio', 0.0): 2, ('career', 0.0): 4, ('beatl', 0.0): 1, ('plan', 1.0): 10, ('bookkeep', 1.0): 3, ('basic', 1.0): 4, ('humanidad', 0.0): 3, ('result', 1.0): 1, ('develop', 1.0): 5, ('program', 1.0): 4, ('elicit', 1.0): 1, ('discov', 0.0): 1, ('act', 0.0): 1, ('teach', 0.0): 2, ('theme', 0.0): 2, ('healthcar', 1.0): 3, ('organ', 1.0): 4, ('manipul', 1.0): 1, ('scale', 1.0): 1, ('system', 1.0): 4, ('algorithm', 1.0): 2, ('world', 0.0): 9, ('video', 0.0): 7, ('songwrit', 0.0): 4, ('arrang', 0.0): 1, ('produc', 0.0): 1, ('practic', 1.0): 1, ('project-cent', 1.0): 2, ('cours', 1.0): 2, ('中國人文經典導讀', 0.0): 1, ('中日文化交流史', 0.0): 1, ('中国哲学经典著作导读', 0.0): 1, ('econom', 1.0): 4, ('chosen', 0.0): 1, ('issu', 0.0): 1, ('protect', 1.0): 4, ('copyright', 1.0): 2, ('content', 1.0): 3, ('beauti', 0.0): 1, ('kunqu', 0.0): 1, ('opera', 0.0): 2, ('oper', 1.0): 6, ('support', 1.0): 1, ('googl', 1.0): 11, ('sheet', 1.0): 1, ('20世纪西方音乐', 0.0): 1, ('20th', 0.0): 2, ('centuri', 0.0): 6, ('renew', 1.0): 1, ('energi', 1.0): 1, ('green', 1.0): 2, ('build', 1.0): 7, ('music', 1.0): 4, ('capston', 0.0): 4, ('hotel', 1.0): 1, ('distribut', 1.0): 2, ('revenu', 1.0): 1, ('demand', 1.0): 1, ('a', 1.0): 7, ('approach', 1.0): 3, ('non-n', 1.0): 1, ('speaker', 1.0): 1, ('e-busi', 1.0): 1, ('negocio', 1.0): 1, ('iii', 0.0): 1, ('reason', 0.0): 3, ('induct', 0.0): 1, ('intermedi', 1.0): 1, ('i', 1.0): 5, ('non-design', 0.0): 1, ('interact', 0.0): 2, ('nonlinear', 0.0): 1, ('twine', 0.0): 1, ('l', 0.0): 1, ('antisémitism', 0.0): 1, ('de', 0.0): 2, ('origin', 0.0): 4, ('jour', 0.0): 1, ('meta', 1.0): 2, ('power', 1.0): 1, ('machin', 1.0): 4, ('learn', 1.0): 4, ('boost', 1.0): 1, ('accumul', 1.0): 1, ('click', 1.0): 1, ('fight', 1.0): 1, ('fraud', 1.0): 2, ('deni', 1.0): 1, ('deadbeat', 1.0): 1, ('storytel', 1.0): 1, ('influenc', 1.0): 1, ('implic', 1.0): 1, ('ai', 1.0): 8, ('nano-cours', 1.0): 1, ('corpor', 1.0): 6, ('wonder', 0.0): 1, ('ancient', 0.0): 3, ('egypt', 0.0): 2, ('mooc', 0.0): 3, ('activismo', 0.0): 1, ('movimiento', 0.0): 1, ('financi', 1.0): 8, ('report', 1.0): 1, ('combin', 1.0): 1, ('prepar', 1.0): 1, ('consolid', 1.0): 1, ('statement', 1.0): 1, ('style', 0.0): 1, ('entrepreneur', 1.0): 3, ('الذكاء', 1.0): 1, ('الاصطناعي', 1.0): 1, ('للجميع', 1.0): 1, ('corto', 0.0): 1, ('forens', 1.0): 1, ('examin', 1.0): 1, ('decis', 1.0): 8, ('tecnología', 0.0): 1, ('softwar', 0.0): 4, ('libr', 0.0): 3, ('proyecto', 0.0): 2, ('final', 0.0): 6, ('what', 0.0): 2, ('is', 0.0): 1, ('contemporari', 0.0): 4, ('contabilidad', 1.0): 1, ('contador', 1.0): 1, ('ecosystem', 0.0): 1, ('servic', 0.0): 1, ('method', 0.0): 1, ('own', 1.0): 2, ('free', 1.0): 1, ('page', 1.0): 1, ('blogger', 1.0): 1, ('german', 0.0): 1, ('sap', 1.0): 1, ('consult', 1.0): 2, ('莊子─人情', 0.0): 1, ('zhuangzi─between', 0.0): 1, ('ibm', 1.0): 3, ('project', 1.0): 12, ('korean', 0.0): 3, ('leer', 0.0): 1, ('macondo', 0.0): 1, ('obra', 0.0): 1, ('gabriel', 0.0): 2, ('garcía', 0.0): 2, ('márquez', 0.0): 2, ('first', 0.0): 1, ('novel', 0.0): 1, ('futur', 1.0): 1, ('work', 1.0): 3, ('становлення', 0.0): 1, ('сучасної', 0.0): 1, ('україни', 0.0): 1, ('创作吧！微影人！', 0.0): 1, ('small', 1.0): 9, ('use', 1.0): 4, ('facebook', 1.0): 5, ('lead', 1.0): 3, ('modern', 1.0): 2, ('day', 1.0): 1, ('商管研究中的賽局分析（二）：資訊經濟學', 1.0): 1, ('game', 1.0): 4, ('theoret', 1.0): 3, ('2', 1.0): 1, ('black', 0.0): 2, ('protest', 0.0): 2, ('philosophi', 0.0): 16, ('trademark', 1.0): 1, ('shape', 0.0): 1, ('urban', 0.0): 2, ('import', 0.0): 1, ('power', 0.0): 1, ('societi', 0.0): 3, ('effect', 0.0): 2, ('altruism', 0.0): 1, ('eas', 0.0): 1, ('burden', 0.0): 1, ('obes', 0.0): 1, ('diabet', 0.0): 1, ('cardiovascular', 0.0): 1, ('diseas', 0.0): 1, ('modern', 0.0): 16, ('profil', 1.0): 3, ('twitter', 1.0): 1, ('action-driven', 1.0): 1, ('‘', 1.0): 1, ('classroom', 1.0): 1, ('’', 1.0): 1, ('world', 1.0): 3, ('tool', 1.0): 5, ('salesforc', 1.0): 1, ('sale', 1.0): 3, ('تقييم', 1.0): 2, ('واستحواذ', 1.0): 1, ('الشركات', 1.0): 2, ('acquir', 1.0): 1, ('key', 1.0): 2, ('becom', 1.0): 2, ('chang', 1.0): 1, ('agent', 1.0): 2, ('賽局與產業競爭策略', 1.0): 1, ('theori', 1.0): 2, ('advertis', 1.0): 1, ('grow', 1.0): 5, ('love', 0.0): 1, ('forc', 0.0): 1, ('taxat', 1.0): 3, ('entiti', 1.0): 3, ('smarter', 1.0): 1, ('how', 1.0): 11, ('instagram', 1.0): 3, ('principl', 0.0): 2, ('composit', 0.0): 3, ('digit', 0.0): 3, ('post-product', 0.0): 1, ('dddm', 1.0): 1, ('paesaggi', 0.0): 1, ('roma', 0.0): 1, ('antica', 0.0): 1, ('archeologia', 0.0): 2, ('storia', 0.0): 2, ('palatino', 0.0): 1, ('pixel', 0.0): 1, ('transmedia', 0.0): 2, ('narr', 0.0): 3, ('emerg', 0.0): 3, ('technolog', 0.0): 2, ('audienc', 0.0): 2, ('re-imag', 0.0): 1, ('god', 0.0): 1, ('context', 0.0): 1, ('engin', 1.0): 2, ('risk', 1.0): 2, ('in', 0.0): 2, ('search', 0.0): 1, ('overcom', 0.0): 1, ('challeng', 0.0): 3, ('self', 0.0): 1, ('leverag', 0.0): 1, ('ai', 0.0): 2, ('enhanc', 0.0): 1, ('creation', 0.0): 1, ('smart', 1.0): 3, ('lavoro', 1.0): 1, ('agil', 1.0): 2, ('famili', 1.0): 2, ('european', 1.0): 2, ('law', 1.0): 5, ('europ', 1.0): 2, ('101', 0.0): 2, ('odesa', 0.0): 1, ('jew', 0.0): 2, ('sa', 1.0): 2, ('statist', 1.0): 4, ('analyst', 1.0): 3, ('present', 1.0): 4, ('pwc', 1.0): 1, ('english', 0.0): 1, ('plot', 0.0): 1, ('budget', 1.0): 1, ('libr', 1.0): 1, ('calc', 1.0): 1, ('transform', 1.0): 8, ('fashion', 1.0): 1, ('trend', 1.0): 2, ('certifi', 1.0): 1, ('professional™', 1.0): 1, ('cbap®', 1.0): 1, ('typographi', 0.0): 2, ('chain', 1.0): 3, ('execut', 1.0): 2, ('overview', 1.0): 2, ('great', 0.0): 1, ('transit', 0.0): 2, ('local', 0.0): 1, ('action', 0.0): 2, ('promot', 0.0): 1, ('materi', 0.0): 1, ('everi', 0.0): 1, ('need', 0.0): 1, ('desenvolvendo', 0.0): 1, ('musicalidad', 0.0): 2, ('bodi', 0.0): 1, ('ii', 0.0): 5, ('missõ', 0.0): 2, ('jesuítica', 0.0): 2, ('território', 0.0): 2, ('guarani', 0.0): 2, ('cotidiano', 0.0): 1, ('propos', 1.0): 1, ('vism', 1.0): 1, ('playbook', 1.0): 1, ('principl', 1.0): 4, ('persuas', 1.0): 1, ('músico', 0.0): 4, ('moderno', 0.0): 3, ('challeng', 1.0): 1, ('better', 1.0): 2, ('leverag', 1.0): 1, ('design', 1.0): 9, ('method', 1.0): 1, ('identifi', 1.0): 1, ('opportun', 1.0): 2, ('onlin', 0.0): 1, ('new', 0.0): 2, ('william', 0.0): 2, ('shakespear', 0.0): 3, ('twelfth', 0.0): 1, ('night', 0.0): 1, ('comedi', 0.0): 1, ('conflict', 0.0): 3, ('commun', 0.0): 2, ('mind', 0.0): 4, ('genet', 0.0): 1, ('privaci', 0.0): 1, ('concern', 0.0): 1, ('chord', 0.0): 3, ('chart', 0.0): 1, ('diaton', 0.0): 1, ('minor', 0.0): 1, ('key', 0.0): 1, ('procur', 1.0): 1, ('sourc', 1.0): 1, ('scienc', 1.0): 2, ('concept', 1.0): 2, ('applic', 1.0): 5, ('el', 0.0): 4, ('ecolog', 0.0): 4, ('natur', 1.0): 1, ('decision-mak', 1.0): 1, ('health', 1.0): 2, ('care', 1.0): 1, ('access', 0.0): 1, ('scenic', 0.0): 1, ('voic', 0.0): 3, ('their', 0.0): 1, ('own', 0.0): 1, ('women', 0.0): 2, ('spiritu', 0.0): 1, ('middl', 0.0): 4, ('set', 0.0): 1, ('descript', 0.0): 1, ('miro', 1.0): 3, ('attract', 1.0): 1, ('engag', 1.0): 2, ('custom', 1.0): 3, ('cultura', 0.0): 1, ('maya', 0.0): 1, ('yucatán', 0.0): 1, ('recov', 0.0): 1, ('humankind', 0.0): 1, ('past', 0.0): 1, ('save', 0.0): 1, ('heritag', 0.0): 3, ('elementari', 1.0): 1, ('悖论：思维的魔方', 0.0): 1, ('singer', 0.0): 1, ('word', 0.0): 1, ('spun', 0.0): 1, ('out', 0.0): 1, ('visual', 0.0): 2, ('literari', 0.0): 1, ('cultur', 0.0): 6, ('nineteenth', 0.0): 1, ('japan', 0.0): 1, ('activ', 0.0): 3, ('strategi', 0.0): 2, ('engag', 0.0): 1, ('buyer', 1.0): 1, ('persona', 1.0): 1, ('diagram', 1.0): 2, ('get', 1.0): 3, ('start', 1.0): 5, ('lesson', 1.0): 3, ('navig', 1.0): 1, ('tone', 1.0): 1, ('formal', 1.0): 1, ('direct', 1.0): 1, ('email', 1.0): 2, ('commerci', 1.0): 1, ('form', 1.0): 1, ('government', 1.0): 1, ('regul', 1.0): 1, ('wharton', 1.0): 2, ('lyric', 0.0): 1, ('egiptología', 0.0): 1, ('egyptolog', 0.0): 1, ('leadership', 1.0): 3, ('princípio', 0.0): 1, ('gerai', 0.0): 1, ('da', 0.0): 2, ('técnica', 0.0): 1, ('do', 0.0): 1, ('violino', 0.0): 1, ('e', 0.0): 1, ('viola', 0.0): 1, ('arco', 0.0): 1, ('corpor', 0.0): 1, ('seiz', 0.0): 1, ('strateg', 0.0): 1, ('opportun', 0.0): 1, ('play', 0.0): 1, ('up', 0.0): 1, ('neck', 0.0): 1, ('increas', 1.0): 1, ('classic', 0.0): 3, ('for', 1.0): 4, ('everyon', 1.0): 1, ('scandinavian', 0.0): 1, ('film', 0.0): 3, ('televis', 0.0): 1, ('warehous', 1.0): 1, ('implement', 1.0): 1, ('latin', 1.0): 1, ('america', 1.0): 1, ('bi', 1.0): 1, ('greek', 0.0): 2, ('roman', 0.0): 2, ('mytholog', 0.0): 1, ('revolutionari', 0.0): 2, ('border', 0.0): 1, ('elect', 0.0): 1, ('constitut', 0.0): 1, ('prison', 0.0): 1, ('reimagin', 0.0): 1, ('活用希臘哲學', 0.0): 1, ('feder', 1.0): 1, ('properti', 1.0): 1, ('transact', 1.0): 1, ('owner', 1.0): 1, ('sharehold', 1.0): 1, ('prezi', 1.0): 2, ('o', 0.0): 1, ('contemporâneo', 0.0): 1, ('effect', 1.0): 4, ('approach', 0.0): 1, ('melod', 0.0): 1, ('form', 0.0): 3, ('simpl', 0.0): 1, ('harmoni', 0.0): 1, ('macroeconom', 1.0): 1, ('streamlin', 1.0): 1, ('swimlan', 1.0): 1, ('an', 0.0): 5, ('solut', 0.0): 2, ('tour', 0.0): 1, ('powerpoint', 1.0): 1, ('web', 0.0): 2, ('wirefram', 0.0): 1, ('prototyp', 0.0): 1, ('拍摄：像剪辑师一样拍摄', 0.0): 1, ('manageri', 1.0): 3, ('facilit', 1.0): 1, ('guid', 1.0): 1, ('gener', 1.0): 2, ('insight', 1.0): 1, ('patrick', 0.0): 1, ('henri', 0.0): 1, ('forgotten', 0.0): 1, ('founder', 0.0): 1, ('chines', 0.0): 3, ('china', 0.0): 5, ('context', 1.0): 1, ('studio', 0.0): 2, ('postwar', 0.0): 1, ('abstract', 0.0): 1, ('paint', 0.0): 1, ('guid', 0.0): 1, ('read', 0.0): 1, ('e-market', 1.0): 1, ('soul', 0.0): 1, ('belief', 0.0): 2, ('caus', 0.0): 1, ('consequ', 0.0): 1, ('unit', 0.0): 1, ('system', 0.0): 1, ('busi', 0.0): 3, ('chang', 0.0): 3, ('earli', 0.0): 2, ('war', 0.0): 2, ('state', 0.0): 3, ('han', 0.0): 1, ('mysql', 1.0): 1, ('techniqu', 1.0): 1, ('e-commerc', 1.0): 2, ('linkedin', 1.0): 1, ('jefferson', 0.0): 1, ('aplicacion', 0.0): 1, ('musical', 0.0): 1, ('arduino', 0.0): 1, ('طرق', 1.0): 1, ('valuat', 1.0): 2, ('patent', 1.0): 1, ('write', 1.0): 7, ('open', 1.0): 1, ('close', 1.0): 1, ('subsist', 0.0): 1, ('marketplac', 0.0): 1, ('realiti', 0.0): 2, ('bite', 0.0): 1, ('metaphys', 0.0): 1, ('experi', 0.0): 2, ('sound', 0.0): 2, ('polit', 1.0): 1, ('polici', 1.0): 1, ('player', 1.0): 1, ('space', 1.0): 1, ('getvirtu', 1.0): 1, ('thoma', 0.0): 2, ('berry的世界观：地球社区的繁荣', 0.0): 1, ('worldview', 0.0): 1, ('berri', 0.0): 1, ('flourish', 0.0): 1, ('earth', 0.0): 1, ('startup', 1.0): 1, ('trade', 1.0): 1, ('neural', 0.0): 1, ('basi', 0.0): 1, ('imagin', 0.0): 1, ('moral', 0.0): 1, ('think', 1.0): 4, ('cfo', 1.0): 1, ('origin', 1.0): 1, ('tech', 1.0): 1, ('industri', 1.0): 1, ('launch', 0.0): 1, ('leader', 1.0): 1, ('gestión', 1.0): 1, ('proyecto', 1.0): 1, ('visual', 1.0): 1, ('media', 1.0): 2, ('ad', 1.0): 2, ('promot', 1.0): 1, ('audio', 0.0): 2, ('pure', 0.0): 1, ('data', 0.0): 1, ('current', 0.0): 1, ('gen', 0.0): 1, ('3d', 0.0): 1, ('prop', 0.0): 1, ('jazz', 0.0): 2, ('improvis', 0.0): 1, ('comput', 1.0): 2, ('primer', 1.0): 1, ('semi-tech', 1.0): 1, ('learner', 1.0): 1, ('one', 0.0): 2, ('1760', 0.0): 1, ('1910', 0.0): 2, ('pre-mba', 1.0): 1, ('crm', 1.0): 1, ('vall', 0.0): 1, ('rey', 0.0): 1, ('plato', 0.0): 1, ('hi', 0.0): 3, ('predecessor', 0.0): 1, ('textual', 0.0): 1, ('font', 0.0): 1, ('space', 0.0): 3, ('杏林探宝——认知中药', 0.0): 1, ('divers', 1.0): 1, ('team', 1.0): 1, ('pass-through', 1.0): 1, ('brand', 1.0): 5, ('align', 1.0): 1, ('behaviour', 1.0): 1, ('construct', 1.0): 1, ('judgment', 1.0): 1, ('forecast', 1.0): 2, ('relativ', 0.0): 1, ('5', 0.0): 1, ('creativ', 1.0): 1, ('journey', 1.0): 1, ('get', 0.0): 3, ('start', 0.0): 1, ('essay', 0.0): 4, ('platform', 1.0): 2, ('environment', 0.0): 1, ('landscap', 0.0): 1, ('rock', 0.0): 3, ('two', 0.0): 2, ('like', 0.0): 1, ('mozart', 0.0): 1, ('cosmopolitan', 0.0): 1, ('mediev', 0.0): 2, ('arab', 0.0): 1, ('electron', 0.0): 3, ('intern', 0.0): 2, ('crimin', 0.0): 1, ('law', 0.0): 1, ('introdução', 0.0): 1, ('guitarra', 0.0): 2, ('control', 0.0): 1, ('manag', 0.0): 2, ('mental', 0.0): 1, ('health', 0.0): 3, ('dure', 0.0): 1, ('covid-19', 0.0): 2, ('regulatori', 1.0): 1, ('complianc', 1.0): 1, ('millennium', 0.0): 2, ('make', 0.0): 3, ('ukrain', 0.0): 2, ('fundament', 0.0): 3, ('romant', 0.0): 1, ('blue', 0.0): 1, ('mejor', 1.0): 1, ('decision', 1.0): 1, ('historia', 0.0): 4, ('del', 0.0): 2, ('barroco', 0.0): 1, ('posmoderno', 0.0): 1, ('deliv', 0.0): 1, ('news', 0.0): 1, ('trendi', 1.0): 1, ('merch', 1.0): 1, ('french', 0.0): 1, ('revolut', 0.0): 1, ('partner', 1.0): 1, ('papel', 1.0): 1, ('gestão', 1.0): 1, ('rh', 1.0): 1, ('suppli', 1.0): 2, ('silla', 0.0): 1, ('español', 1.0): 1, ('東亞儒家：人文精神二', 0.0): 1, ('崑曲之美', 0.0): 1, ('disrupt', 1.0): 1, ('structur', 0.0): 1, ('valu', 0.0): 2, ('sonoro', 0.0): 1, ('well', 0.0): 1, ('time', 0.0): 1, ('cómo', 0.0): 3, ('hacer', 0.0): 1, ('invitacion', 0.0): 1, ('canva', 0.0): 3, ('又見大觀：《紅樓夢》中的烏托邦', 0.0): 1, ('3', 0.0): 1, ('daguan', 0.0): 1, ('garden', 0.0): 2, ('violenc', 0.0): 1, ('produção', 0.0): 1, ('everywher', 0.0): 1, ('search', 1.0): 1, ('seo', 1.0): 1, ('mediterranean', 0.0): 2, ('exchang', 0.0): 1, ('renaiss', 0.0): 1, ('enlighten', 0.0): 1, ('moneybal', 0.0): 1, ('career', 1.0): 1, ('run', 1.0): 2, ('theatr', 0.0): 1, ('high-impact', 1.0): 1, ('whatsapp', 1.0): 1, ('light', 0.0): 1, ('share', 0.0): 1, ('indigen', 0.0): 2, ('food', 1.0): 1, ('beverag', 1.0): 1, ('problem', 1.0): 3, ('solv', 1.0): 2, ('导演思维：微影人的自我修养', 0.0): 1, ('descriptor', 1.0): 1, ('money', 0.0): 1, ('¿cómo', 0.0): 1, ('persuadir', 0.0): 1, ('jugando', 0.0): 1, ('palabra', 0.0): 1, ('imágen', 0.0): 1, ('número', 0.0): 1, ('india-u', 1.0): 1, ('relat', 1.0): 1, ('geopolit', 1.0): 1, ('cultur', 1.0): 1, ('intercultur', 1.0): 1, ('compel', 1.0): 1, ('big', 0.0): 1, ('bang', 0.0): 1, ('genesi', 0.0): 1, (\"'n\", 0.0): 1, ('roll', 0.0): 1, ('aristotl', 0.0): 1, ('successor', 0.0): 1, ('compet', 0.0): 1, ('aborigin', 0.0): 1, ('sydney', 0.0): 1, ('who', 0.0): 1, ('wrote', 0.0): 1, ('m', 1.0): 1, ('privat', 1.0): 4, ('equiti', 1.0): 2, ('ventur', 1.0): 3, ('capit', 1.0): 2, ('know', 0.0): 1, ('thyself', 0.0): 1, ('limit', 0.0): 1, ('self-knowledg', 0.0): 1, ('unconsci', 0.0): 1, ('organis', 1.0): 1, ('resili', 1.0): 1, ('growth', 1.0): 5, ('low', 0.0): 1, ('poli', 0.0): 1, ('for', 0.0): 1, ('memoir', 0.0): 1, ('person', 0.0): 3, ('relationship', 0.0): 1, ('reader', 0.0): 1, ('holocausto', 0.0): 1, ('abismo', 0.0): 1, ('tension', 0.0): 1, ('harmon', 0.0): 1, ('function', 0.0): 1, ('modal', 0.0): 1, ('interchang', 0.0): 1, ('autom', 1.0): 2, ('становление', 0.0): 1, ('современной', 0.0): 1, ('украины', 0.0): 1, ('question', 0.0): 2, ('littératur', 0.0): 1, ('mondial', 0.0): 1, ('real', 1.0): 1, ('estat', 1.0): 1, ('kit', 1.0): 1, ('histor', 0.0): 2, ('interpret', 0.0): 1, ('never', 0.0): 1, ('lie', 0.0): 1, ('剪辑：像编剧一样剪辑', 0.0): 1, ('lean', 1.0): 1, ('master', 1.0): 1, ('enhanc', 1.0): 1, ('logist', 1.0): 1, ('address', 1.0): 1, ('issu', 1.0): 1, ('abroad', 1.0): 1, ('hypothesi', 1.0): 1, ('test', 1.0): 1, ('confid', 1.0): 1, ('interv', 1.0): 1, ('estim', 1.0): 1, ('improvisación', 0.0): 1, ('i.', 0.0): 1, ('história', 0.0): 1, ('viral', 1.0): 1, ('craft', 1.0): 1, ('contagi', 1.0): 1, ('across', 0.0): 1, ('disciplin', 0.0): 1, ('neurosci', 0.0): 1, ('religi', 0.0): 1, ('transform', 0.0): 2, ('period', 0.0): 1, ('divis', 0.0): 1, ('中國園林文學', 0.0): 1, ('一', 0.0): 1, ('enterpris', 1.0): 1, ('progress', 0.0): 1, ('唐詩新思路', 0.0): 1, ('tang', 0.0): 1, ('poetri', 0.0): 4, ('编剧：像导演一样编剧', 0.0): 1, ('russian', 0.0): 2, ('20th-21st', 0.0): 1, ('compos', 0.0): 1, ('richard', 0.0): 1, ('schechner', 0.0): 1, ('studi', 0.0): 1, ('at', 0.0): 1, ('civil', 0.0): 1, ('archaeolog', 0.0): 2, ('citi', 0.0): 1, ('levant', 0.0): 2, ('west', 0.0): 2, ('3rd-1st', 0.0): 1, ('bc', 0.0): 1, ('brainstorm', 1.0): 1, ('efecto', 0.0): 2, ('automatizacion', 0.0): 1, ('control', 1.0): 1, ('arch', 0.0): 1, ('titu', 0.0): 1, ('rome', 0.0): 1, ('menorah', 0.0): 1, ('antisemitismo', 0.0): 1, ('desd', 0.0): 1, ('orígen', 0.0): 1, ('present', 0.0): 2, ('mind', 1.0): 1, ('map', 1.0): 1, ('coggl', 1.0): 1, ('movement', 0.0): 1, ('luther', 0.0): 1, ('composición', 0.0): 2, ('商管研究中的賽局分析（一）：通路選擇、合約制定與共享經濟', 1.0): 1, ('convers', 0.0): 1, ('weav', 0.0): 1, ('knowledg', 0.0): 1, ('africa', 0.0): 1, ('great', 1.0): 2, ('part', 1.0): 2, ('basic', 0.0): 4, ('inequ', 0.0): 1, ('democraci', 0.0): 1, ('understand', 1.0): 1, ('основы', 0.0): 1, ('графического', 0.0): 1, ('дизайна', 0.0): 1, ('現代文學導讀：詩、散文、小說', 0.0): 1, ('紅樓夢', 0.0): 1, ('الكتابة', 1.0): 1, ('مجال', 1.0): 1, ('الأعمال', 1.0): 1, ('cv', 1.0): 1, ('retail', 1.0): 1, ('servic', 1.0): 1, ('magic', 0.0): 1, ('worth', 0.0): 1, ('deutsch', 1.0): 1, ('good', 1.0): 2, ('《论语》的智慧', 0.0): 1, ('medit', 0.0): 1, ('achiev', 0.0): 1, ('goal', 0.0): 1, ('comic', 0.0): 1, ('book', 0.0): 1, ('project-cent', 0.0): 2, ('cours', 0.0): 2, ('air', 0.0): 1, ('mobil', 0.0): 1, ('微影人的自我修养', 0.0): 1, ('crear', 0.0): 2, ('presentacion', 0.0): 1, ('usando', 0.0): 2, ('rehears', 0.0): 1, ('ensembl', 0.0): 1, ('東亞儒學：孟子二', 0.0): 1, ('pro', 0.0): 1, ('tool', 0.0): 1, ('pharaoh', 0.0): 1, ('ux', 0.0): 2, ('food', 0.0): 1, ('ethic', 0.0): 2, ('intuit', 1.0): 1, ('academi', 1.0): 1, ('destruct', 0.0): 1, ('european', 0.0): 1, ('jewri', 0.0): 1, ('python', 1.0): 2, ('做商管程式設計（一）', 1.0): 1, ('inquiri', 0.0): 1, ('israel', 0.0): 3, ('from', 0.0): 2, ('21st', 0.0): 1, ('thought', 0.0): 2, ('song', 0.0): 1, ('jin', 0.0): 1, ('yuan', 0.0): 1, ('史記', 0.0): 1, ('shi', 0.0): 1, ('ji', 0.0): 1, ('《新教伦理与资本主义精神》导读', 0.0): 1, ('project', 0.0): 2, ('presenc', 1.0): 1, ('prehistórico', 0.0): 1, ('renacimiento', 0.0): 1, ('lifecycl', 1.0): 1, ('journal', 0.0): 1, ('script', 0.0): 1, ('pilot', 0.0): 1, ('episod', 0.0): 1, ('tv', 0.0): 1, ('seri', 0.0): 1, ('哲学导论（中文版）', 0.0): 1, ('circular', 1.0): 1, ('portuguê', 1.0): 1, ('ident', 0.0): 1, ('fl', 0.0): 1, ('marca', 0.0): 1, ('south', 0.0): 1, ('it', 0.0): 2, ('cancion', 0.0): 1, ('imagemak', 0.0): 1, ('epistem', 0.0): 1, ('quest', 0.0): 1, ('truth', 0.0): 1, ('epistemolog', 0.0): 1, ('can', 0.0): 1, ('365', 1.0): 1, ('magna', 0.0): 1, ('carta', 0.0): 1, ('legaci', 0.0): 1, ('freedom', 0.0): 2, ('cognit', 0.0): 1, ('商务英语课程', 1.0): 1, ('displac', 0.0): 1, ('protect', 0.0): 1, ('relationship', 1.0): 1, ('america', 0.0): 1, ('foreign', 0.0): 1, ('eye', 0.0): 1, ('talli', 1.0): 1, ('introduc', 1.0): 1, ('yourself', 1.0): 1, ('set', 1.0): 1, ('romeo', 0.0): 1, ('juliet', 0.0): 1, ('actor', 0.0): 1, ('overview', 0.0): 2, ('“', 0.0): 1, ('modpo', 0.0): 1, ('”', 0.0): 1, ('plagu', 0.0): 1, ('witch', 0.0): 1, ('fiction', 0.0): 1, ('françai', 1.0): 1, ('beginn', 0.0): 1, ('medio', 0.0): 1, ('build', 0.0): 2, ('fund', 0.0): 1, ('meet', 1.0): 1, ('programación', 0.0): 2, ('elemento', 0.0): 1, ('melódico', 0.0): 1, ('aleatoriedad', 0.0): 1, ('find', 0.0): 1, ('confid', 0.0): 1, ('impact', 0.0): 1, ('benjamin', 0.0): 1, ('franklin', 0.0): 1, ('youtub', 1.0): 1, ('wareh', 1.0): 2, ('sovereign', 0.0): 1, ('chart', 1.0): 1, ('connect', 1.0): 2, ('journalist', 0.0): 1, ('talmud', 0.0): 1, ('methodolog', 0.0): 1, ('artifici', 1.0): 1, ('research', 0.0): 1, ('teoria', 0.0): 1, ('physic', 0.0): 1, ('ground', 0.0): 1, ('picmonkey', 1.0): 1, ('there', 0.0): 1, ('go', 0.0): 1, ('beyond', 0.0): 1, ('desarrollando', 0.0): 1, ('definit', 1.0): 1, ('databas', 1.0): 1, ('respons', 1.0): 1, ('sharpen', 0.0): 1, ('vision', 0.0): 1, ('workshop', 0.0): 1, ('amor', 0.0): 1, ('network', 1.0): 1, ('calvin', 0.0): 1, ('histoir', 0.0): 1, ('réception', 0.0): 1, (\"d'une\", 0.0): 1, ('réform', 0.0): 1, ('fashion', 0.0): 1, ('asia', 0.0): 1, ('orient', 0.0): 1, ('s.', 0.0): 1, ('xx', 0.0): 1, ('foundat', 0.0): 1, ('race', 0.0): 1, ('gender', 0.0): 1, ('initi', 1.0): 1, ('mastertrack', 0.0): 1, ('certif', 0.0): 1, ('program', 0.0): 2, ('workflow', 1.0): 1, ('prioriti', 1.0): 1, ('ingest', 1.0): 1, ('is', 1.0): 1, ('predict', 1.0): 1, ('lenin', 0.0): 1, ('putin', 0.0): 1, ('structur', 1.0): 1, ('frame', 1.0): 1, ('postmodern', 0.0): 1, ('empathi', 0.0): 1, ('six', 1.0): 1, ('sigma', 1.0): 1, ('belt', 1.0): 1, ('artist', 0.0): 1, ('interdisciplinari', 0.0): 1, ('alfabetização', 0.0): 1, ('midiática', 0.0): 1, ('informacion', 0.0): 1, ('diálogo', 0.0): 1, ('intercultur', 0.0): 1, ('unesco', 0.0): 1, ('unicamp', 0.0): 1, ('introduzion', 0.0): 1, (\"dell'architettura\", 0.0): 1, ('contemporanea', 0.0): 1, ('4', 0.0): 1, ('comput', 0.0): 1, ('purpos', 0.0): 1, ('canada', 0.0): 1, ('rooseveltian', 0.0): 1, ('águila', 0.0): 1, ('nopal', 0.0): 1, ('¿la', 0.0): 1, ('serpient', 0.0): 1, ('all', 0.0): 1, ('origini', 0.0): 1, ('civiltà', 0.0): 1, ('mediterranea', 0.0): 1, ('città', 0.0): 1, ('occident', 0.0): 1, ('iii-i', 0.0): 1, ('millennio', 0.0): 1, ('a.c', 0.0): 1, ('ecologi', 0.0): 1, ('politiqu', 0.0): 1, ('défi', 0.0): 1, ('durabilité', 0.0): 1, ('démocrati', 0.0): 1, ('coexist', 0.0): 1, ('spain', 0.0): 1, ('muslim', 0.0): 1, ('util', 0.0): 1, ('equal', 0.0): 1, ('antisemit', 0.0): 1, ('put', 1.0): 1, ('it', 1.0): 1, ('all', 1.0): 1, ('togeth', 1.0): 1, ('diy', 0.0): 1, ('beginn', 1.0): 1, ('posit', 1.0): 1, ('psycholog', 1.0): 1, ('languag', 0.0): 1, ('mean', 0.0): 1, ('success', 0.0): 1, ('find', 1.0): 1, ('audienc', 1.0): 1, ('interest', 1.0): 1, ('work', 0.0): 1, ('train', 1.0): 1, ('inbound', 1.0): 1, ('hebrew', 0.0): 1, ('שירה', 0.0): 1, ('עברית', 0.0): 1, ('מודרנית', 0.0): 1, ('masteri', 1.0): 1, ('perspect', 1.0): 1, ('deduct', 0.0): 1, ('websit', 1.0): 1, ('weebli', 1.0): 1, ('composição', 0.0): 1, ('escrevendo', 0.0): 1, ('letra', 0.0): 1, ('outsourc', 1.0): 1, ('hospit', 1.0): 1, ('through', 1.0): 1, ('break', 1.0): 1, ('repeat', 1.0): 1, ('experi', 1.0): 1, ('group', 1.0): 1, ('competit', 1.0): 1, ('vr', 0.0): 1, ('360', 0.0): 1, ('when', 0.0): 1, ('disast', 0.0): 1, ('meet', 0.0): 1, ('mercadeo', 1.0): 1, ('avènement', 0.0): 1, ('christianism', 0.0): 1, ('archéologi', 0.0): 1, ('dernier', 0.0): 1, ('païen', 0.0): 1}\n"
     ]
    }
   ],
   "source": [
    "# frequency dictionary\n",
    "print(freqs)"
   ]
  },
  {
   "cell_type": "code",
   "execution_count": 13,
   "metadata": {},
   "outputs": [
    {
     "name": "stdout",
     "output_type": "stream",
     "text": [
      "In science titles, 'science' is repeated 2 times\n",
      "In humanities titles, 'science' is repeated 15 time\n"
     ]
    }
   ],
   "source": [
    "print(f\"In science titles, 'science' is repeated {freqs[('scienc', 1.0)]} times\")\n",
    "print(f\"In humanities titles, 'science' is repeated {freqs[('scienc', 0.0)]} time\")"
   ]
  },
  {
   "cell_type": "markdown",
   "metadata": {},
   "source": [
    "# 2. Frequency table: \n",
    "We will use this for our titles and len(freqs) = 1341"
   ]
  },
  {
   "cell_type": "code",
   "execution_count": 14,
   "metadata": {},
   "outputs": [
    {
     "name": "stdout",
     "output_type": "stream",
     "text": [
      "['financi', 'market']\n"
     ]
    },
    {
     "data": {
      "text/plain": [
       "[['financi', 8, 0], ['market', 18, 1]]"
      ]
     },
     "execution_count": 14,
     "metadata": {},
     "output_type": "execute_result"
    }
   ],
   "source": [
    "new_course = \"Financial Markets\"\n",
    "p = fun.preprocessing(new_course)\n",
    "print(p)\n",
    "\n",
    "# list representing our table of word counts.\n",
    "data = []\n",
    "\n",
    "# loop through our selected words\n",
    "for word in p:\n",
    "    # initialize science and humanities counts\n",
    "    sci = 0\n",
    "    hum = 0\n",
    "    # retrieve number of science counts\n",
    "    if (word, 1) in freqs:\n",
    "        sci = freqs[(word, 1)]\n",
    "    # retrieve number of humanities counts\n",
    "    if (word, 0) in freqs:\n",
    "        hum = freqs[(word, 0)]\n",
    "    # append the word counts to the table\n",
    "    data.append([word, sci, hum])\n",
    "    \n",
    "data"
   ]
  },
  {
   "cell_type": "markdown",
   "metadata": {},
   "source": [
    "## 3. Training Your Model"
   ]
  },
  {
   "cell_type": "code",
   "execution_count": 15,
   "metadata": {},
   "outputs": [],
   "source": [
    "# Collect the features 'x' and stack them into a matrix 'X'\n",
    "X = np.zeros((len(train_x), 3))\n",
    "\n",
    "for i in range(len(train_x)):\n",
    "    X[i, :] = fun.extract_features(train_x[i], freqs)\n",
    "\n",
    "# Training labels corresponding to X\n",
    "Y = train_y"
   ]
  },
  {
   "cell_type": "code",
   "execution_count": 16,
   "metadata": {},
   "outputs": [
    {
     "data": {
      "text/plain": [
       "(754, 3)"
      ]
     },
     "execution_count": 16,
     "metadata": {},
     "output_type": "execute_result"
    }
   ],
   "source": [
    "X.shape"
   ]
  },
  {
   "cell_type": "code",
   "execution_count": 17,
   "metadata": {},
   "outputs": [
    {
     "name": "stdout",
     "output_type": "stream",
     "text": [
      "Iteration 0: Cost = 0.3695666140500117\n",
      "Iteration 1: Cost = 0.32486437007778296\n",
      "Iteration 2: Cost = 0.2995205994962493\n",
      "Iteration 3: Cost = 0.2828838627069439\n",
      "Iteration 4: Cost = 0.27091500398883483\n",
      "Iteration 5: Cost = 0.26176125406137307\n",
      "Iteration 6: Cost = 0.2544509682364119\n",
      "Iteration 7: Cost = 0.2484232664086327\n",
      "Iteration 8: Cost = 0.24333034786743238\n",
      "Iteration 9: Cost = 0.23894423108681603\n",
      "Iteration 10: Cost = 0.23510868566840992\n",
      "Iteration 11: Cost = 0.2317126723092135\n",
      "Iteration 12: Cost = 0.22867482141609\n",
      "Iteration 13: Cost = 0.22593393447727012\n",
      "Iteration 14: Cost = 0.22344294169729306\n",
      "Iteration 15: Cost = 0.22116492899726278\n",
      "Iteration 16: Cost = 0.21907044965459319\n",
      "Iteration 17: Cost = 0.21713565880198044\n",
      "Iteration 18: Cost = 0.21534098966892504\n",
      "Iteration 19: Cost = 0.2136701952755955\n",
      "Iteration 20: Cost = 0.21210964208514296\n",
      "Iteration 21: Cost = 0.2106477808140179\n",
      "Iteration 22: Cost = 0.2092747440483361\n",
      "Iteration 23: Cost = 0.20798203611512275\n",
      "Iteration 24: Cost = 0.20676229108041358\n",
      "Iteration 25: Cost = 0.2056090817515945\n",
      "Iteration 26: Cost = 0.20451676735119795\n",
      "Iteration 27: Cost = 0.20348037085653325\n",
      "Iteration 28: Cost = 0.20249547934482537\n",
      "Iteration 29: Cost = 0.20155816235936957\n",
      "Iteration 30: Cost = 0.20066490452498728\n",
      "Iteration 31: Cost = 0.19981254952920216\n",
      "Iteration 32: Cost = 0.19899825324321294\n",
      "Iteration 33: Cost = 0.19821944424882143\n",
      "Iteration 34: Cost = 0.19747379040930121\n",
      "Iteration 35: Cost = 0.19675917040571902\n",
      "Iteration 36: Cost = 0.1960736493783387\n",
      "Iteration 37: Cost = 0.19541545798187374\n",
      "Iteration 38: Cost = 0.19478297429555086\n",
      "Iteration 39: Cost = 0.19417470813301618\n",
      "Iteration 40: Cost = 0.19358928737961556\n",
      "Iteration 41: Cost = 0.19302544605039476\n",
      "Iteration 42: Cost = 0.19248201381503025\n",
      "Iteration 43: Cost = 0.1919579067785693\n",
      "Iteration 44: Cost = 0.1914521193415186\n",
      "Iteration 45: Cost = 0.19096371699113374\n",
      "Iteration 46: Cost = 0.1904918298989765\n",
      "Iteration 47: Cost = 0.19003564721894917\n",
      "Iteration 48: Cost = 0.1895944119958972\n",
      "Iteration 49: Cost = 0.189167416608045\n",
      "Iteration 50: Cost = 0.18875399867757436\n",
      "Iteration 51: Cost = 0.1883535373928978\n",
      "Iteration 52: Cost = 0.187965450193964\n",
      "Iteration 53: Cost = 0.18758918977852637\n",
      "Iteration 54: Cost = 0.1872242413928713\n",
      "Iteration 55: Cost = 0.18687012037527279\n",
      "Iteration 56: Cost = 0.18652636992449148\n",
      "Iteration 57: Cost = 0.1861925590690939\n",
      "Iteration 58: Cost = 0.18586828081637424\n",
      "Iteration 59: Cost = 0.1855531504622221\n",
      "Iteration 60: Cost = 0.18524680404550478\n",
      "Iteration 61: Cost = 0.18494889693243413\n",
      "Iteration 62: Cost = 0.18465910251810502\n",
      "Iteration 63: Cost = 0.18437711103379414\n",
      "Iteration 64: Cost = 0.18410262844990802\n",
      "Iteration 65: Cost = 0.18383537546557704\n",
      "Iteration 66: Cost = 0.18357508657685406\n",
      "Iteration 67: Cost = 0.18332150921634077\n",
      "Iteration 68: Cost = 0.18307440295779853\n",
      "Iteration 69: Cost = 0.18283353878000475\n",
      "Iteration 70: Cost = 0.1825986983846477\n",
      "Iteration 71: Cost = 0.18236967356362188\n",
      "Iteration 72: Cost = 0.18214626561150885\n",
      "Iteration 73: Cost = 0.18192828477946918\n",
      "Iteration 74: Cost = 0.1817155497670992\n",
      "Iteration 75: Cost = 0.18150788724918307\n",
      "Iteration 76: Cost = 0.1813051314344972\n",
      "Iteration 77: Cost = 0.18110712365414494\n",
      "Iteration 78: Cost = 0.18091371197708048\n",
      "Iteration 79: Cost = 0.180724750850724\n",
      "Iteration 80: Cost = 0.18054010076475827\n",
      "Iteration 81: Cost = 0.18035962793633317\n",
      "Iteration 82: Cost = 0.18018320401508303\n",
      "Iteration 83: Cost = 0.18001070580650308\n",
      "Iteration 84: Cost = 0.17984201501233657\n",
      "Iteration 85: Cost = 0.17967701798675542\n",
      "Iteration 86: Cost = 0.1795156055071859\n",
      "Iteration 87: Cost = 0.17935767255877214\n",
      "Iteration 88: Cost = 0.17920311813151923\n",
      "Iteration 89: Cost = 0.17905184502921756\n",
      "Iteration 90: Cost = 0.1789037596893929\n",
      "Iteration 91: Cost = 0.17875877201349394\n",
      "Iteration 92: Cost = 0.17861679520665255\n",
      "Iteration 93: Cost = 0.17847774562637933\n",
      "Iteration 94: Cost = 0.17834154263962235\n",
      "Iteration 95: Cost = 0.17820810848762797\n",
      "Iteration 96: Cost = 0.1780773681581372\n",
      "Iteration 97: Cost = 0.17794924926437908\n",
      "Iteration 98: Cost = 0.17782368193055306\n",
      "Iteration 99: Cost = 0.1777005986832847\n",
      "Iteration 100: Cost = 0.17757993434872454\n",
      "Iteration 101: Cost = 0.17746162595500375\n",
      "Iteration 102: Cost = 0.17734561263960547\n",
      "Iteration 103: Cost = 0.17723183556147432\n",
      "Iteration 104: Cost = 0.17712023781751926\n",
      "Iteration 105: Cost = 0.1770107643632632\n",
      "Iteration 106: Cost = 0.17690336193738868\n",
      "Iteration 107: Cost = 0.17679797899000635\n",
      "Iteration 108: Cost = 0.17669456561432717\n",
      "Iteration 109: Cost = 0.17659307348171185\n",
      "Iteration 110: Cost = 0.1764934557796792\n",
      "Iteration 111: Cost = 0.17639566715298327\n",
      "Iteration 112: Cost = 0.17629966364730815\n",
      "Iteration 113: Cost = 0.17620540265568646\n",
      "Iteration 114: Cost = 0.17611284286730305\n",
      "Iteration 115: Cost = 0.17602194421865033\n",
      "Iteration 116: Cost = 0.17593266784696474\n",
      "Iteration 117: Cost = 0.17584497604562765\n",
      "Iteration 118: Cost = 0.17575883222165478\n",
      "Iteration 119: Cost = 0.1756742008550171\n",
      "Iteration 120: Cost = 0.17559104745974025\n",
      "Iteration 121: Cost = 0.17550933854673942\n",
      "Iteration 122: Cost = 0.17542904158819164\n",
      "Iteration 123: Cost = 0.17535012498350075\n",
      "Iteration 124: Cost = 0.1752725580266507\n",
      "Iteration 125: Cost = 0.17519631087496787\n",
      "Iteration 126: Cost = 0.1751213545191943\n",
      "Iteration 127: Cost = 0.1750476607547756\n",
      "Iteration 128: Cost = 0.17497520215440526\n",
      "Iteration 129: Cost = 0.1749039520415372\n",
      "Iteration 130: Cost = 0.1748338844651903\n",
      "Iteration 131: Cost = 0.17476497417559142\n",
      "Iteration 132: Cost = 0.17469719660086303\n",
      "Iteration 133: Cost = 0.174630527824702\n",
      "Iteration 134: Cost = 0.17456494456476604\n",
      "Iteration 135: Cost = 0.17450042415211478\n",
      "Iteration 136: Cost = 0.17443694451131464\n",
      "Iteration 137: Cost = 0.17437448414133624\n",
      "Iteration 138: Cost = 0.17431302209727284\n",
      "Iteration 139: Cost = 0.17425253797258705\n",
      "Iteration 140: Cost = 0.1741930118822317\n",
      "Iteration 141: Cost = 0.174134424446251\n",
      "Iteration 142: Cost = 0.17407675677408993\n",
      "Iteration 143: Cost = 0.17401999044939595\n",
      "Iteration 144: Cost = 0.17396410751548116\n",
      "Iteration 145: Cost = 0.17390909046131042\n",
      "Iteration 146: Cost = 0.17385492220783666\n",
      "Iteration 147: Cost = 0.17380158609513185\n",
      "Iteration 148: Cost = 0.1737490658696808\n",
      "Iteration 149: Cost = 0.17369734567228143\n",
      "Iteration 150: Cost = 0.1736464100263975\n",
      "Iteration 151: Cost = 0.17359624382684777\n",
      "Iteration 152: Cost = 0.17354683232894952\n",
      "Iteration 153: Cost = 0.1734981611379524\n",
      "Iteration 154: Cost = 0.17345021619902862\n",
      "Iteration 155: Cost = 0.1734029837873147\n",
      "Iteration 156: Cost = 0.17335645049864082\n",
      "Iteration 157: Cost = 0.173310603240216\n",
      "Iteration 158: Cost = 0.17326542922197213\n",
      "Iteration 159: Cost = 0.1732209159479914\n",
      "Iteration 160: Cost = 0.17317705120824112\n",
      "Iteration 161: Cost = 0.17313382307057762\n",
      "Iteration 162: Cost = 0.17309121987320114\n",
      "Iteration 163: Cost = 0.17304923021701224\n",
      "Iteration 164: Cost = 0.17300784295859617\n",
      "Iteration 165: Cost = 0.17296704720314346\n",
      "Iteration 166: Cost = 0.172926832297723\n",
      "Iteration 167: Cost = 0.17288718782479925\n",
      "Iteration 168: Cost = 0.17284810359593739\n",
      "Iteration 169: Cost = 0.17280956964558403\n",
      "Iteration 170: Cost = 0.17277157622532202\n",
      "Iteration 171: Cost = 0.17273411379794307\n",
      "Iteration 172: Cost = 0.17269717303203472\n",
      "Iteration 173: Cost = 0.17266074479659366\n",
      "Iteration 174: Cost = 0.1726248201557513\n",
      "Iteration 175: Cost = 0.172589390363769\n",
      "Iteration 176: Cost = 0.17255444686013746\n",
      "Iteration 177: Cost = 0.1725199812647995\n",
      "Iteration 178: Cost = 0.17248598537361534\n",
      "Iteration 179: Cost = 0.1724524511538203\n",
      "Iteration 180: Cost = 0.17241937073977248\n",
      "Iteration 181: Cost = 0.17238673642875632\n",
      "Iteration 182: Cost = 0.17235454067680056\n",
      "Iteration 183: Cost = 0.17232277609488764\n",
      "Iteration 184: Cost = 0.17229143544491562\n",
      "Iteration 185: Cost = 0.1722605116362265\n",
      "Iteration 186: Cost = 0.17222999772176395\n",
      "Iteration 187: Cost = 0.17219988689471818\n",
      "Iteration 188: Cost = 0.1721701724850332\n",
      "Iteration 189: Cost = 0.17214084795611825\n",
      "Iteration 190: Cost = 0.17211190690170208\n",
      "Iteration 191: Cost = 0.17208334304256787\n",
      "Iteration 192: Cost = 0.1720551502236141\n",
      "Iteration 193: Cost = 0.1720273224109629\n",
      "Iteration 194: Cost = 0.17199985368893678\n",
      "Iteration 195: Cost = 0.17197273825742473\n",
      "Iteration 196: Cost = 0.17194597042907833\n",
      "Iteration 197: Cost = 0.17191954462669662\n",
      "Iteration 198: Cost = 0.17189345538071998\n",
      "Iteration 199: Cost = nan\n",
      "The cost after training is nan.\n",
      "The resulting vector of weights is [-0.01950578, 0.06079427, -0.1753051]\n"
     ]
    },
    {
     "name": "stderr",
     "output_type": "stream",
     "text": [
      "/Users/marta/Documents/a_Data Path/DATA_SCIENCE/3_Coursera_Project_INPROGRESS/Coursera_NLP/functions.py:105: RuntimeWarning: divide by zero encountered in log\n",
      "  J = -1./m * (np.dot(y.T, np.log(h)) + np.dot((1-y).T, np.log(1-h)))\n"
     ]
    },
    {
     "data": {
      "image/png": "[encoded data removed]",
      "text/plain": [
       "<Figure size 640x480 with 1 Axes>"
      ]
     },
     "metadata": {},
     "output_type": "display_data"
    }
   ],
   "source": [
    "# Initialize arrays to store cost and iteration values\n",
    "costs = []\n",
    "iterations = []\n",
    "\n",
    "# Initialize theta outside the loop\n",
    "theta = np.zeros((3, 1))\n",
    "\n",
    "# Apply gradient descent\n",
    "for iteration in range(200):\n",
    "    J, theta = fun.gradientDescent(X, Y, theta, 1e-5, 200)\n",
    "    costs.append(J)\n",
    "    iterations.append(iteration)\n",
    "    print(f\"Iteration {iteration}: Cost = {J}\")\n",
    "\n",
    "print(f\"The cost after training is {J:.8f}.\")\n",
    "print(f\"The resulting vector of weights is {[round(t, 8) for t in np.squeeze(theta)]}\")\n",
    "\n",
    "# Plot cost vs iterations\n",
    "plt.plot(iterations, costs)\n",
    "plt.xlabel('Iterations')\n",
    "plt.ylabel('Cost')\n",
    "plt.title('Cost vs Iterations')\n",
    "plt.show()\n"
   ]
  },
  {
   "cell_type": "code",
   "execution_count": 18,
   "metadata": {},
   "outputs": [
    {
     "data": {
      "text/html": [
       "<div>\n",
       "<style scoped>\n",
       "    .dataframe tbody tr th:only-of-type {\n",
       "        vertical-align: middle;\n",
       "    }\n",
       "\n",
       "    .dataframe tbody tr th {\n",
       "        vertical-align: top;\n",
       "    }\n",
       "\n",
       "    .dataframe thead th {\n",
       "        text-align: right;\n",
       "    }\n",
       "</style>\n",
       "<table border=\"1\" class=\"dataframe\">\n",
       "  <thead>\n",
       "    <tr style=\"text-align: right;\">\n",
       "      <th></th>\n",
       "      <th>bias</th>\n",
       "      <th>scince</th>\n",
       "      <th>humanities</th>\n",
       "      <th>type</th>\n",
       "    </tr>\n",
       "    <tr>\n",
       "      <th>course</th>\n",
       "      <th></th>\n",
       "      <th></th>\n",
       "      <th></th>\n",
       "      <th></th>\n",
       "    </tr>\n",
       "  </thead>\n",
       "  <tbody>\n",
       "    <tr>\n",
       "      <th>Create a Business Model Canvas with Mural</th>\n",
       "      <td>1.0</td>\n",
       "      <td>349.0</td>\n",
       "      <td>9.0</td>\n",
       "      <td>1.0</td>\n",
       "    </tr>\n",
       "    <tr>\n",
       "      <th>International B2B (Business to Business) Marketing</th>\n",
       "      <td>1.0</td>\n",
       "      <td>617.0</td>\n",
       "      <td>9.0</td>\n",
       "      <td>1.0</td>\n",
       "    </tr>\n",
       "    <tr>\n",
       "      <th>Real-World Cloud PM 1 of 3: Cloud Business and Technology</th>\n",
       "      <td>1.0</td>\n",
       "      <td>319.0</td>\n",
       "      <td>8.0</td>\n",
       "      <td>1.0</td>\n",
       "    </tr>\n",
       "    <tr>\n",
       "      <th>Create Successful Pinterest Pins for Business in Canva</th>\n",
       "      <td>1.0</td>\n",
       "      <td>341.0</td>\n",
       "      <td>10.0</td>\n",
       "      <td>1.0</td>\n",
       "    </tr>\n",
       "    <tr>\n",
       "      <th>Creating a Business Value with Data and Looker 日本語版 Specialization</th>\n",
       "      <td>1.0</td>\n",
       "      <td>424.0</td>\n",
       "      <td>31.0</td>\n",
       "      <td>1.0</td>\n",
       "    </tr>\n",
       "  </tbody>\n",
       "</table>\n",
       "</div>"
      ],
      "text/plain": [
       "                                                    bias  scince  humanities  \\\n",
       "course                                                                         \n",
       "Create a Business Model Canvas with Mural            1.0   349.0         9.0   \n",
       "International B2B (Business to Business) Marketing   1.0   617.0         9.0   \n",
       "Real-World Cloud PM 1 of 3: Cloud Business and ...   1.0   319.0         8.0   \n",
       "Create Successful Pinterest Pins for Business i...   1.0   341.0        10.0   \n",
       "Creating a Business Value with Data and Looker ...   1.0   424.0        31.0   \n",
       "\n",
       "                                                    type  \n",
       "course                                                    \n",
       "Create a Business Model Canvas with Mural            1.0  \n",
       "International B2B (Business to Business) Marketing   1.0  \n",
       "Real-World Cloud PM 1 of 3: Cloud Business and ...   1.0  \n",
       "Create Successful Pinterest Pins for Business i...   1.0  \n",
       "Creating a Business Value with Data and Looker ...   1.0  "
      ]
     },
     "execution_count": 18,
     "metadata": {},
     "output_type": "execute_result"
    }
   ],
   "source": [
    "df_train_x = pd.DataFrame(X)\n",
    "df_train_x[\"type\"] = train_y\n",
    "df_train_x[\"course\"] = train_x\n",
    "df_train_x.set_index([\"course\"], inplace = True) \n",
    "df_train_x.rename(columns={0:\"bias\", 1:\"scince\", 2:\"humanities\"}, inplace = True)\n",
    "\n",
    "df_train_x.head()"
   ]
  },
  {
   "cell_type": "markdown",
   "metadata": {},
   "source": [
    "### 3.1. Prediction"
   ]
  },
  {
   "cell_type": "code",
   "execution_count": 19,
   "metadata": {},
   "outputs": [
    {
     "name": "stdout",
     "output_type": "stream",
     "text": [
      "[[0.99999999]] -> Sports Business Analysis is a course about science\n"
     ]
    }
   ],
   "source": [
    "new_course = \"Sports Business Analysis\"\n",
    "#new_course = \"Children in Primary Education\" \n",
    "#new_course = \"Writing the best essay for university interviews about education\"\n",
    "\n",
    "y_hat = fun.predict_title(new_course, freqs, theta)\n",
    "if y_hat < 0.5:\n",
    "    print(f\"{y_hat} -> {new_course} is a course about humanities\")\n",
    "else:\n",
    "    print(f\"{y_hat} -> {new_course} is a course about science\")"
   ]
  },
  {
   "cell_type": "markdown",
   "metadata": {},
   "source": [
    "### 3.2 -  Checking the Performance using the Test Set\n",
    "* Given the test data and the weights of the trained model, we calculate the accuracy of the logistic regression model. "
   ]
  },
  {
   "cell_type": "code",
   "execution_count": 20,
   "metadata": {},
   "outputs": [
    {
     "name": "stdout",
     "output_type": "stream",
     "text": [
      "Logistic regression model's accuracy = 0.9683\n"
     ]
    }
   ],
   "source": [
    "accuracy = fun.test_logistic_regression(test_x, test_y, freqs, theta)\n",
    "print(f\"Logistic regression model's accuracy = {accuracy:.4f}\")"
   ]
  },
  {
   "cell_type": "code",
   "execution_count": 21,
   "metadata": {},
   "outputs": [
    {
     "name": "stdout",
     "output_type": "stream",
     "text": [
      "Label Predicted Course\n",
      "THE row IS: The Science of Success: What Researchers Know that You Should Know\n",
      "THE PROCESSED row IS: ['the', 'scienc', 'success', 'what', 'research', 'know', 'you', 'should', 'know']\n",
      "1\t0.00000654\tb'the scienc success what research know you should know'\n",
      "THE row IS: Fundamentos de Finanzas Empresariales \n",
      "THE PROCESSED row IS: ['fundamento', 'finanza', 'empresarial']\n",
      "1\t0.49512371\tb'fundamento finanza empresarial'\n"
     ]
    },
    {
     "name": "stderr",
     "output_type": "stream",
     "text": [
      "/var/folders/np/2h53vflx42jd3w_yxn33bvv40000gn/T/ipykernel_77994/2796818583.py:9: DeprecationWarning: Conversion of an array with ndim > 0 to a scalar is deprecated, and will error in future. Ensure you extract a single element from your array before performing this operation. (Deprecated NumPy 1.25.)\n",
      "  print('%d\\t%0.8f\\t%s' % (y, y_hat, ' '.join(fun.preprocessing(x)).encode('ascii', 'ignore')))\n"
     ]
    },
    {
     "name": "stdout",
     "output_type": "stream",
     "text": [
      "THE row IS: Mercados financieros\n",
      "THE PROCESSED row IS: ['mercado', 'financiero']\n",
      "1\t0.49512371\tb'mercado financiero'\n",
      "THE row IS: Corporate Sustainability. Understanding and Seizing the Strategic Opportunity \n",
      "THE PROCESSED row IS: ['corpor', 'sustain', 'understand', 'seiz', 'strateg', 'opportun']\n",
      "1\t0.20223192\tb'corpor sustain understand seiz strateg opportun'\n",
      "THE row IS: Become a Journalist: Report the News! Specialization\n",
      "THE PROCESSED row IS: ['becom', 'journalist', 'report', 'new', 'special']\n",
      "0\t0.66920354\tb'becom journalist report new special'\n",
      "THE row IS: Teaching the Violin and Viola: Creating a Healthy Foundation\n",
      "THE PROCESSED row IS: ['teach', 'violin', 'viola', 'creat', 'healthi', 'foundat']\n",
      "0\t0.74336658\tb'teach violin viola creat healthi foundat'\n"
     ]
    }
   ],
   "source": [
    "# Error analysis\n",
    "print('Label Predicted Course')\n",
    "for x,y in zip(test_x,test_y):\n",
    "    y_hat = fun.predict_title(x, freqs, theta)\n",
    "\n",
    "    if np.abs(y - (y_hat > 0.5)) > 0:\n",
    "        print('THE row IS:', x)\n",
    "        print('THE PROCESSED row IS:', fun.preprocessing(x))\n",
    "        print('%d\\t%0.8f\\t%s' % (y, y_hat, ' '.join(fun.preprocessing(x)).encode('ascii', 'ignore')))"
   ]
  },
  {
   "cell_type": "code",
   "execution_count": null,
   "metadata": {},
   "outputs": [],
   "source": []
  }
 ],
 "metadata": {
  "kernelspec": {
   "display_name": "proj3",
   "language": "python",
   "name": "python3"
  },
  "language_info": {
   "codemirror_mode": {
    "name": "ipython",
    "version": 3
   },
   "file_extension": ".py",
   "mimetype": "text/x-python",
   "name": "python",
   "nbconvert_exporter": "python",
   "pygments_lexer": "ipython3",
   "version": "3.12.2"
  }
 },
 "nbformat": 4,
 "nbformat_minor": 2
}
