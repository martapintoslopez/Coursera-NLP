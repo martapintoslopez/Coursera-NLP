{
 "cells": [
  {
   "cell_type": "code",
   "execution_count": 3,
   "metadata": {},
   "outputs": [],
   "source": [
    "import pandas as pd"
   ]
  },
  {
   "cell_type": "code",
   "execution_count": 4,
   "metadata": {},
   "outputs": [
    {
     "data": {
      "text/html": [
       "<div>\n",
       "<style scoped>\n",
       "    .dataframe tbody tr th:only-of-type {\n",
       "        vertical-align: middle;\n",
       "    }\n",
       "\n",
       "    .dataframe tbody tr th {\n",
       "        vertical-align: top;\n",
       "    }\n",
       "\n",
       "    .dataframe thead th {\n",
       "        text-align: right;\n",
       "    }\n",
       "</style>\n",
       "<table border=\"1\" class=\"dataframe\">\n",
       "  <thead>\n",
       "    <tr style=\"text-align: right;\">\n",
       "      <th></th>\n",
       "      <th>Course Title</th>\n",
       "      <th>Rating</th>\n",
       "      <th>Level</th>\n",
       "      <th>Schedule</th>\n",
       "      <th>What you will learn</th>\n",
       "      <th>Skill gain</th>\n",
       "      <th>Modules</th>\n",
       "      <th>Instructor</th>\n",
       "      <th>Offered By</th>\n",
       "      <th>Keyword</th>\n",
       "      <th>Course Url</th>\n",
       "      <th>Duration to complete (Approx.)</th>\n",
       "      <th>Number of Review</th>\n",
       "    </tr>\n",
       "  </thead>\n",
       "  <tbody>\n",
       "    <tr>\n",
       "      <th>0</th>\n",
       "      <td>Fashion as Design</td>\n",
       "      <td>4.8</td>\n",
       "      <td>Beginner level</td>\n",
       "      <td>Flexible schedule</td>\n",
       "      <td>Not specified</td>\n",
       "      <td>Art History, Art, History, Creativity</td>\n",
       "      <td>Introduction, Heroes, Silhouettes, Coutures, L...</td>\n",
       "      <td>Anna Burckhardt, Paola Antonelli, Michelle Mil...</td>\n",
       "      <td>The Museum of Modern Art</td>\n",
       "      <td>Arts and Humanities</td>\n",
       "      <td>https://www.coursera.org/learn/fashion-design</td>\n",
       "      <td>20.0</td>\n",
       "      <td>2813</td>\n",
       "    </tr>\n",
       "    <tr>\n",
       "      <th>1</th>\n",
       "      <td>Modern American Poetry</td>\n",
       "      <td>4.4</td>\n",
       "      <td>Beginner level</td>\n",
       "      <td>Flexible schedule</td>\n",
       "      <td>Not specified</td>\n",
       "      <td>Not specified</td>\n",
       "      <td>Orientation, Module 1, Module 2, Module 3, Mod...</td>\n",
       "      <td>Cary Nelson</td>\n",
       "      <td>University of Illinois at Urbana-Champaign</td>\n",
       "      <td>Arts and Humanities</td>\n",
       "      <td>https://www.coursera.org/learn/modern-american...</td>\n",
       "      <td>34.0</td>\n",
       "      <td>100</td>\n",
       "    </tr>\n",
       "    <tr>\n",
       "      <th>2</th>\n",
       "      <td>Pixel Art for Video Games</td>\n",
       "      <td>4.5</td>\n",
       "      <td>Beginner level</td>\n",
       "      <td>Flexible schedule</td>\n",
       "      <td>Not specified</td>\n",
       "      <td>Not specified</td>\n",
       "      <td>Week 1: Introduction to Pixel Art, Week 2: Pix...</td>\n",
       "      <td>Andrew Dennis, Ricardo Guimaraes</td>\n",
       "      <td>Michigan State University</td>\n",
       "      <td>Arts and Humanities</td>\n",
       "      <td>https://www.coursera.org/learn/pixel-art-video...</td>\n",
       "      <td>9.0</td>\n",
       "      <td>227</td>\n",
       "    </tr>\n",
       "    <tr>\n",
       "      <th>3</th>\n",
       "      <td>Distribución digital de la música independiente</td>\n",
       "      <td>0.0</td>\n",
       "      <td>Beginner level</td>\n",
       "      <td>Flexible schedule</td>\n",
       "      <td>Not specified</td>\n",
       "      <td>Not specified</td>\n",
       "      <td>Semana 1, Semana 2, Semana 3, Semana 4</td>\n",
       "      <td>Eduardo de la Vara Brown.</td>\n",
       "      <td>SAE Institute México</td>\n",
       "      <td>Arts and Humanities</td>\n",
       "      <td>https://www.coursera.org/learn/distribucion-di...</td>\n",
       "      <td>8.0</td>\n",
       "      <td>0</td>\n",
       "    </tr>\n",
       "    <tr>\n",
       "      <th>4</th>\n",
       "      <td>The Blues: Understanding and Performing an Ame...</td>\n",
       "      <td>4.8</td>\n",
       "      <td>Beginner level</td>\n",
       "      <td>Flexible schedule</td>\n",
       "      <td>Students will be able to describe the blues as...</td>\n",
       "      <td>Music, Chord, Jazz, Jazz Improvisation</td>\n",
       "      <td>Blues Progressions – Theory and Practice , Blu...</td>\n",
       "      <td>Dariusz Terefenko</td>\n",
       "      <td>University of Rochester</td>\n",
       "      <td>Arts and Humanities</td>\n",
       "      <td>https://www.coursera.org/learn/the-blues</td>\n",
       "      <td>11.0</td>\n",
       "      <td>582</td>\n",
       "    </tr>\n",
       "  </tbody>\n",
       "</table>\n",
       "</div>"
      ],
      "text/plain": [
       "                                        Course Title  Rating           Level  \\\n",
       "0                                  Fashion as Design     4.8  Beginner level   \n",
       "1                             Modern American Poetry     4.4  Beginner level   \n",
       "2                          Pixel Art for Video Games     4.5  Beginner level   \n",
       "3    Distribución digital de la música independiente     0.0  Beginner level   \n",
       "4  The Blues: Understanding and Performing an Ame...     4.8  Beginner level   \n",
       "\n",
       "            Schedule                                What you will learn  \\\n",
       "0  Flexible schedule                                      Not specified   \n",
       "1  Flexible schedule                                      Not specified   \n",
       "2  Flexible schedule                                      Not specified   \n",
       "3  Flexible schedule                                      Not specified   \n",
       "4  Flexible schedule  Students will be able to describe the blues as...   \n",
       "\n",
       "                               Skill gain  \\\n",
       "0   Art History, Art, History, Creativity   \n",
       "1                           Not specified   \n",
       "2                           Not specified   \n",
       "3                           Not specified   \n",
       "4  Music, Chord, Jazz, Jazz Improvisation   \n",
       "\n",
       "                                             Modules  \\\n",
       "0  Introduction, Heroes, Silhouettes, Coutures, L...   \n",
       "1  Orientation, Module 1, Module 2, Module 3, Mod...   \n",
       "2  Week 1: Introduction to Pixel Art, Week 2: Pix...   \n",
       "3             Semana 1, Semana 2, Semana 3, Semana 4   \n",
       "4  Blues Progressions – Theory and Practice , Blu...   \n",
       "\n",
       "                                          Instructor  \\\n",
       "0  Anna Burckhardt, Paola Antonelli, Michelle Mil...   \n",
       "1                                        Cary Nelson   \n",
       "2                   Andrew Dennis, Ricardo Guimaraes   \n",
       "3                          Eduardo de la Vara Brown.   \n",
       "4                                  Dariusz Terefenko   \n",
       "\n",
       "                                   Offered By              Keyword  \\\n",
       "0                    The Museum of Modern Art  Arts and Humanities   \n",
       "1  University of Illinois at Urbana-Champaign  Arts and Humanities   \n",
       "2                   Michigan State University  Arts and Humanities   \n",
       "3                        SAE Institute México  Arts and Humanities   \n",
       "4                     University of Rochester  Arts and Humanities   \n",
       "\n",
       "                                          Course Url  \\\n",
       "0      https://www.coursera.org/learn/fashion-design   \n",
       "1  https://www.coursera.org/learn/modern-american...   \n",
       "2  https://www.coursera.org/learn/pixel-art-video...   \n",
       "3  https://www.coursera.org/learn/distribucion-di...   \n",
       "4           https://www.coursera.org/learn/the-blues   \n",
       "\n",
       "   Duration to complete (Approx.)  Number of Review  \n",
       "0                            20.0              2813  \n",
       "1                            34.0               100  \n",
       "2                             9.0               227  \n",
       "3                             8.0                 0  \n",
       "4                            11.0               582  "
      ]
     },
     "execution_count": 4,
     "metadata": {},
     "output_type": "execute_result"
    }
   ],
   "source": [
    "df = pd.read_csv(\"data/CourseraDataset.csv\")\n",
    "df.head(5)"
   ]
  },
  {
   "cell_type": "code",
   "execution_count": 5,
   "metadata": {},
   "outputs": [
    {
     "data": {
      "text/plain": [
       "Index(['Course Title', 'Rating', 'Level', 'Schedule', 'What you will learn',\n",
       "       'Skill gain', 'Modules', 'Instructor', 'Offered By', 'Keyword',\n",
       "       'Course Url', 'Duration to complete (Approx.)', 'Number of Review'],\n",
       "      dtype='object')"
      ]
     },
     "execution_count": 5,
     "metadata": {},
     "output_type": "execute_result"
    }
   ],
   "source": [
    "df.columns"
   ]
  },
  {
   "cell_type": "code",
   "execution_count": 6,
   "metadata": {},
   "outputs": [
    {
     "data": {
      "text/plain": [
       "0                                      Fashion as Design\n",
       "1                                 Modern American Poetry\n",
       "2                              Pixel Art for Video Games\n",
       "3        Distribución digital de la música independiente\n",
       "4      The Blues: Understanding and Performing an Ame...\n",
       "                             ...                        \n",
       "471                       Getting There and Going Beyond\n",
       "472             Leading Oneself with Purpose and Meaning\n",
       "473                        Management Communication 管理沟通\n",
       "474                        Paths to a Sustainable Future\n",
       "475                             Subsistence Marketplaces\n",
       "Name: Course Title, Length: 476, dtype: object"
      ]
     },
     "execution_count": 6,
     "metadata": {},
     "output_type": "execute_result"
    }
   ],
   "source": [
    "df[\"Course Title\"][df[\"Keyword\"]==\"Arts and Humanities\"]"
   ]
  },
  {
   "cell_type": "code",
   "execution_count": 7,
   "metadata": {},
   "outputs": [
    {
     "data": {
      "text/plain": [
       "Keyword\n",
       "Health                              986\n",
       "Computer Science                    980\n",
       "DataScience                         964\n",
       "Social Sciences                     962\n",
       "Personal Development                936\n",
       "Business                            935\n",
       "Information Technology              852\n",
       "Physical Science and Engineering    799\n",
       "Math and Logic                      480\n",
       "Arts and Humanities                 476\n",
       "Name: count, dtype: int64"
      ]
     },
     "execution_count": 7,
     "metadata": {},
     "output_type": "execute_result"
    }
   ],
   "source": [
    "df[\"Keyword\"].value_counts()\n"
   ]
  },
  {
   "cell_type": "code",
   "execution_count": 8,
   "metadata": {},
   "outputs": [
    {
     "data": {
      "text/plain": [
       "(8370, 13)"
      ]
     },
     "execution_count": 8,
     "metadata": {},
     "output_type": "execute_result"
    }
   ],
   "source": [
    "df.shape"
   ]
  },
  {
   "cell_type": "code",
   "execution_count": 9,
   "metadata": {},
   "outputs": [
    {
     "data": {
      "text/plain": [
       "(7894, 13)"
      ]
     },
     "execution_count": 9,
     "metadata": {},
     "output_type": "execute_result"
    }
   ],
   "source": [
    "df[df[\"Keyword\"] != \"Arts and Humanities\"].shape"
   ]
  },
  {
   "cell_type": "code",
   "execution_count": 10,
   "metadata": {},
   "outputs": [
    {
     "name": "stdout",
     "output_type": "stream",
     "text": [
      "<class 'pandas.core.frame.DataFrame'>\n",
      "RangeIndex: 8370 entries, 0 to 8369\n",
      "Data columns (total 13 columns):\n",
      " #   Column                          Non-Null Count  Dtype  \n",
      "---  ------                          --------------  -----  \n",
      " 0   Course Title                    8370 non-null   object \n",
      " 1   Rating                          8370 non-null   float64\n",
      " 2   Level                           8370 non-null   object \n",
      " 3   Schedule                        8370 non-null   object \n",
      " 4   What you will learn             8370 non-null   object \n",
      " 5   Skill gain                      8370 non-null   object \n",
      " 6   Modules                         8337 non-null   object \n",
      " 7   Instructor                      8282 non-null   object \n",
      " 8   Offered By                      8370 non-null   object \n",
      " 9   Keyword                         8370 non-null   object \n",
      " 10  Course Url                      8370 non-null   object \n",
      " 11  Duration to complete (Approx.)  8370 non-null   float64\n",
      " 12  Number of Review                8370 non-null   int64  \n",
      "dtypes: float64(2), int64(1), object(10)\n",
      "memory usage: 850.2+ KB\n"
     ]
    }
   ],
   "source": [
    "df.info()"
   ]
  },
  {
   "cell_type": "code",
   "execution_count": 11,
   "metadata": {},
   "outputs": [
    {
     "data": {
      "text/plain": [
       "Course Title                      0.000000\n",
       "Rating                            0.000000\n",
       "Level                             0.000000\n",
       "Schedule                          0.000000\n",
       "What you will learn               0.000000\n",
       "Skill gain                        0.000000\n",
       "Modules                           0.394265\n",
       "Instructor                        1.051374\n",
       "Offered By                        0.000000\n",
       "Keyword                           0.000000\n",
       "Course Url                        0.000000\n",
       "Duration to complete (Approx.)    0.000000\n",
       "Number of Review                  0.000000\n",
       "dtype: float64"
      ]
     },
     "execution_count": 11,
     "metadata": {},
     "output_type": "execute_result"
    }
   ],
   "source": [
    "(df.isnull().sum()/df.shape[0])*100"
   ]
  },
  {
   "cell_type": "code",
   "execution_count": 12,
   "metadata": {},
   "outputs": [
    {
     "data": {
      "text/plain": [
       "0"
      ]
     },
     "execution_count": 12,
     "metadata": {},
     "output_type": "execute_result"
    }
   ],
   "source": [
    "df['Modules'] = df['Modules'].fillna(value=\"Unknown\")\n",
    "df[\"Modules\"].isnull().sum()"
   ]
  },
  {
   "cell_type": "code",
   "execution_count": 13,
   "metadata": {},
   "outputs": [
    {
     "data": {
      "text/plain": [
       "0"
      ]
     },
     "execution_count": 13,
     "metadata": {},
     "output_type": "execute_result"
    }
   ],
   "source": [
    "df['Instructor'] = df['Instructor'].fillna(value=\"Unknown\")\n",
    "df[\"Instructor\"].isnull().sum()"
   ]
  },
  {
   "cell_type": "markdown",
   "metadata": {},
   "source": [
    "Hay algunos cursos que están duplicados con distinta Keyword (no seguían una regla concreta). Hemos ido comprobándolos en la página web de Coursera para poder limpiar y eliminar los que eran erróneos.\n",
    "Hemos cambiado la keyword de alguno y borrado los que tenían errores"
   ]
  },
  {
   "cell_type": "code",
   "execution_count": 14,
   "metadata": {},
   "outputs": [],
   "source": [
    "#Cambio Keywords\n",
    "df.loc[df[\"Course Title\"]==\"Data Manipulation at Scale: Systems and Algorithms\", \"Keyword\"] = \"DataScience\"\n",
    "#Este en concreto estaba mal su etiqueta (tenía Arts and Humanities y debía ser DataScience)\n",
    "df.loc[df[\"Course Title\"]==\"Management Communication 管理沟通\", \"Keyword\"] = \"Business\"\n",
    "#Este en concreto estaba mal su etiqueta (tenía Arts and Humanities y debía ser Business)"
   ]
  },
  {
   "cell_type": "code",
   "execution_count": 15,
   "metadata": {},
   "outputs": [
    {
     "data": {
      "text/plain": [
       "(8342, 13)"
      ]
     },
     "execution_count": 15,
     "metadata": {},
     "output_type": "execute_result"
    }
   ],
   "source": [
    "drop_rows_with_errors = [451,473,7882,1526,2061,2961,7688,6015,2148,3752,1927,3085,3035,7498,5549,469,449,458,7815,6021,3236,5692,7442,454,466,464,2594,7584]\n",
    "df.drop(drop_rows_with_errors, inplace=True)\n",
    "df.shape"
   ]
  },
  {
   "cell_type": "code",
   "execution_count": 16,
   "metadata": {},
   "outputs": [],
   "source": [
    "df.to_csv(\"data/DatasetFinal.csv\")"
   ]
  }
 ],
 "metadata": {
  "kernelspec": {
   "display_name": "NLPcurso",
   "language": "python",
   "name": "python3"
  },
  "language_info": {
   "codemirror_mode": {
    "name": "ipython",
    "version": 3
   },
   "file_extension": ".py",
   "mimetype": "text/x-python",
   "name": "python",
   "nbconvert_exporter": "python",
   "pygments_lexer": "ipython3",
   "version": "3.12.2"
  }
 },
 "nbformat": 4,
 "nbformat_minor": 2
}
